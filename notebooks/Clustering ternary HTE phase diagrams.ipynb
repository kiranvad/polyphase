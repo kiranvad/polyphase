{
 "cells": [
  {
   "cell_type": "code",
   "execution_count": 1,
   "metadata": {},
   "outputs": [],
   "source": [
    "%load_ext autoreload\n",
    "%autoreload 2\n",
    "%matplotlib inline"
   ]
  },
  {
   "cell_type": "code",
   "execution_count": 2,
   "metadata": {},
   "outputs": [],
   "source": [
    "import pickle\n",
    "import re\n",
    "import pdb\n",
    "import os\n",
    "\n",
    "import matplotlib.pyplot as plt\n",
    "\n",
    "import pandas as pd\n",
    "import numpy as np\n",
    "from matplotlib import rc\n",
    "rc('text', usetex=False)\n",
    "from matplotlib.colors import to_rgb\n",
    "\n",
    "from skimage.transform import resize\n",
    "from skimage.io import imread\n",
    "from skimage.metrics import structural_similarity as ssim\n",
    "from skimage.metrics import mean_squared_error as MSE\n",
    "\n",
    "from polyphase.parallel import get_distance_matrix\n",
    "\n",
    "# laplacian eigenmaps\n",
    "from sklearn.manifold import spectral_embedding, MDS, Isomap\n",
    "from sklearn.cluster import spectral_clustering\n",
    "from scipy.sparse import csgraph\n",
    "from scipy.linalg import eigvalsh\n",
    "\n",
    "import polyphase as phase"
   ]
  },
  {
   "cell_type": "code",
   "execution_count": 3,
   "metadata": {},
   "outputs": [
    {
     "data": {
      "text/html": [
       "<div>\n",
       "<style scoped>\n",
       "    .dataframe tbody tr th:only-of-type {\n",
       "        vertical-align: middle;\n",
       "    }\n",
       "\n",
       "    .dataframe tbody tr th {\n",
       "        vertical-align: top;\n",
       "    }\n",
       "\n",
       "    .dataframe thead th {\n",
       "        text-align: right;\n",
       "    }\n",
       "</style>\n",
       "<table border=\"1\" class=\"dataframe\">\n",
       "  <thead>\n",
       "    <tr style=\"text-align: right;\">\n",
       "      <th></th>\n",
       "      <th>solvent</th>\n",
       "      <th>SM</th>\n",
       "      <th>polymer</th>\n",
       "      <th>chi12</th>\n",
       "      <th>chi13</th>\n",
       "      <th>chi23</th>\n",
       "      <th>dop</th>\n",
       "      <th>delta_solv</th>\n",
       "      <th>delta_SM</th>\n",
       "      <th>delta_polymer</th>\n",
       "    </tr>\n",
       "  </thead>\n",
       "  <tbody>\n",
       "    <tr>\n",
       "      <th>0</th>\n",
       "      <td>Acetone</td>\n",
       "      <td>PC61BM</td>\n",
       "      <td>MDMO-PPV</td>\n",
       "      <td>0.440066</td>\n",
       "      <td>1.478520</td>\n",
       "      <td>1.90338</td>\n",
       "      <td>[1626.0162601626018, 12.410704607046071, 1]</td>\n",
       "      <td>[15.5, 10.4, 7.0]</td>\n",
       "      <td>[19.89, 5.68, 3.64]</td>\n",
       "      <td>[19.06, 5.62, 5.28]</td>\n",
       "    </tr>\n",
       "    <tr>\n",
       "      <th>1</th>\n",
       "      <td>Acetone</td>\n",
       "      <td>PC61BM</td>\n",
       "      <td>MEH-PPV</td>\n",
       "      <td>0.458907</td>\n",
       "      <td>1.532581</td>\n",
       "      <td>1.90338</td>\n",
       "      <td>[948.509485094851, 12.410704607046071, 1]</td>\n",
       "      <td>[15.5, 10.4, 7.0]</td>\n",
       "      <td>[19.89, 5.68, 3.64]</td>\n",
       "      <td>[19.06, 5.38, 5.44]</td>\n",
       "    </tr>\n",
       "    <tr>\n",
       "      <th>2</th>\n",
       "      <td>Acetone</td>\n",
       "      <td>PC61BM</td>\n",
       "      <td>P3HT</td>\n",
       "      <td>0.630290</td>\n",
       "      <td>2.719685</td>\n",
       "      <td>1.90338</td>\n",
       "      <td>[117.82726522917405, 12.410704607046071, 1]</td>\n",
       "      <td>[15.5, 10.4, 7.0]</td>\n",
       "      <td>[19.89, 5.68, 3.64]</td>\n",
       "      <td>[18.56, 2.88, 3.19]</td>\n",
       "    </tr>\n",
       "    <tr>\n",
       "      <th>3</th>\n",
       "      <td>Acetone</td>\n",
       "      <td>PC61BM</td>\n",
       "      <td>PFO</td>\n",
       "      <td>0.660927</td>\n",
       "      <td>2.507620</td>\n",
       "      <td>1.90338</td>\n",
       "      <td>[1200.4944610849618, 12.410704607046071, 1]</td>\n",
       "      <td>[15.5, 10.4, 7.0]</td>\n",
       "      <td>[19.89, 5.68, 3.64]</td>\n",
       "      <td>[18.55, 2.8, 4.51]</td>\n",
       "    </tr>\n",
       "    <tr>\n",
       "      <th>4</th>\n",
       "      <td>Acetone</td>\n",
       "      <td>PC61BM</td>\n",
       "      <td>PM6</td>\n",
       "      <td>0.468860</td>\n",
       "      <td>1.896708</td>\n",
       "      <td>1.90338</td>\n",
       "      <td>[1436.3143631436315, 12.410704607046071, 1]</td>\n",
       "      <td>[15.5, 10.4, 7.0]</td>\n",
       "      <td>[19.89, 5.68, 3.64]</td>\n",
       "      <td>[18.37, 4.36, 4.19]</td>\n",
       "    </tr>\n",
       "  </tbody>\n",
       "</table>\n",
       "</div>"
      ],
      "text/plain": [
       "   solvent      SM   polymer     chi12     chi13    chi23  \\\n",
       "0  Acetone  PC61BM  MDMO-PPV  0.440066  1.478520  1.90338   \n",
       "1  Acetone  PC61BM   MEH-PPV  0.458907  1.532581  1.90338   \n",
       "2  Acetone  PC61BM      P3HT  0.630290  2.719685  1.90338   \n",
       "3  Acetone  PC61BM       PFO  0.660927  2.507620  1.90338   \n",
       "4  Acetone  PC61BM       PM6  0.468860  1.896708  1.90338   \n",
       "\n",
       "                                           dop         delta_solv  \\\n",
       "0  [1626.0162601626018, 12.410704607046071, 1]  [15.5, 10.4, 7.0]   \n",
       "1    [948.509485094851, 12.410704607046071, 1]  [15.5, 10.4, 7.0]   \n",
       "2  [117.82726522917405, 12.410704607046071, 1]  [15.5, 10.4, 7.0]   \n",
       "3  [1200.4944610849618, 12.410704607046071, 1]  [15.5, 10.4, 7.0]   \n",
       "4  [1436.3143631436315, 12.410704607046071, 1]  [15.5, 10.4, 7.0]   \n",
       "\n",
       "              delta_SM        delta_polymer  \n",
       "0  [19.89, 5.68, 3.64]  [19.06, 5.62, 5.28]  \n",
       "1  [19.89, 5.68, 3.64]  [19.06, 5.38, 5.44]  \n",
       "2  [19.89, 5.68, 3.64]  [18.56, 2.88, 3.19]  \n",
       "3  [19.89, 5.68, 3.64]   [18.55, 2.8, 4.51]  \n",
       "4  [19.89, 5.68, 3.64]  [18.37, 4.36, 4.19]  "
      ]
     },
     "execution_count": 3,
     "metadata": {},
     "output_type": "execute_result"
    }
   ],
   "source": [
    "# load the csv file with HTE data\n",
    "allsys_df = pd.read_pickle('../expts/data/allsys_df.pkl')\n",
    "htedf = pd.read_pickle('../data/htev2.pkl')\n",
    "htedf.head()"
   ]
  },
  {
   "cell_type": "code",
   "execution_count": 4,
   "metadata": {},
   "outputs": [],
   "source": [
    "def get_batch_of_phasediags(df, smstr, polymerstr):\n",
    "    sys_df = df[(df['SM']==smstr) & (df['polymer']==polymerstr)]\n",
    "    filename_list = []\n",
    "    for _,row in sys_df.iterrows():\n",
    "        fname = '../figures/hteplotsV2/{}_{}_{}.png'.format(row['solvent'], row['SM'], row['polymer'])\n",
    "        filename_list.append(fname)\n",
    "    \n",
    "    return filename_list, sys_df\n",
    "\n",
    "def get_ssim_distance(file0, file1):\n",
    "    \"\"\" Given two image file names in file0, file1 compute distance\"\"\"\n",
    "    \n",
    "    img0 = imread(file0)\n",
    "    img1 = imread(file1)\n",
    "    img0 = resize(img0, (64,64))\n",
    "    img1 = resize(img1, (64,64))\n",
    "    d = ssim(img0, img1, multichannel=True)\n",
    "    \n",
    "    return 1-d\n",
    "\n",
    "from skimage.color import rgb2gray\n",
    "\n",
    "def get_grayscale_ssim(file0, file1):\n",
    "    img0 = imread(file0)\n",
    "    img1 = imread(file1)\n",
    "    img0 = resize(img0, (64,64))\n",
    "    img1 = resize(img1, (64,64))\n",
    "    img0= rgb2gray(img0)\n",
    "    img1= rgb2gray(img1)\n",
    "    d = ssim(img0, img1)\n",
    "    \n",
    "    return 1-d\n",
    "\n",
    "\n",
    "def get_MSE(file0, file1):\n",
    "    img0 = imread(file0)\n",
    "    img1 = imread(file1)\n",
    "    img0 = resize(img0, (64,64))\n",
    "    img1 = resize(img1, (64,64))\n",
    "    d = MSE(img0, img1)\n",
    "    return d"
   ]
  },
  {
   "cell_type": "code",
   "execution_count": 5,
   "metadata": {},
   "outputs": [
    {
     "name": "stdout",
     "output_type": "stream",
     "text": [
      "small molecules :  ['PC61BM' 'PC71BM' 'DPP(TBFu)2' 'DPP(PhTT)2' 'Y6' 'IDTBR' 'IDIC']\n",
      "polymers:  ['MDMO-PPV' 'MEH-PPV' 'P3HT' 'PFO' 'PM6' 'PTB7-Th']\n"
     ]
    }
   ],
   "source": [
    "print('small molecules : ',  htedf['SM'].unique())\n",
    "print('polymers: ', htedf['polymer'].unique())"
   ]
  },
  {
   "cell_type": "code",
   "execution_count": 6,
   "metadata": {},
   "outputs": [
    {
     "name": "stdout",
     "output_type": "stream",
     "text": [
      "Computation took 0.76s\n",
      "Computation took 0.59s\n",
      "Computation took 0.58s\n",
      "Computation took 0.44s\n",
      "Computation took 0.56s\n",
      "Computation took 0.52s\n",
      "Computation took 0.77s\n",
      "Computation took 0.43s\n",
      "Computation took 0.60s\n",
      "Computation took 0.56s\n",
      "Computation took 0.46s\n",
      "Computation took 0.43s\n",
      "Computation took 0.66s\n",
      "Computation took 0.44s\n",
      "Computation took 0.44s\n",
      "Computation took 0.74s\n",
      "Computation took 0.58s\n",
      "Computation took 0.81s\n",
      "Computation took 0.53s\n",
      "Computation took 0.55s\n",
      "Computation took 0.53s\n",
      "Computation took 0.57s\n",
      "Computation took 0.60s\n",
      "Computation took 0.53s\n",
      "Computation took 0.59s\n",
      "Computation took 0.53s\n",
      "Computation took 0.54s\n",
      "Computation took 0.52s\n",
      "Computation took 0.56s\n",
      "Computation took 0.57s\n",
      "Computation took 0.53s\n",
      "Computation took 0.54s\n",
      "Computation took 0.53s\n",
      "Computation took 0.54s\n",
      "Computation took 0.58s\n",
      "Computation took 0.58s\n",
      "Computation took 0.53s\n",
      "Computation took 0.51s\n",
      "Computation took 0.53s\n",
      "Computation took 0.53s\n",
      "Computation took 0.52s\n",
      "Computation took 0.54s\n",
      "Computation took 0.53s\n",
      "Computation took 0.53s\n",
      "Computation took 0.55s\n",
      "Computation took 0.51s\n",
      "Computation took 0.55s\n",
      "Computation took 0.54s\n",
      "Computation took 0.55s\n",
      "Computation took 0.54s\n",
      "Computation took 0.57s\n",
      "Computation took 0.56s\n",
      "Computation took 0.61s\n",
      "Computation took 0.55s\n",
      "Computation took 0.56s\n",
      "Computation took 0.54s\n",
      "Computation took 0.53s\n",
      "Computation took 0.54s\n",
      "Computation took 0.55s\n",
      "Computation took 0.60s\n",
      "Computation took 0.54s\n",
      "Computation took 0.57s\n",
      "Computation took 0.56s\n",
      "Computation took 0.57s\n",
      "Computation took 0.53s\n",
      "Computation took 0.59s\n",
      "Computation took 0.53s\n",
      "Computation took 0.52s\n",
      "Computation took 0.53s\n",
      "Computation took 0.53s\n",
      "Computation took 0.52s\n",
      "Computation took 0.52s\n",
      "Computation took 0.60s\n",
      "Computation took 0.55s\n",
      "Computation took 0.44s\n",
      "Computation took 0.44s\n",
      "Computation took 0.44s\n",
      "Computation took 0.43s\n",
      "Computation took 0.45s\n",
      "Computation took 0.43s\n",
      "Computation took 0.69s\n",
      "Computation took 0.60s\n",
      "Computation took 0.59s\n",
      "Computation took 0.53s\n",
      "Computation took 0.74s\n",
      "Computation took 0.59s\n"
     ]
    }
   ],
   "source": [
    "class Store:\n",
    "    def __init__(self):\n",
    "        self.storage = []\n",
    " \n",
    "    def save(self, array):\n",
    "        self.storage.append(array)\n",
    "        \n",
    "    def __getitem__(self,index):\n",
    "        return self.storage[index]\n",
    "    \n",
    "    def __len__(self):    \n",
    "        return len(self.storage)\n",
    "    \n",
    "smstr = 'Y6'\n",
    "polymerstr  = 'PM6'\n",
    "files, sys_df = get_batch_of_phasediags(htedf, smstr, polymerstr)\n",
    "data = Store()\n",
    "for i,row in sys_df.iterrows():\n",
    "    chi = [row['chi12'], row['chi13'], row['chi23']]\n",
    "    M = row['dop']\n",
    "    f = lambda x : phase.flory_huggins(x, M, chi)\n",
    "    engine = phase.PHASE(f,100,3)\n",
    "    engine.compute(use_parallel=False, verbose=False, lift_label=True)\n",
    "    y = engine.df.loc['label',:].to_numpy().astype('int')\n",
    "    \n",
    "    data.save(y)\n"
   ]
  },
  {
   "cell_type": "code",
   "execution_count": 7,
   "metadata": {
    "scrolled": true
   },
   "outputs": [],
   "source": [
    "from scipy.spatial.distance import pdist, squareform, hamming\n",
    "def distance_hamming(data, i,j):\n",
    "    x = data[i[0]]\n",
    "    y = data[j[0]]\n",
    "    \n",
    "    return hamming(x,y)\n",
    "\n",
    "dist = lambda x,y: distance_hamming(data,x,y)\n",
    "M = squareform(pdist(np.arange(len(data)).reshape(-1,1), dist))"
   ]
  },
  {
   "cell_type": "raw",
   "metadata": {},
   "source": [
    "# When working with a single system\n",
    "smstr = 'Y6'\n",
    "polymerstr  = 'PM6'\n",
    "files, sys_df = get_batch_of_phasediags(htedf, smstr, polymerstr)\n",
    "print('Total of {} phase diagrams'.format(len(files)))\n",
    "\n",
    "M = get_distance_matrix(files, get_MSE)"
   ]
  },
  {
   "cell_type": "raw",
   "metadata": {},
   "source": [
    "# When working with pre-computed distance matrix\n",
    "\n",
    "distmats = ['hte_distance_PC61BM_PM6_Y6_PM6.pkl', 'hte_distance_F8-NODIPS_PM6_F8-NODIPS_MDMO-PPV.pkl']\n",
    "\n",
    "use_distmat = 0\n",
    "\n",
    "with open('../expts/data/'+distmats[use_distmat], 'rb') as handle:\n",
    "    out = pickle.load(handle)\n",
    "    \n",
    "sys_df = out['df'].reset_index(drop=True)\n",
    "M = out['M']"
   ]
  },
  {
   "cell_type": "markdown",
   "metadata": {},
   "source": [
    "from mpl_toolkits.axes_grid1 import make_axes_locatable\n",
    "\n",
    "\n",
    "fig, axs = plt.subplots(1,2, dpi=300)\n",
    "fig.subplots_adjust(wspace=0.5)\n",
    "im = axs[0].imshow(M, cmap='bwr')\n",
    "divider = make_axes_locatable(axs[0])\n",
    "cax = divider.append_axes(\"right\", size=\"5%\", pad=0.1)\n",
    "cbar = plt.colorbar(im, cax=cax)\n",
    "axs[0].set_title('SSIM')\n",
    "\n",
    "im = axs[1].imshow(X, cmap='bwr')\n",
    "divider = make_axes_locatable(axs[1])\n",
    "cax = divider.append_axes(\"right\", size=\"5%\", pad=0.1)\n",
    "cbar = plt.colorbar(im, cax=cax)\n",
    "axs[1].set_title('Affinity')\n",
    "\n",
    "#plt.savefig('../figures/notebooks/PC61BM_PM6_Y6_PM6_heatmap.png', dpi=500, bbox_inches='tight')\n",
    "plt.show()"
   ]
  },
  {
   "cell_type": "markdown",
   "metadata": {},
   "source": [
    "fig, axs = plt.subplots(1,2, dpi=300)\n",
    "fig.subplots_adjust(wspace=0.5)\n",
    "\n",
    "axs[0].hist(M.flatten())\n",
    "axs[0].set_title('SSIM')\n",
    "\n",
    "axs[1].hist(X.flatten())\n",
    "axs[1].set_title('Affinity')\n",
    "\n",
    "#plt.savefig('../figures/notebooks/PC61BM_PM6_Y6_PM6.png', dpi=500, bbox_inches='tight')\n",
    "plt.show()"
   ]
  },
  {
   "cell_type": "raw",
   "metadata": {},
   "source": [
    "# With just a pre-compute distance matrix\n",
    "\n",
    "with open('../expts/data/chispace_dimred_mp10.pkl', 'rb') as handle:\n",
    "    out = pickle.load(handle)\n",
    "M = out['M']"
   ]
  },
  {
   "cell_type": "markdown",
   "metadata": {},
   "source": [
    "# Dimensionality reduction"
   ]
  },
  {
   "cell_type": "code",
   "execution_count": 8,
   "metadata": {
    "scrolled": true
   },
   "outputs": [],
   "source": [
    "# create the affinity matrix\n",
    "delta = M.std()\n",
    "X = np.exp(- M ** 2 / (2. * delta ** 2))\n",
    "\n",
    "X_local= X\n",
    "M_local = M"
   ]
  },
  {
   "cell_type": "markdown",
   "metadata": {},
   "source": [
    "## Multi dimensional scaling (MDS)\n",
    "Since we have a metric from SSIM of phase diagrams, we can run the `metric multi-dimensional scaling` that tries to preserve the similarities between the data and embedding."
   ]
  },
  {
   "cell_type": "code",
   "execution_count": 9,
   "metadata": {},
   "outputs": [],
   "source": [
    "from numpy.linalg import norm\n",
    "from sklearn.preprocessing import StandardScaler\n",
    "scaler = StandardScaler()"
   ]
  },
  {
   "cell_type": "code",
   "execution_count": 10,
   "metadata": {},
   "outputs": [],
   "source": [
    "def plot_embedding(embedding):\n",
    "\n",
    "    fig = px.scatter(sys_df, x=embedding[:,0], y=embedding[:,1],\n",
    "                     color=sys_df['delta_solv'].apply(lambda x: norm(x)), hover_data=['solvent','SM','polymer'],\n",
    "                     color_continuous_scale=px.colors.sequential.RdBu\n",
    "                    )\n",
    "    fig.update_traces(marker=dict(size=12))\n",
    "    fig.update_layout(coloraxis_colorbar=dict(title=\"Total solvent solubility\"),\n",
    "        plot_bgcolor='rgba(0,0,0,0)',yaxis = dict(showline=True)\n",
    "                     )\n",
    "    fig.update_xaxes(showline=True, linewidth=2, linecolor='black',\n",
    "                    ticks=\"outside\", tickwidth=2, ticklen=10)\n",
    "    fig.update_yaxes(showline=True, linewidth=2, linecolor='black',\n",
    "                    ticks=\"outside\", tickwidth=2, ticklen=10)\n",
    "    fig.update_layout(\n",
    "        xaxis=dict(showgrid=False, zeroline=False),\n",
    "        yaxis=dict(showgrid=False, zeroline=False),\n",
    "    )\n",
    "    \n",
    "    return fig"
   ]
  },
  {
   "cell_type": "code",
   "execution_count": 11,
   "metadata": {},
   "outputs": [],
   "source": [
    "embedding = MDS(n_components=3,  dissimilarity='precomputed', metric=True, random_state=0)\n",
    "emb_mds = embedding.fit_transform(M)\n",
    "\n",
    "# fig = plot_embedding(emb_mds)\n",
    "# fig.show()"
   ]
  },
  {
   "cell_type": "markdown",
   "metadata": {},
   "source": [
    "##  ISOMAP\n",
    "\n",
    "Compute `isometric projection` of graph based geodesics into a two-dimensional euclidean space by `metric MDS`."
   ]
  },
  {
   "cell_type": "code",
   "execution_count": 12,
   "metadata": {},
   "outputs": [],
   "source": [
    "from scipy.stats import pearsonr\n",
    "from scipy.spatial.distance import pdist, squareform\n",
    "\n",
    "embedding = Isomap(n_components=3,n_neighbors=5, metric='precomputed')\n",
    "embedding.fit(M)\n",
    "Dm = embedding.dist_matrix_\n",
    "emb_isomap = embedding.embedding_\n",
    "\n",
    "explained_variance = []\n",
    "for dim in [1,2,3]:\n",
    "    Dy = squareform(pdist(emb_isomap[:,:dim]))\n",
    "    explained_variance.append(pearsonr(Dm.flatten(), Dy.flatten())[0])\n",
    "\n",
    "# fig = plot_embedding(emb_isomap)\n",
    "# fig.update_xaxes(title=r\"Coordinate 1 ({:.2f}%)\".format(explained_variance[0]*100))\n",
    "# fig.update_yaxes(title=r\"Coordinate 2 ({:.2f}%)\".format(explained_variance[1]*100))"
   ]
  },
  {
   "cell_type": "code",
   "execution_count": 15,
   "metadata": {},
   "outputs": [
    {
     "data": {
      "image/png": "[encoded data removed]",
      "text/plain": [
       "<Figure size 921.6x288 with 3 Axes>"
      ]
     },
     "metadata": {
      "needs_background": "light"
     },
     "output_type": "display_data"
    }
   ],
   "source": [
    "from sklearn.cluster import SpectralClustering\n",
    "from scipy.spatial.distance import pdist, squareform\n",
    "\n",
    "NUM_CLUSTERS = 4\n",
    "clustering = SpectralClustering(n_clusters=NUM_CLUSTERS,assign_labels=\"discretize\",random_state=0, affinity='precomputed')\n",
    "D = squareform(pdist(emb_isomap, 'euclidean'))\n",
    "delta = 0.01\n",
    "A = np.exp(- D ** 2 / (2. * delta ** 2))\n",
    "lowdim_labels = clustering.fit_predict(A)\n",
    "\n",
    "laplacian = csgraph.laplacian(A, normed=True)\n",
    "eigen_values = eigvalsh(laplacian)\n",
    "\n",
    "fig, axs = plt.subplots(1,2, figsize=(2*4*1.6, 4))\n",
    "fig.subplots_adjust(wspace=0.3)\n",
    "\n",
    "num_eigs = 30\n",
    "axs[0].scatter(np.arange(num_eigs),eigen_values[:num_eigs])\n",
    "axs[0].set_xlabel('Sorted Index')\n",
    "axs[0].set_ylabel('Eigen value')\n",
    "\n",
    "pos = axs[1].scatter(emb_isomap[:,0], emb_isomap[:,1], c = lowdim_labels, cmap=plt.cm.Paired)\n",
    "fig.colorbar(pos, ax=axs[1])\n",
    "axs[1].set_xlabel(r\"Coordinate 1 ({:.2f}%)\".format(explained_variance[0]*100))\n",
    "axs[1].set_ylabel(r\"Coordinate 2 ({:.2f}%)\".format((explained_variance[1]-explained_variance[0])*100))\n",
    "\n",
    "plt.show()"
   ]
  },
  {
   "cell_type": "code",
   "execution_count": 16,
   "metadata": {},
   "outputs": [],
   "source": [
    "from mpl_toolkits.axes_grid1 import ImageGrid\n",
    "from math import floor, ceil\n",
    "\n",
    "def plot_clustered_diagrams_grid(cluster_id, labels):\n",
    "    cluster_diags = sys_df.loc[labels==cluster_id]\n",
    "    \n",
    "    num_images = len(cluster_diags)\n",
    "\n",
    "    # Two pairs of `nrows, ncols` are possible\n",
    "    k = (num_images * 12)**0.5\n",
    "    r1 = max(1, floor(k / 4))\n",
    "    r2 = ceil(k / 4)\n",
    "    c1 = ceil(num_images / r1)\n",
    "    c2 = ceil(num_images / r2)\n",
    "\n",
    "    # Select the one which is closer to 4:3\n",
    "    if abs(r1 / c1 - 0.75) < abs(r2 / c2 - 0.75):\n",
    "        nrows, ncols = r1, c1\n",
    "    else:\n",
    "        nrows, ncols = r2, c2\n",
    "\n",
    "    fig, axes = plt.subplots(nrows=nrows, ncols=ncols, figsize=(nrows,ncols))\n",
    "    axes = np.asarray(axes).ravel()\n",
    "    axis_id = 0\n",
    "    for ax, (_,row) in zip(axes, cluster_diags.iterrows()):\n",
    "        fname = '../figures/hteplotsV2/{}_{}_{}.png'.format(row['solvent'],row['SM'],row['polymer'])\n",
    "        img = plt.imread(fname)\n",
    "        ax.imshow(img)\n",
    "        ax.axis('off')\n",
    "        ax.set_title('{}'.format(cluster_id))\n",
    "        axis_id += 1\n",
    "        \n",
    "    for i in range(axis_id,int(nrows*ncols)):\n",
    "        axes[i].axis('off')\n",
    "        \n",
    "    return fig"
   ]
  },
  {
   "cell_type": "code",
   "execution_count": 17,
   "metadata": {
    "scrolled": true
   },
   "outputs": [
    {
     "data": {
      "image/png": "[encoded data removed]",
      "text/plain": [
       "<Figure size 432x288 with 1 Axes>"
      ]
     },
     "metadata": {
      "needs_background": "light"
     },
     "output_type": "display_data"
    }
   ],
   "source": [
    "from matplotlib import rcParams\n",
    "rcParams.update({\"text.usetex\": True})\n",
    "highdim_labels = clustering.fit_predict(X)\n",
    "fig, ax = plt.subplots()\n",
    "label_markers = ['o','^','s','*']\n",
    "for i in np.unique(highdim_labels):\n",
    "    ax.scatter(emb_isomap[highdim_labels==i,0], emb_isomap[highdim_labels==i,1], \n",
    "               marker=label_markers[i], label=str(i))\n",
    "ax.legend()                                                                                            \n",
    "ax.set_xlabel(r\"Coordinate 1 ({:.2f}\\%)\".format(explained_variance[0]*100))\n",
    "ax.set_ylabel(r\"Coordinate 2 ({:.2f}\\%)\".format((explained_variance[1]-explained_variance[0])*100))\n",
    "#plt.savefig('../figures/notebooks/PM6_Y6_DR.png', dpi=300, bbox_inches='tight')\n",
    "plt.show()\n"
   ]
  },
  {
   "cell_type": "code",
   "execution_count": 18,
   "metadata": {},
   "outputs": [
    {
     "data": {
      "image/png": "[encoded data removed]",
      "text/plain": [
       "<Figure size 432x576 with 48 Axes>"
      ]
     },
     "metadata": {
      "needs_background": "light"
     },
     "output_type": "display_data"
    },
    {
     "data": {
      "image/png": "[encoded data removed]",
      "text/plain": [
       "<Figure size 144x216 with 6 Axes>"
      ]
     },
     "metadata": {
      "needs_background": "light"
     },
     "output_type": "display_data"
    },
    {
     "data": {
      "image/png": "[encoded data removed]",
      "text/plain": [
       "<Figure size 360x432 with 30 Axes>"
      ]
     },
     "metadata": {
      "needs_background": "light"
     },
     "output_type": "display_data"
    },
    {
     "data": {
      "image/png": "[encoded data removed]",
      "text/plain": [
       "<Figure size 216x216 with 9 Axes>"
      ]
     },
     "metadata": {
      "needs_background": "light"
     },
     "output_type": "display_data"
    }
   ],
   "source": [
    "for i in range(4):\n",
    "    fig = plot_clustered_diagrams_grid(i, highdim_labels)\n",
    "    plt.show()"
   ]
  },
  {
   "cell_type": "raw",
   "metadata": {
    "scrolled": true
   },
   "source": [
    "# differentiate embeddings of two systems\n",
    "fig, ax = plt.subplots(dpi=300)\n",
    "ax.set_xlabel(r\"Coordinate 1 ({:.2f}%)\".format(explained_variance[0]*100))\n",
    "ax.set_ylabel(r\"Coordinate 2 ({:.2f}%)\".format(explained_variance[1]*100))\n",
    "\n",
    "for sys, df  in sys_df.groupby(['polymer', 'SM']):\n",
    "    sys_name = '_'.join(i for i in sys)\n",
    "    print(sys_name, len(df))\n",
    "    ax.scatter(emb_isomap[df.index,0], emb_isomap[df.index,1],label=sys,alpha=0.5)\n",
    "ax.legend()\n",
    "plt.show()\n"
   ]
  },
  {
   "cell_type": "code",
   "execution_count": null,
   "metadata": {},
   "outputs": [],
   "source": []
  }
 ],
 "metadata": {
  "kernelspec": {
   "display_name": "polyphase",
   "language": "python",
   "name": "python3"
  },
  "language_info": {
   "codemirror_mode": {
    "name": "ipython",
    "version": 3
   },
   "file_extension": ".py",
   "mimetype": "text/x-python",
   "name": "python",
   "nbconvert_exporter": "python",
   "pygments_lexer": "ipython3",
   "version": "3.7.4"
  }
 },
 "nbformat": 4,
 "nbformat_minor": 4
}

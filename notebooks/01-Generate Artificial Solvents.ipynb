{
 "cells": [
  {
   "cell_type": "code",
   "execution_count": 1,
   "metadata": {},
   "outputs": [],
   "source": [
    "%load_ext autoreload\n",
    "%autoreload 2"
   ]
  },
  {
   "cell_type": "code",
   "execution_count": 2,
   "metadata": {},
   "outputs": [],
   "source": [
    "import numpy as np\n",
    "import pandas as pd\n",
    "import polyphase\n",
    "from itertools import product\n",
    "import polyphase\n",
    "import matplotlib.pyplot as plt"
   ]
  },
  {
   "cell_type": "code",
   "execution_count": 3,
   "metadata": {},
   "outputs": [],
   "source": [
    "delta_d = np.linspace(15,20, num=5)\n",
    "delta_p = np.linspace(1,10, num=5)\n",
    "delta_h = np.linspace(1,10, num=5)\n",
    "solvents = list(product(delta_d, delta_p, delta_h))\n",
    "solvents = np.asarray(solvents)\n",
    "assert solvents.shape[0]==125, \"Number of solvents are not 125\""
   ]
  },
  {
   "cell_type": "code",
   "execution_count": 4,
   "metadata": {},
   "outputs": [],
   "source": [
    "SM = [['IDIC',18.7,7.2,4.5,1011,1]]\n",
    "polymers = [['PTB7-Th',18.56,2.3,3.21,5e4,1]]\n",
    "\n",
    "SM_df = pd.DataFrame.from_records(SM, columns=['name','dD','dP','dH','MW', 'rho'])\n",
    "polymer_df = pd.DataFrame.from_records(polymers, columns=['name','dD','dP','dH','MW', 'rho'])\n",
    "solvents_df = pd.DataFrame.from_records(np.hstack((np.arange(len(solvents)).reshape(-1,1), solvents)),\n",
    "                                        columns=['name','dD','dP','dH'])"
   ]
  },
  {
   "cell_type": "code",
   "execution_count": 5,
   "metadata": {},
   "outputs": [
    {
     "name": "stdout",
     "output_type": "stream",
     "text": [
      "Total of 125 systems\n"
     ]
    },
    {
     "data": {
      "text/html": [
       "<div>\n",
       "<style scoped>\n",
       "    .dataframe tbody tr th:only-of-type {\n",
       "        vertical-align: middle;\n",
       "    }\n",
       "\n",
       "    .dataframe tbody tr th {\n",
       "        vertical-align: top;\n",
       "    }\n",
       "\n",
       "    .dataframe thead th {\n",
       "        text-align: right;\n",
       "    }\n",
       "</style>\n",
       "<table border=\"1\" class=\"dataframe\">\n",
       "  <thead>\n",
       "    <tr style=\"text-align: right;\">\n",
       "      <th></th>\n",
       "      <th>polymer</th>\n",
       "      <th>SM</th>\n",
       "      <th>solvent</th>\n",
       "      <th>chi12</th>\n",
       "      <th>chi13</th>\n",
       "      <th>chi23</th>\n",
       "      <th>dop</th>\n",
       "      <th>delta_polymer</th>\n",
       "      <th>delta_SM</th>\n",
       "      <th>delta_solvent</th>\n",
       "    </tr>\n",
       "  </thead>\n",
       "  <tbody>\n",
       "    <tr>\n",
       "      <th>0</th>\n",
       "      <td>PTB7-Th</td>\n",
       "      <td>IDIC</td>\n",
       "      <td>0.0</td>\n",
       "      <td>1.370081</td>\n",
       "      <td>1.111655</td>\n",
       "      <td>2.921045</td>\n",
       "      <td>[500.0, 10.11, 1]</td>\n",
       "      <td>[18.56, 2.3, 3.21]</td>\n",
       "      <td>[18.7, 7.2, 4.5]</td>\n",
       "      <td>[15.0, 1.0, 1.0]</td>\n",
       "    </tr>\n",
       "    <tr>\n",
       "      <th>1</th>\n",
       "      <td>PTB7-Th</td>\n",
       "      <td>IDIC</td>\n",
       "      <td>1.0</td>\n",
       "      <td>1.370081</td>\n",
       "      <td>0.915912</td>\n",
       "      <td>2.492574</td>\n",
       "      <td>[500.0, 10.11, 1]</td>\n",
       "      <td>[18.56, 2.3, 3.21]</td>\n",
       "      <td>[18.7, 7.2, 4.5]</td>\n",
       "      <td>[15.0, 1.0, 3.25]</td>\n",
       "    </tr>\n",
       "    <tr>\n",
       "      <th>2</th>\n",
       "      <td>PTB7-Th</td>\n",
       "      <td>IDIC</td>\n",
       "      <td>2.0</td>\n",
       "      <td>1.370081</td>\n",
       "      <td>1.126088</td>\n",
       "      <td>2.470023</td>\n",
       "      <td>[500.0, 10.11, 1]</td>\n",
       "      <td>[18.56, 2.3, 3.21]</td>\n",
       "      <td>[18.7, 7.2, 4.5]</td>\n",
       "      <td>[15.0, 1.0, 5.5]</td>\n",
       "    </tr>\n",
       "    <tr>\n",
       "      <th>3</th>\n",
       "      <td>PTB7-Th</td>\n",
       "      <td>IDIC</td>\n",
       "      <td>3.0</td>\n",
       "      <td>1.370081</td>\n",
       "      <td>1.742183</td>\n",
       "      <td>2.853392</td>\n",
       "      <td>[500.0, 10.11, 1]</td>\n",
       "      <td>[18.56, 2.3, 3.21]</td>\n",
       "      <td>[18.7, 7.2, 4.5]</td>\n",
       "      <td>[15.0, 1.0, 7.75]</td>\n",
       "    </tr>\n",
       "    <tr>\n",
       "      <th>4</th>\n",
       "      <td>PTB7-Th</td>\n",
       "      <td>IDIC</td>\n",
       "      <td>4.0</td>\n",
       "      <td>1.370081</td>\n",
       "      <td>2.764198</td>\n",
       "      <td>3.642679</td>\n",
       "      <td>[500.0, 10.11, 1]</td>\n",
       "      <td>[18.56, 2.3, 3.21]</td>\n",
       "      <td>[18.7, 7.2, 4.5]</td>\n",
       "      <td>[15.0, 1.0, 10.0]</td>\n",
       "    </tr>\n",
       "  </tbody>\n",
       "</table>\n",
       "</div>"
      ],
      "text/plain": [
       "   polymer    SM  solvent     chi12     chi13     chi23                dop  \\\n",
       "0  PTB7-Th  IDIC      0.0  1.370081  1.111655  2.921045  [500.0, 10.11, 1]   \n",
       "1  PTB7-Th  IDIC      1.0  1.370081  0.915912  2.492574  [500.0, 10.11, 1]   \n",
       "2  PTB7-Th  IDIC      2.0  1.370081  1.126088  2.470023  [500.0, 10.11, 1]   \n",
       "3  PTB7-Th  IDIC      3.0  1.370081  1.742183  2.853392  [500.0, 10.11, 1]   \n",
       "4  PTB7-Th  IDIC      4.0  1.370081  2.764198  3.642679  [500.0, 10.11, 1]   \n",
       "\n",
       "        delta_polymer          delta_SM      delta_solvent  \n",
       "0  [18.56, 2.3, 3.21]  [18.7, 7.2, 4.5]   [15.0, 1.0, 1.0]  \n",
       "1  [18.56, 2.3, 3.21]  [18.7, 7.2, 4.5]  [15.0, 1.0, 3.25]  \n",
       "2  [18.56, 2.3, 3.21]  [18.7, 7.2, 4.5]   [15.0, 1.0, 5.5]  \n",
       "3  [18.56, 2.3, 3.21]  [18.7, 7.2, 4.5]  [15.0, 1.0, 7.75]  \n",
       "4  [18.56, 2.3, 3.21]  [18.7, 7.2, 4.5]  [15.0, 1.0, 10.0]  "
      ]
     },
     "execution_count": 5,
     "metadata": {},
     "output_type": "execute_result"
    }
   ],
   "source": [
    "def get_system(indx):\n",
    "    delta_solvent = solvents_df.loc[indx[0],['dD','dP','dH']].tolist()\n",
    "    M_solv = 1\n",
    "    MVol = 100\n",
    "\n",
    "    delta_sm = SM_df.loc[indx[1],['dD','dP','dH']].tolist()\n",
    "    M_sm = (SM_df.loc[indx[1],'MW']/SM_df.loc[indx[1],'rho'])*(1/MVol)\n",
    "    \n",
    "    delta_polymer = polymer_df.loc[indx[2],['dD','dP','dH']].tolist()\n",
    "    M_polymer = (polymer_df.loc[indx[2],'MW']/polymer_df.loc[indx[2],'rho'])*(1/MVol)\n",
    "    \n",
    "    M = [M_polymer, M_sm, M_solv]\n",
    "    chi,_ = polyphase.get_chi_vector([delta_polymer,delta_sm,delta_solvent], MVol, 2)\n",
    " \n",
    "    out = [polymer_df.loc[indx[2],'name'],SM_df.loc[indx[1],'name'],solvents_df.loc[indx[0],'name'],\n",
    "           chi[0], chi[1], chi[2], M,\n",
    "           delta_polymer, delta_sm,  delta_solvent\n",
    "    ]   \n",
    "    return out\n",
    "\n",
    "axes = [np.arange(0,len(solvents_df)),np.arange(0,len(SM_df)),np.arange(0,len(polymer_df))]\n",
    "hte_df = pd.DataFrame(get_system(i) for i in product(*axes))\n",
    "hte_df.columns =['polymer', 'SM','solvent','chi12','chi13','chi23',\n",
    "                 'dop','delta_polymer','delta_SM','delta_solvent'] \n",
    "print('Total of {} systems'.format(len(hte_df)))\n",
    "hte_df.head()"
   ]
  },
  {
   "cell_type": "markdown",
   "metadata": {},
   "source": [
    "## Create a chi-space grid\n"
   ]
  },
  {
   "cell_type": "code",
   "execution_count": 6,
   "metadata": {},
   "outputs": [],
   "source": [
    "NUM_PER_DIMENSION = 2\n",
    "chi12 = np.linspace(1.3,1.44, num=NUM_PER_DIMENSION)\n",
    "chi13 = np.linspace(0.2,5, num=NUM_PER_DIMENSION)\n",
    "chi23 = np.linspace(0.2,5, num=NUM_PER_DIMENSION)\n",
    "chispace = list(product(chi12, chi13, chi23))\n",
    "chispace = np.asarray(chispace)\n",
    "df = pd.DataFrame(chispace, columns=['chi12', 'chi13', 'chi23'])"
   ]
  },
  {
   "cell_type": "code",
   "execution_count": 7,
   "metadata": {
    "scrolled": true
   },
   "outputs": [
    {
     "name": "stdout",
     "output_type": "stream",
     "text": [
      "Computation took 10.69s\n",
      "Computation took 7.71s\n",
      "Computation took 7.72s\n",
      "Computation took 7.20s\n",
      "Computation took 10.15s\n",
      "Computation took 7.68s\n",
      "Computation took 7.80s\n",
      "Computation took 7.21s\n"
     ]
    }
   ],
   "source": [
    "import os, shutil\n",
    "from collections import Counter\n",
    "\n",
    "dirname = '../figures/chispace/testcase'\n",
    "if os.path.exists(dirname):\n",
    "    shutil.rmtree(dirname)    \n",
    "os.makedirs(dirname)\n",
    "\n",
    "\n",
    "num_simplices = []\n",
    "for i, chi in df.iterrows():\n",
    "    M = [10,10,1]\n",
    "    f = lambda x: polyphase.flory_huggins(x , M, chi, logapprox=True)\n",
    "    engine = polyphase.PHASE(f, 200,3)\n",
    "    engine.compute(use_parallel=False)\n",
    "    phaselabels = engine.num_comps \n",
    "    twophase = np.sum(np.asarray(phaselabels)==2)\n",
    "    onephase = np.sum(np.asarray(phaselabels)==1)\n",
    "    threephase = np.sum(np.asarray(phaselabels)==3)\n",
    "    num_simplices.append([onephase, twophase, threephase])\n",
    "    \n",
    "    polyphase.plot_mpltern(engine.grid, engine.simplices, engine.num_comps)\n",
    "    plt.savefig(dirname+'{}.png'.format(i), bbox_inches='tight', dpi=300)\n",
    "    plt.close()"
   ]
  },
  {
   "cell_type": "code",
   "execution_count": 33,
   "metadata": {},
   "outputs": [
    {
     "data": {
      "image/png": "[encoded data removed]",
      "text/plain": [
       "<Figure size 1296x432 with 6 Axes>"
      ]
     },
     "metadata": {
      "needs_background": "light"
     },
     "output_type": "display_data"
    }
   ],
   "source": [
    "fig, axs = plt.subplots(1,3, figsize=(3*6,6),subplot_kw={'projection':'3d'})\n",
    "cvalues = np.asarray(num_simplices)\n",
    "x = df.to_numpy()\n",
    "\n",
    "plt.rcParams.update({\n",
    "    \"text.usetex\": True,\n",
    "    \"font.family\": \"serif\",\n",
    "    \"font.serif\": [\"Palatino\"],\n",
    "})\n",
    "\n",
    "for i,ax in enumerate(axs):\n",
    "    path = ax.scatter(x[:,0], x[:,1], x[:,2],c=cvalues[:,i],\n",
    "                      alpha=1.0, cmap='bwr')\n",
    "    fig.colorbar(path, pad=0.05, ax = ax, fraction=0.035)\n",
    "    \n",
    "    ax.set_xlabel(r'$\\chi_{12}$')\n",
    "    ax.set_ylabel(r'$\\chi_{13}$')\n",
    "    ax.set_zlabel(r'$\\chi_{23}$')\n",
    "    ax.xaxis.pane.fill = False\n",
    "    ax.yaxis.pane.fill = False\n",
    "    ax.zaxis.pane.fill = False\n",
    "    ax.xaxis.pane.set_edgecolor('w')\n",
    "    ax.yaxis.pane.set_edgecolor('w')\n",
    "    ax.zaxis.pane.set_edgecolor('w')\n",
    "    ax.grid(False)\n",
    "    ax.zaxis._axinfo['juggled'] = (1,2,0)\n",
    "    ax.tick_params(axis=\"y\",direction=\"out\")\n",
    "    ax.tick_params(axis=\"x\",direction=\"out\")\n",
    "    ax.tick_params(axis=\"z\",direction=\"out\")\n",
    "    \n",
    "plt.show()"
   ]
  },
  {
   "cell_type": "markdown",
   "metadata": {},
   "source": [
    "## Analyze HTE data"
   ]
  },
  {
   "cell_type": "code",
   "execution_count": null,
   "metadata": {},
   "outputs": [],
   "source": [
    "# Can we infer anything about where the test fails interms of solubility parameters?\n",
    "import glob\n",
    "import re\n",
    "\n",
    "all_figs = glob.glob('../figures/artificial/*.png')\n",
    "test_figs = glob.glob('../figures/artificial/test_*.png')\n",
    "pd_figs = list(set(all_figs).difference(set(test_figs)))\n",
    "\n",
    "def string_to_dict(string, pattern):\n",
    "    # from : https://stackoverflow.com/a/36838374\n",
    "    regex = re.sub(r'{(.+?)}', r'(?P<_\\1>.+)', pattern)\n",
    "    values = list(re.search(regex, string).groups())\n",
    "    keys = re.findall(r'{(.+?)}', pattern)\n",
    "    _dict = dict(zip(keys, values))\n",
    "    return _dict\n",
    "\n",
    "pattern = '../figures/artificial/{label}_{num_fail}_{total}_{solvent}_{polymer}_{sm}.png'\n",
    "labels = np.zeros(len(pd_figs))\n",
    "for fig in pd_figs:\n",
    "    out = string_to_dict(fig, pattern)\n",
    "    if out['label']=='True':\n",
    "        labels[int(out['solvent'])]=1\n",
    "\n",
    "plt.rcParams.update({'font.size': 15})\n",
    "fig, ax = plt.subplots(subplot_kw={'projection':'3d'}, figsize=(6*1.6,6))\n",
    "#x = hte_df['delta_solvent'].to_numpy()\n",
    "x = hte_df[['chi12','chi13','chi23']].to_numpy()\n",
    "x = np.stack(x, axis=0)\n",
    "phase_colors = ['r', 'g', 'b']\n",
    "cmap = colors.ListedColormap(phase_colors)\n",
    "path = ax.scatter(x[:,0], x[:,1], x[:,2], c=labels, cmap=cmap)\n",
    "boundaries = np.linspace(1, 3, 3)\n",
    "norm = colors.BoundaryNorm(boundaries, cmap.N)\n",
    "mappable = ScalarMappable(norm=norm, cmap=cmap)\n",
    "cbar = fig.colorbar(mappable, shrink=0.5, aspect=5, ticks=[1.5, 2.5], ax=ax)\n",
    "cbar.ax.set_yticklabels(['Failed', 'Passed'])\n",
    "\n",
    "# sm_solubs = hte_df['delta_SM'][0]\n",
    "# ax.scatter(sm_solubs[0], sm_solubs[1], sm_solubs[2], marker='*',color='magenta', s=100, label='SM')\n",
    "# poly_solubs = hte_df['delta_polymer'][0]\n",
    "# ax.scatter(poly_solubs[0], poly_solubs[1], poly_solubs[2], marker='*',color='k', s=100, label='Polymer')\n",
    "# ax.legend()\n",
    "# ax.set_xlabel(r'$\\delta_D$')\n",
    "# ax.set_ylabel(r'$\\delta_P$')\n",
    "# ax.set_zlabel(r'$\\delta_H$')\n",
    "ax.set_xlabel(r'$\\chi_{12}$')\n",
    "ax.set_ylabel(r'$\\chi_{13}$')\n",
    "ax.set_zlabel(r'$\\chi_{23}$')\n",
    "plt.show()"
   ]
  },
  {
   "cell_type": "code",
   "execution_count": null,
   "metadata": {},
   "outputs": [],
   "source": []
  }
 ],
 "metadata": {
  "kernelspec": {
   "display_name": "Python 3",
   "language": "python",
   "name": "python3"
  },
  "language_info": {
   "codemirror_mode": {
    "name": "ipython",
    "version": 3
   },
   "file_extension": ".py",
   "mimetype": "text/x-python",
   "name": "python",
   "nbconvert_exporter": "python",
   "pygments_lexer": "ipython3",
   "version": "3.7.7"
  }
 },
 "nbformat": 4,
 "nbformat_minor": 4
}

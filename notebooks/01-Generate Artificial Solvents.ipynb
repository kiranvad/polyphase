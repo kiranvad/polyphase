{
 "cells": [
  {
   "cell_type": "code",
   "execution_count": 1,
   "metadata": {},
   "outputs": [],
   "source": [
    "%load_ext autoreload\n",
    "%autoreload 2"
   ]
  },
  {
   "cell_type": "code",
   "execution_count": 2,
   "metadata": {},
   "outputs": [],
   "source": [
    "import polyphase"
   ]
  },
  {
   "cell_type": "code",
   "execution_count": 3,
   "metadata": {},
   "outputs": [],
   "source": [
    "import numpy as np\n",
    "import pandas as pd\n",
    "from itertools import product\n",
    "import matplotlib.pyplot as plt\n",
    "import os, shutil\n",
    "from collections import Counter\n",
    "plt.rcParams.update({\"text.usetex\": True})"
   ]
  },
  {
   "cell_type": "code",
   "execution_count": 4,
   "metadata": {},
   "outputs": [],
   "source": [
    "def touchup3d(ax):\n",
    "    ax.xaxis.pane.fill = False\n",
    "    ax.yaxis.pane.fill = False\n",
    "    ax.zaxis.pane.fill = False\n",
    "    ax.xaxis.pane.set_edgecolor('w')\n",
    "    ax.yaxis.pane.set_edgecolor('w')\n",
    "    ax.zaxis.pane.set_edgecolor('w')\n",
    "    ax.grid(False)\n",
    "    ax.zaxis._axinfo['juggled'] = (1,2,0)"
   ]
  },
  {
   "cell_type": "markdown",
   "metadata": {},
   "source": [
    "## Make interactive plot"
   ]
  },
  {
   "cell_type": "code",
   "execution_count": 5,
   "metadata": {},
   "outputs": [],
   "source": [
    "data = np.load('../figures/deltaspace/plot_IDIC_PTB7-Th.npz')\n",
    "x = data['arr_0']\n",
    "sm = data['arr_1']   \n",
    "polymer = data['arr_2']\n",
    "cvalues = data['arr_3']\n",
    "data.close()"
   ]
  },
  {
   "cell_type": "code",
   "execution_count": 16,
   "metadata": {},
   "outputs": [],
   "source": [
    "import plotly.graph_objects as go\n",
    "from plotly.subplots import make_subplots\n",
    "\n",
    "fig = make_subplots(\n",
    "    rows=1, cols=3,subplot_titles=('Phase 1','Phase 2', 'Phase 3'),\n",
    "    specs=[[{'type': 'scene'}, {'type': 'scene'}, {'type': 'scene'}]],\n",
    "    horizontal_spacing=0.15)\n",
    "colorbar_x = [0.3, 0.66, 1.0]\n",
    "scene = dict(camera= dict(eye=dict(x=1.15, y=1.15, z=0.8)),\n",
    "             aspectmode='cube', xaxis = dict(range=[12,23],title='dD'), \n",
    "             yaxis = dict(range=[0,12],title='dP'),\n",
    "             zaxis = dict(range=[0,12],title='dH'))\n",
    "for i in range(3):\n",
    "    fig.add_trace(go.Scatter3d(\n",
    "        x=x[:,0], y=x[:,1], z=x[:,2],mode='markers',\n",
    "        marker=dict(size=5,color=cvalues[:,i],colorscale='RdBu',\n",
    "        colorbar=dict(thickness=10, x = colorbar_x[i]), opacity=0.7),\n",
    "        showlegend=False),\n",
    "                  row=1,col=i+1)\n",
    "    fig.add_trace(go.Scatter3d(\n",
    "        x=[sm[0]], y=[sm[1]], z=[sm[2]],mode='markers',\n",
    "        marker=dict(size=10, color='black', symbol='diamond'),\n",
    "        showlegend=False if i>0 else True,\n",
    "        name ='small molecule'),\n",
    "                  row=1,col=i+1)\n",
    "    \n",
    "    fig.add_trace(go.Scatter3d(\n",
    "        x=[polymer[0]], y=[polymer[1]], z=[polymer[2]],mode='markers',\n",
    "        marker=dict(size=10, color='black', symbol='cross'),\n",
    "        showlegend=False if i>0 else True,\n",
    "        name ='polymer'),\n",
    "                  row=1,col=i+1)  \n",
    "    \n",
    "    key = 'scene{}'.format(i+1)\n",
    "    fig['layout'][key].update(scene)\n",
    "\n",
    "fig.write_html('../figures/deltaspace/interactive.html')"
   ]
  },
  {
   "cell_type": "markdown",
   "metadata": {},
   "source": [
    "## Sample in Solubulity space\n",
    "\n",
    "Here, we sample a solvent in the solubility space and generate a vector of solubulities.\n",
    "These parameters are then combined with a set of solubulity parameters of polymer and small molecule to compute chi values. Degrees of polymerization are also calculated using :$M = \\frac{MW*\\rho}{Volume}$ "
   ]
  },
  {
   "cell_type": "code",
   "execution_count": 5,
   "metadata": {},
   "outputs": [],
   "source": [
    "NUM_PER_DIMENSION = 2\n",
    "delta_d = np.linspace(15,20, num=NUM_PER_DIMENSION)\n",
    "delta_p = np.linspace(1,10, num=NUM_PER_DIMENSION)\n",
    "delta_h = np.linspace(1,10, num=NUM_PER_DIMENSION)\n",
    "solvents = list(product(delta_d, delta_p, delta_h))\n",
    "solvents = np.asarray(solvents)\n"
   ]
  },
  {
   "cell_type": "code",
   "execution_count": 6,
   "metadata": {},
   "outputs": [],
   "source": [
    "SM = [['IDIC',18.7,7.2,4.5,1011,1]]\n",
    "polymers = [['PTB7-Th',18.56,2.3,3.21,5e4,1]]\n",
    "\n",
    "SM_df = pd.DataFrame.from_records(SM, columns=['name','dD','dP','dH','MW', 'rho'])\n",
    "polymer_df = pd.DataFrame.from_records(polymers, columns=['name','dD','dP','dH','MW', 'rho'])\n",
    "solvents_df = pd.DataFrame.from_records(np.hstack((np.arange(len(solvents)).reshape(-1,1), solvents)),\n",
    "                                        columns=['name','dD','dP','dH'])"
   ]
  },
  {
   "cell_type": "code",
   "execution_count": 7,
   "metadata": {},
   "outputs": [
    {
     "name": "stdout",
     "output_type": "stream",
     "text": [
      "Total of 8 systems\n"
     ]
    },
    {
     "data": {
      "text/html": [
       "<div>\n",
       "<style scoped>\n",
       "    .dataframe tbody tr th:only-of-type {\n",
       "        vertical-align: middle;\n",
       "    }\n",
       "\n",
       "    .dataframe tbody tr th {\n",
       "        vertical-align: top;\n",
       "    }\n",
       "\n",
       "    .dataframe thead th {\n",
       "        text-align: right;\n",
       "    }\n",
       "</style>\n",
       "<table border=\"1\" class=\"dataframe\">\n",
       "  <thead>\n",
       "    <tr style=\"text-align: right;\">\n",
       "      <th></th>\n",
       "      <th>polymer</th>\n",
       "      <th>SM</th>\n",
       "      <th>solvent</th>\n",
       "      <th>chi12</th>\n",
       "      <th>chi13</th>\n",
       "      <th>chi23</th>\n",
       "      <th>dop</th>\n",
       "      <th>delta_polymer</th>\n",
       "      <th>delta_SM</th>\n",
       "      <th>delta_solvent</th>\n",
       "    </tr>\n",
       "  </thead>\n",
       "  <tbody>\n",
       "    <tr>\n",
       "      <th>0</th>\n",
       "      <td>PTB7-Th</td>\n",
       "      <td>IDIC</td>\n",
       "      <td>0.0</td>\n",
       "      <td>1.370081</td>\n",
       "      <td>1.111655</td>\n",
       "      <td>2.921045</td>\n",
       "      <td>[500.0, 10.11, 1]</td>\n",
       "      <td>[18.56, 2.3, 3.21]</td>\n",
       "      <td>[18.7, 7.2, 4.5]</td>\n",
       "      <td>[15.0, 1.0, 1.0]</td>\n",
       "    </tr>\n",
       "    <tr>\n",
       "      <th>1</th>\n",
       "      <td>PTB7-Th</td>\n",
       "      <td>IDIC</td>\n",
       "      <td>1.0</td>\n",
       "      <td>1.370081</td>\n",
       "      <td>2.764198</td>\n",
       "      <td>3.642679</td>\n",
       "      <td>[500.0, 10.11, 1]</td>\n",
       "      <td>[18.56, 2.3, 3.21]</td>\n",
       "      <td>[18.7, 7.2, 4.5]</td>\n",
       "      <td>[15.0, 1.0, 10.0]</td>\n",
       "    </tr>\n",
       "    <tr>\n",
       "      <th>2</th>\n",
       "      <td>PTB7-Th</td>\n",
       "      <td>IDIC</td>\n",
       "      <td>2.0</td>\n",
       "      <td>1.370081</td>\n",
       "      <td>3.420885</td>\n",
       "      <td>1.694267</td>\n",
       "      <td>[500.0, 10.11, 1]</td>\n",
       "      <td>[18.56, 2.3, 3.21]</td>\n",
       "      <td>[18.7, 7.2, 4.5]</td>\n",
       "      <td>[15.0, 10.0, 1.0]</td>\n",
       "    </tr>\n",
       "    <tr>\n",
       "      <th>3</th>\n",
       "      <td>PTB7-Th</td>\n",
       "      <td>IDIC</td>\n",
       "      <td>3.0</td>\n",
       "      <td>1.370081</td>\n",
       "      <td>5.073427</td>\n",
       "      <td>2.415901</td>\n",
       "      <td>[500.0, 10.11, 1]</td>\n",
       "      <td>[18.56, 2.3, 3.21]</td>\n",
       "      <td>[18.7, 7.2, 4.5]</td>\n",
       "      <td>[15.0, 10.0, 10.0]</td>\n",
       "    </tr>\n",
       "    <tr>\n",
       "      <th>4</th>\n",
       "      <td>PTB7-Th</td>\n",
       "      <td>IDIC</td>\n",
       "      <td>4.0</td>\n",
       "      <td>1.370081</td>\n",
       "      <td>0.686693</td>\n",
       "      <td>2.439955</td>\n",
       "      <td>[500.0, 10.11, 1]</td>\n",
       "      <td>[18.56, 2.3, 3.21]</td>\n",
       "      <td>[18.7, 7.2, 4.5]</td>\n",
       "      <td>[20.0, 1.0, 1.0]</td>\n",
       "    </tr>\n",
       "  </tbody>\n",
       "</table>\n",
       "</div>"
      ],
      "text/plain": [
       "   polymer    SM  solvent     chi12     chi13     chi23                dop  \\\n",
       "0  PTB7-Th  IDIC      0.0  1.370081  1.111655  2.921045  [500.0, 10.11, 1]   \n",
       "1  PTB7-Th  IDIC      1.0  1.370081  2.764198  3.642679  [500.0, 10.11, 1]   \n",
       "2  PTB7-Th  IDIC      2.0  1.370081  3.420885  1.694267  [500.0, 10.11, 1]   \n",
       "3  PTB7-Th  IDIC      3.0  1.370081  5.073427  2.415901  [500.0, 10.11, 1]   \n",
       "4  PTB7-Th  IDIC      4.0  1.370081  0.686693  2.439955  [500.0, 10.11, 1]   \n",
       "\n",
       "        delta_polymer          delta_SM       delta_solvent  \n",
       "0  [18.56, 2.3, 3.21]  [18.7, 7.2, 4.5]    [15.0, 1.0, 1.0]  \n",
       "1  [18.56, 2.3, 3.21]  [18.7, 7.2, 4.5]   [15.0, 1.0, 10.0]  \n",
       "2  [18.56, 2.3, 3.21]  [18.7, 7.2, 4.5]   [15.0, 10.0, 1.0]  \n",
       "3  [18.56, 2.3, 3.21]  [18.7, 7.2, 4.5]  [15.0, 10.0, 10.0]  \n",
       "4  [18.56, 2.3, 3.21]  [18.7, 7.2, 4.5]    [20.0, 1.0, 1.0]  "
      ]
     },
     "execution_count": 7,
     "metadata": {},
     "output_type": "execute_result"
    }
   ],
   "source": [
    "def get_system(indx):\n",
    "    delta_solvent = solvents_df.loc[indx[0],['dD','dP','dH']].tolist()\n",
    "    M_solv = 1\n",
    "    MVol = 100\n",
    "\n",
    "    delta_sm = SM_df.loc[indx[1],['dD','dP','dH']].tolist()\n",
    "    M_sm = (SM_df.loc[indx[1],'MW']/SM_df.loc[indx[1],'rho'])*(1/MVol)\n",
    "    \n",
    "    delta_polymer = polymer_df.loc[indx[2],['dD','dP','dH']].tolist()\n",
    "    M_polymer = (polymer_df.loc[indx[2],'MW']/polymer_df.loc[indx[2],'rho'])*(1/MVol)\n",
    "    \n",
    "    M = [M_polymer, M_sm, M_solv]\n",
    "    chi,_ = polyphase.get_chi_vector([delta_polymer,delta_sm,delta_solvent], MVol, 2)\n",
    " \n",
    "    out = [polymer_df.loc[indx[2],'name'],SM_df.loc[indx[1],'name'],solvents_df.loc[indx[0],'name'],\n",
    "           chi[0], chi[1], chi[2], M,\n",
    "           delta_polymer, delta_sm,  delta_solvent\n",
    "    ]   \n",
    "    return out\n",
    "\n",
    "axes = [np.arange(0,len(solvents_df)),np.arange(0,len(SM_df)),np.arange(0,len(polymer_df))]\n",
    "df = pd.DataFrame(get_system(i) for i in product(*axes))\n",
    "df.columns =['polymer', 'SM','solvent','chi12','chi13','chi23',\n",
    "                 'dop','delta_polymer','delta_SM','delta_solvent'] \n",
    "print('Total of {} systems'.format(len(df)))\n",
    "df.head()"
   ]
  },
  {
   "cell_type": "code",
   "execution_count": 49,
   "metadata": {},
   "outputs": [
    {
     "data": {
      "text/plain": [
       "0.882633958743203"
      ]
     },
     "execution_count": 49,
     "metadata": {},
     "output_type": "execute_result"
    }
   ],
   "source": [
    "from math import pi\n",
    "def get_ternary_coords(point):\n",
    "    \"\"\" Compute 2d embedding of a 3d hyperplane \"\"\"\n",
    "    a,b,c = point\n",
    "    x = 0.5-a*np.cos(pi/3)+b/2;\n",
    "    y = 0.866-a*np.sin(pi/3)-b*(1/np.tan(pi/6)/2);\n",
    "    \n",
    "    return [x,y]\n",
    "\n",
    "def get_simplex_area(engine, simplex_id):\n",
    "    matrix = []\n",
    "    for s in engine.simplices[simplex_id]:\n",
    "        v = engine.grid[:,s]\n",
    "        matrix.append(get_ternary_coords(v))\n",
    "\n",
    "    matrix = np.hstack((np.asarray(matrix), np.ones((3,1))))\n",
    "    area = 0.5*np.linalg.det(matrix)\n",
    "    return np.abs(area)\n",
    "\n",
    "def get_phase_area(engine, phase_label):\n",
    "    total_area = 0\n",
    "    phase_simplices = np.where(np.asarray(engine.num_comps)==phase_label)[0]\n",
    "    if len(phase_simplices)==0:\n",
    "        return 0\n",
    "    for ps in phase_simplices:\n",
    "        total_area += get_simplex_area(engine, ps)\n",
    "    \n",
    "    return total_area/0.43"
   ]
  },
  {
   "cell_type": "code",
   "execution_count": 50,
   "metadata": {},
   "outputs": [
    {
     "name": "stdout",
     "output_type": "stream",
     "text": [
      "Computation took 3.57s\n",
      "Computation took 3.28s\n",
      "Computation took 3.40s\n",
      "Computation took 3.40s\n",
      "Computation took 3.60s\n",
      "Computation took 3.35s\n",
      "Computation took 3.44s\n",
      "Computation took 3.33s\n"
     ]
    }
   ],
   "source": [
    "dirname = '../figures/deltaspace/testcase/'\n",
    "if os.path.exists(dirname):\n",
    "    shutil.rmtree(dirname)    \n",
    "os.makedirs(dirname)\n",
    "\n",
    "num_simplices = []\n",
    "for i, row in df.iterrows():\n",
    "    M = row['dop']\n",
    "    chi = [row['chi12'], row['chi13'], row['chi23']]\n",
    "    f = lambda x: polyphase.flory_huggins(x , M, chi)\n",
    "    engine = polyphase.PHASE(f, 200,3)\n",
    "    engine.compute(use_parallel=False)\n",
    "#     phaselabels = engine.num_comps \n",
    "#     twophase = np.sum(np.asarray(phaselabels)==2)\n",
    "#     onephase = np.sum(np.asarray(phaselabels)==1)\n",
    "#     threephase = np.sum(np.asarray(phaselabels)==3)\n",
    "    \n",
    "    num_simplices.append([get_phase_area(engine, 1), get_phase_area(engine, 2),\n",
    "                          get_phase_area(engine, 3)])\n",
    "    \n",
    "    polyphase.plot_mpltern(engine.grid, engine.simplices, engine.num_comps)\n",
    "    plt.savefig(dirname+'{}.png'.format(i), bbox_inches='tight', dpi=300)\n",
    "    plt.close()"
   ]
  },
  {
   "cell_type": "code",
   "execution_count": 51,
   "metadata": {},
   "outputs": [
    {
     "data": {
      "image/png": "[encoded data removed]",
      "text/plain": [
       "<Figure size 1296x432 with 6 Axes>"
      ]
     },
     "metadata": {
      "needs_background": "light"
     },
     "output_type": "display_data"
    }
   ],
   "source": [
    "fig, axs = plt.subplots(1,3, figsize=(3*6,6),subplot_kw={'projection':'3d'})\n",
    "cvalues = np.asarray(num_simplices)\n",
    "x = np.vstack(df['delta_solvent'].to_numpy())\n",
    "sm = df['delta_SM'][0]\n",
    "polymer = df['delta_polymer'][0]\n",
    "for i,ax in enumerate(axs):\n",
    "    path = ax.scatter(x[:,0], x[:,1], x[:,2],c=cvalues[:,i],\n",
    "                      alpha=1.0, cmap='bwr')\n",
    "    fig.colorbar(path, pad=0.05, ax = ax, fraction=0.035)\n",
    "    \n",
    "    ax.scatter(sm[0], sm[1], sm[2], \n",
    "               marker='s',s=100,color='k',label='small molecule' if i==2 else '')\n",
    "    ax.scatter(polymer[0], polymer[1], polymer[2],\n",
    "               marker='*',s=100,color='k',label='polymer' if i==2 else '')\n",
    "    ax.set_xlabel(r'$\\delta_{D}$')\n",
    "    ax.set_ylabel(r'$\\delta_{P}$')\n",
    "    ax.set_zlabel(r'$\\delta_{H}$')\n",
    "    ax.set_title('{}-phase'.format(i+1))\n",
    "    touchup3d(ax)\n",
    "fig.legend()\n",
    "plt.show()"
   ]
  },
  {
   "cell_type": "markdown",
   "metadata": {},
   "source": [
    "## Create a chi-space grid\n",
    "We generate a uniform grid of chi values in $\\chi_{12}, \\chi_{13}, \\chi_{23}$.\n",
    "\n",
    "For a given list of degree of polymerizations in M, we generate bunch of phase diagrams and visualize them in the grid."
   ]
  },
  {
   "cell_type": "code",
   "execution_count": 5,
   "metadata": {},
   "outputs": [],
   "source": [
    "Mp = 10\n",
    "chi12 = np.linspace(1.3,1.44, num=5)\n",
    "chi13 = [0.3,0.6,1,2,3]\n",
    "chi23 = [0.3,0.6,1,2,3]\n",
    "chispace = list(product(chi12, chi13, chi23))\n",
    "chispace = np.asarray(chispace)\n",
    "df = pd.DataFrame(chispace, columns=['chi12', 'chi13', 'chi23'])"
   ]
  },
  {
   "cell_type": "code",
   "execution_count": 6,
   "metadata": {},
   "outputs": [
    {
     "data": {
      "text/plain": [
       "chi12    1.335\n",
       "chi13    1.000\n",
       "chi23    1.000\n",
       "Name: 37, dtype: float64"
      ]
     },
     "execution_count": 6,
     "metadata": {},
     "output_type": "execute_result"
    }
   ],
   "source": [
    "df = pd.read_pickle(\"../figures/chispace/10.pkl\")\n",
    "df.iloc[37,:]"
   ]
  },
  {
   "cell_type": "code",
   "execution_count": 12,
   "metadata": {
    "scrolled": true
   },
   "outputs": [
    {
     "name": "stdout",
     "output_type": "stream",
     "text": [
      "chi12    1.3\n",
      "chi13    0.3\n",
      "chi23    0.3\n",
      "Name: 0, dtype: float64\n",
      "Computation took 10.56s\n"
     ]
    }
   ],
   "source": [
    "dirname = '../figures/chispace/testcase/chinamed/'\n",
    "if os.path.exists(dirname):\n",
    "    shutil.rmtree(dirname)    \n",
    "os.makedirs(dirname)\n",
    "\n",
    "num_simplices = []\n",
    "for i, chi in df.iterrows():\n",
    "    M = [10,10,1]\n",
    "    f = lambda x: polyphase.flory_huggins(x , M, chi, logapprox=True)\n",
    "    engine = polyphase.PHASE(f, 200,3)\n",
    "    engine.compute(use_parallel=False)\n",
    "    phaselabels = engine.num_comps \n",
    "    twophase = np.sum(np.asarray(phaselabels)==2)\n",
    "    onephase = np.sum(np.asarray(phaselabels)==1)\n",
    "    threephase = np.sum(np.asarray(phaselabels)==3)\n",
    "    num_simplices.append([onephase, twophase, threephase])\n",
    "    \n",
    "    polyphase.plot_mpltern(engine.grid, engine.simplices, engine.num_comps)\n",
    "    fname = '_'.join('{}'.format(i) for i in chi).replace('.','p')\n",
    "    plt.savefig(dirname+'{}.png'.format(fname), bbox_inches='tight', dpi=300)\n",
    "    plt.close()\n",
    "    break"
   ]
  },
  {
   "cell_type": "code",
   "execution_count": 41,
   "metadata": {},
   "outputs": [
    {
     "data": {
      "image/png": "[encoded data removed]",
      "text/plain": [
       "<Figure size 1296x432 with 6 Axes>"
      ]
     },
     "metadata": {
      "needs_background": "light"
     },
     "output_type": "display_data"
    }
   ],
   "source": [
    "fig, axs = plt.subplots(1,3, figsize=(3*6,6),subplot_kw={'projection':'3d'})\n",
    "cvalues = np.asarray(num_simplices)\n",
    "x = df.to_numpy()\n",
    "for i,ax in enumerate(axs):\n",
    "    path = ax.scatter(x[:,0], x[:,1], x[:,2],c=cvalues[:,i],\n",
    "                      alpha=1.0, cmap='bwr')\n",
    "    fig.colorbar(path, pad=0.05, ax = ax, fraction=0.035)\n",
    "    \n",
    "    ax.set_xlabel(r'$\\chi_{12}$')\n",
    "    ax.set_ylabel(r'$\\chi_{13}$')\n",
    "    ax.set_zlabel(r'$\\chi_{23}$')\n",
    "    ax.set_title('{}-phase'.format(i+1))\n",
    "    touchup3d(ax)\n",
    "plt.show()"
   ]
  },
  {
   "cell_type": "code",
   "execution_count": null,
   "metadata": {},
   "outputs": [],
   "source": []
  }
 ],
 "metadata": {
  "kernelspec": {
   "display_name": "polyphase",
   "language": "python",
   "name": "python3"
  },
  "language_info": {
   "codemirror_mode": {
    "name": "ipython",
    "version": 3
   },
   "file_extension": ".py",
   "mimetype": "text/x-python",
   "name": "python",
   "nbconvert_exporter": "python",
   "pygments_lexer": "ipython3",
   "version": "3.7.4"
  }
 },
 "nbformat": 4,
 "nbformat_minor": 4
}

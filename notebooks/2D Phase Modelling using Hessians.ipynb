{
 "cells": [
  {
   "cell_type": "code",
   "execution_count": 16,
   "metadata": {},
   "outputs": [
    {
     "name": "stdout",
     "output_type": "stream",
     "text": [
      "The autoreload extension is already loaded. To reload it, use:\n",
      "  %reload_ext autoreload\n"
     ]
    }
   ],
   "source": [
    "%load_ext autoreload\n",
    "%autoreload 2"
   ]
  },
  {
   "cell_type": "code",
   "execution_count": 17,
   "metadata": {},
   "outputs": [],
   "source": [
    "import matplotlib.pyplot as plt\n",
    "import pdb\n",
    "import numpy as np\n",
    "\n",
    "from polyphase import makegridnd"
   ]
  },
  {
   "cell_type": "code",
   "execution_count": 18,
   "metadata": {},
   "outputs": [],
   "source": [
    "grid = np.asarray(makegridnd(30, 2)).T"
   ]
  },
  {
   "cell_type": "code",
   "execution_count": 19,
   "metadata": {},
   "outputs": [
    {
     "data": {
      "text/plain": [
       "(array([1, 1]),\n",
       " array([[0, 3],\n",
       "        [3, 0]]))"
      ]
     },
     "execution_count": 19,
     "metadata": {},
     "output_type": "execute_result"
    }
   ],
   "source": [
    "M = np.array([1,1])\n",
    "chisp = 3\n",
    "CHI = np.array([[0,chisp],[chisp,0]])"
   ]
  },
  {
   "cell_type": "code",
   "execution_count": 20,
   "metadata": {},
   "outputs": [],
   "source": [
    "energy = []\n",
    "def flory_huggins(x, M,CHI,beta=1e-4):\n",
    "    T1 = 0\n",
    "    for i,xi in enumerate(x):\n",
    "        T1 += (xi*np.log(xi))/M[i] + beta/xi\n",
    "    T2 = 0.5*np.matmul((np.matmul(x,CHI)),np.transpose(x)) \n",
    "    \n",
    "    return T1+T2\n",
    "\n",
    "for point in grid:\n",
    "    energy.append(flory_huggins(point, M,CHI,beta=1e-8))"
   ]
  },
  {
   "cell_type": "markdown",
   "metadata": {},
   "source": [
    "# TODOS\n",
    "\n",
    "* Concave up should have negative definite Hessian (i.e. a maximum) which is not the case with the curve above"
   ]
  },
  {
   "cell_type": "code",
   "execution_count": 21,
   "metadata": {},
   "outputs": [],
   "source": [
    "# Convex Hull based method to find binodal curve\n",
    "from scipy.spatial import ConvexHull\n",
    "points = np.concatenate((grid[:,1].reshape(-1,1),np.asarray(energy).reshape(-1,1)),axis=1)\n",
    "hull = ConvexHull(points)"
   ]
  },
  {
   "cell_type": "code",
   "execution_count": 22,
   "metadata": {},
   "outputs": [
    {
     "name": "stdout",
     "output_type": "stream",
     "text": [
      "[[1.e-08 1.e+00]\n",
      " [1.e+00 1.e-08]]\n"
     ]
    },
    {
     "data": {
      "image/png": "[encoded data removed]",
      "text/plain": [
       "<Figure size 432x288 with 1 Axes>"
      ]
     },
     "metadata": {
      "needs_background": "light"
     },
     "output_type": "display_data"
    }
   ],
   "source": [
    "#plt.plot(points[:,0], points[:,1], 'o')\n",
    "for simplex in hull.simplices:\n",
    "    if np.sum(np.isclose(grid[simplex].tolist(),0.0,atol=1e-4))==2:\n",
    "        print(grid[simplex])\n",
    "        continue\n",
    "    plt.plot(points[simplex, 0], points[simplex, 1], 'ko-')\n",
    "plt.xlabel(r'$\\varphi$')\n",
    "plt.ylabel('Free energy')\n",
    "plt.show()"
   ]
  },
  {
   "cell_type": "code",
   "execution_count": null,
   "metadata": {},
   "outputs": [],
   "source": []
  }
 ],
 "metadata": {
  "kernelspec": {
   "display_name": "Python 3",
   "language": "python",
   "name": "python3"
  },
  "language_info": {
   "codemirror_mode": {
    "name": "ipython",
    "version": 3
   },
   "file_extension": ".py",
   "mimetype": "text/x-python",
   "name": "python",
   "nbconvert_exporter": "python",
   "pygments_lexer": "ipython3",
   "version": "3.7.7"
  }
 },
 "nbformat": 4,
 "nbformat_minor": 4
}

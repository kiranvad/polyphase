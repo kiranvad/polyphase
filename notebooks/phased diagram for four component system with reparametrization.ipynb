{
 "cells": [
  {
   "cell_type": "markdown",
   "metadata": {},
   "source": [
    "## Computing phases in a ternary system\n",
    "This method is based on the [paper](https://pubs.rsc.org/en/content/articlelanding/2019/sm/c8sm02045k#!divAbstract) which uses a convex envelope method but identifies the potential phases using a Laplacian based approach"
   ]
  },
  {
   "cell_type": "code",
   "execution_count": 46,
   "metadata": {},
   "outputs": [],
   "source": [
    "%config InlineBackend.figure_format = 'svg'\n",
    "import mpltern\n",
    "from matplotlib import rc\n",
    "rc('text', usetex=True)\n",
    "import seaborn as sns\n",
    "import matplotlib.pyplot as plt\n",
    "%matplotlib widget\n",
    "\n",
    "import pdb\n",
    "import numpy as np\n",
    "\n",
    "import sys\n",
    "if '../' not in sys.path:\n",
    "    sys.path.append('../')\n",
    "\n",
    "from solvers.utils import get_data\n",
    "\n",
    "import warnings\n",
    "warnings.filterwarnings(\"ignore\")"
   ]
  },
  {
   "cell_type": "code",
   "execution_count": 47,
   "metadata": {},
   "outputs": [],
   "source": [
    "# have all the helpers functions here\n",
    "\n",
    "# make a general grid\n",
    "def makegridnd(num_points,dim):\n",
    "    x = np.meshgrid(*[np.linspace(0.001, 1,num_points) for d in range(dim)])\n",
    "    mesh = np.asarray(x)\n",
    "    total = np.sum(mesh,axis=0)\n",
    "    plane_mesh = mesh[:,np.isclose(total,1.0,atol=1e-2)]\n",
    "    \n",
    "    return plane_mesh\n",
    "\n",
    "def utri2mat(utri,dim):\n",
    "    inds = np.triu_indices(dim,1)\n",
    "    ret = np.zeros((dim, dim))\n",
    "    ret[inds] = utri\n",
    "    ret.T[inds] = utri\n",
    "    return ret\n",
    "\n",
    "from scipy.spatial.distance import pdist, euclidean, squareform\n",
    "from scipy.sparse import csr_matrix\n",
    "import pandas as pd\n",
    "from scipy.sparse.csgraph import connected_components\n",
    "\n",
    "def label_triangle(triangle, coords, thresh):\n",
    "    tri_coords = [coords[:,x] for x in triangle]\n",
    "    dist = squareform(pdist(tri_coords,'euclidean'))\n",
    "    adjacency = dist<thresh\n",
    "    adjacency =  adjacency.astype(int)  \n",
    "    graph = csr_matrix(adjacency)\n",
    "    n_components, labels = connected_components(csgraph=graph, directed=False, return_labels=True)\n",
    "    \n",
    "    return n_components\n",
    "\n",
    "def get_phase_diagram(simplices, coords, thresh):\n",
    "    num_comps = [label_triangle(triangle, coords, thresh) for triangle in simplices]\n",
    "    \n",
    "    return num_comps\n",
    "\n",
    "def get_faces(v):\n",
    "    # generate list of sides' polygons of our pyramid\n",
    "    verts = [ [v[0],v[1],v[3]], [v[1],v[2],v[3]],\n",
    "     [v[0],v[2],v[3]], [v[0],v[1],v[2]]]\n",
    "    return verts\n",
    "\n",
    "def from4d23d(fourd_coords):\n",
    "    x,y,z,w = fourd_coords\n",
    "    u = y+0.5*(z+w)\n",
    "    v = np.sqrt(3)*(z/2 + w/6) \n",
    "    w = np.sqrt(6)*(w/3)\n",
    "    \n",
    "    return [u,v,w] "
   ]
  },
  {
   "cell_type": "code",
   "execution_count": 48,
   "metadata": {},
   "outputs": [
    {
     "name": "stdout",
     "output_type": "stream",
     "text": [
      "(4, 11480)\n"
     ]
    }
   ],
   "source": [
    "num_points = 40\n",
    "dim = 4\n",
    "grid = makegridnd(num_points,dim)\n",
    "\n",
    "print(grid.shape)\n",
    "                         "
   ]
  },
  {
   "cell_type": "code",
   "execution_count": 49,
   "metadata": {},
   "outputs": [
    {
     "name": "stdout",
     "output_type": "stream",
     "text": [
      "[[1.    0.001 0.001 0.001]\n",
      " [0.001 1.    0.001 0.001]\n",
      " [0.001 0.001 1.    0.001]\n",
      " [0.001 0.001 0.001 1.   ]]\n",
      "[[1.0, 0.001, 0.001], [0.001, 1.0, 0.001], [0.001, 0.001, 1.0], [0.001, 0.001, 0.001]]\n"
     ]
    }
   ],
   "source": [
    "# get your pure points\n",
    "di = np.diag_indices(dim)\n",
    "pure_points = 0.001*np.ones((dim,dim))\n",
    "pure_points[di]=1\n",
    "print(pure_points)\n",
    "verts = pure_points[:,:3].tolist()\n",
    "print(verts)"
   ]
  },
  {
   "cell_type": "code",
   "execution_count": 50,
   "metadata": {},
   "outputs": [
    {
     "name": "stdout",
     "output_type": "stream",
     "text": [
      "[[0.  3.1 3.1 3.1]\n",
      " [3.1 0.  3.1 3.1]\n",
      " [3.1 3.1 0.  3.1]\n",
      " [3.1 3.1 3.1 0. ]]\n"
     ]
    }
   ],
   "source": [
    "M = np.ones(dim) \n",
    "chi = 3.10*np.ones(int(0.5*dim*(dim-1)))\n",
    "CHI = utri2mat(chi, dim)\n",
    "print(CHI)"
   ]
  },
  {
   "cell_type": "code",
   "execution_count": 51,
   "metadata": {},
   "outputs": [],
   "source": [
    "from solvers import helpers\n",
    "\n",
    "gmix = lambda x: helpers.flory_huggins(x, M, CHI,beta=1e-4)\n",
    "energy = []\n",
    "reparam_coords = []\n",
    "for i in range(grid.shape[1]):\n",
    "    energy.append(gmix(grid[:,i]))\n",
    "    reparam_coords.append(from4d23d(grid[:,i]))"
   ]
  },
  {
   "cell_type": "code",
   "execution_count": 52,
   "metadata": {},
   "outputs": [],
   "source": [
    "# Plot a convex triangulation in the ternary space\n",
    "from solvers.helpers import get_ternary_coords\n",
    "from scipy.spatial import ConvexHull\n",
    "\n",
    "reparam_coords = np.asarray(reparam_coords)\n",
    "points = np.concatenate((reparam_coords,np.asarray(energy).reshape(-1,1)),axis=1)\n",
    "hull = ConvexHull(points)"
   ]
  },
  {
   "cell_type": "code",
   "execution_count": 53,
   "metadata": {
    "scrolled": true
   },
   "outputs": [],
   "source": [
    "simplices = []\n",
    "for simplex in hull.simplices:\n",
    "    point_class = np.sum(np.isclose(grid[:,simplex],0.001),axis=1)\n",
    "    point_class = np.unique(dim - point_class)\n",
    "    if (point_class==1).any():\n",
    "        pass\n",
    "    else:\n",
    "        simplices.append(simplex)"
   ]
  },
  {
   "cell_type": "code",
   "execution_count": 55,
   "metadata": {},
   "outputs": [],
   "source": [
    "thresh = 5*euclidean(reparam_coords[:,0],reparam_coords[:,1])\n",
    "num_comps = get_phase_diagram(simplices,reparam_coords.T, thresh)"
   ]
  },
  {
   "cell_type": "code",
   "execution_count": 58,
   "metadata": {},
   "outputs": [
    {
     "data": {
      "application/vnd.jupyter.widget-view+json": {
       "model_id": "9aaa203f15044640b65617a6b3a43f20",
       "version_major": 2,
       "version_minor": 0
      },
      "text/plain": [
       "Canvas(toolbar=Toolbar(toolitems=[('Home', 'Reset original view', 'home', 'home'), ('Back', 'Back to previous …"
      ]
     },
     "metadata": {},
     "output_type": "display_data"
    }
   ],
   "source": [
    "from mpl_toolkits.mplot3d.art3d import Poly3DCollection, Line3DCollection\n",
    "\n",
    "fig = plt.figure()\n",
    "ax = fig.add_subplot(111, projection='3d')\n",
    "# vertices of a pyramid\n",
    "v = np.array([[0, 0, 0], [1, 0, 0], [1/2,np.sqrt(3)/2,0],  [1/2,np.sqrt(3)/6,np.sqrt(6)/3]])\n",
    "ax.scatter3D(v[:, 0], v[:, 1], v[:, 2],color='black')\n",
    "\n",
    "verts = get_faces(v)\n",
    "# plot sides\n",
    "ax.add_collection3d(Poly3DCollection(verts, facecolors='black', linewidths=0.5, edgecolors='black', alpha=.05))\n",
    "#ax.scatter3D(coords[:, 0], coords[:, 1], coords[:, 2],color='black')\n",
    "for i,simplex in zip(num_comps,simplices):\n",
    "    vertices = [grid[:,x] for x in simplex]\n",
    "    v = np.asarray([from4d23d(vertex) for vertex in vertices])\n",
    "    if np.all(np.asarray(vertices)[:,3]<1.0):\n",
    "        verts = get_faces(v)\n",
    "        if i==1:\n",
    "            ax.add_collection3d(Poly3DCollection(verts, facecolors='tab:red', edgecolors=None))\n",
    "        if i==2:\n",
    "            ax.add_collection3d(Poly3DCollection(verts, facecolors='tab:olive', edgecolors=None))\n",
    "        if i==3:\n",
    "            ax.add_collection3d(Poly3DCollection(verts, facecolors='tab:cyan', edgecolors=None))\n",
    "#             if i==4:\n",
    "#                 ax.add_collection3d(Poly3DCollection(verts, facecolors='tab:purple', edgecolors=None))\n",
    "plt.show()"
   ]
  },
  {
   "cell_type": "code",
   "execution_count": null,
   "metadata": {},
   "outputs": [],
   "source": []
  }
 ],
 "metadata": {
  "kernelspec": {
   "display_name": "Python 3",
   "language": "python",
   "name": "python3"
  },
  "language_info": {
   "codemirror_mode": {
    "name": "ipython",
    "version": 3
   },
   "file_extension": ".py",
   "mimetype": "text/x-python",
   "name": "python",
   "nbconvert_exporter": "python",
   "pygments_lexer": "ipython3",
   "version": "3.7.3"
  }
 },
 "nbformat": 4,
 "nbformat_minor": 2
}

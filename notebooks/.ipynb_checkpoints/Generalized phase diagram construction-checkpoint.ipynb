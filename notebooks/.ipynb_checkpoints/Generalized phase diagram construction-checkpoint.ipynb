{
 "cells": [
  {
   "cell_type": "markdown",
   "metadata": {},
   "source": [
    "## Computing phases in a ternary system\n",
    "This method is based on the [paper](https://pubs.rsc.org/en/content/articlelanding/2019/sm/c8sm02045k#!divAbstract) which uses a convex envelope method but identifies the potential phases using a Laplacian based approach"
   ]
  },
  {
   "cell_type": "code",
   "execution_count": 1,
   "metadata": {},
   "outputs": [
    {
     "name": "stderr",
     "output_type": "stream",
     "text": [
      "\n",
      "Bad key \"text.kerning_factor\" on line 4 in\n",
      "/projects/academic/olgawodo/kiranvad/anaconda3/lib/python3.7/site-packages/matplotlib/mpl-data/stylelib/_classic_test_patch.mplstyle.\n",
      "You probably need to get an updated matplotlibrc file from\n",
      "https://github.com/matplotlib/matplotlib/blob/v3.1.3/matplotlibrc.template\n",
      "or from the matplotlib source distribution\n",
      "/projects/academic/olgawodo/kiranvad/anaconda3/lib/python3.7/site-packages/statsmodels/tools/_testing.py:19: FutureWarning: pandas.util.testing is deprecated. Use the functions in the public API at pandas.testing instead.\n",
      "  import pandas.util.testing as tm\n"
     ]
    }
   ],
   "source": [
    "%config InlineBackend.figure_format = 'svg'\n",
    "import mpltern\n",
    "from matplotlib import rc\n",
    "rc('text', usetex=True)\n",
    "import seaborn as sns\n",
    "import matplotlib.pyplot as plt\n",
    "\n",
    "import pdb\n",
    "import numpy as np\n",
    "\n",
    "import sys\n",
    "if '../' not in sys.path:\n",
    "    sys.path.append('../')\n",
    "\n",
    "from solvers.utils import get_data\n",
    "\n",
    "import warnings\n",
    "warnings.filterwarnings(\"ignore\")"
   ]
  },
  {
   "cell_type": "code",
   "execution_count": 2,
   "metadata": {},
   "outputs": [
    {
     "name": "stdout",
     "output_type": "stream",
     "text": [
      "(4, 11480)\n"
     ]
    }
   ],
   "source": [
    "# make a general grid\n",
    "def makegridnd(num_points,dim):\n",
    "    x = np.meshgrid(*[np.linspace(0.001, 1,num_points) for d in range(dim)])\n",
    "    mesh = np.asarray(x)\n",
    "    total = np.sum(mesh,axis=0)\n",
    "    plane_mesh = mesh[:,np.isclose(total,1.0,atol=1e-2)]\n",
    "    \n",
    "    return plane_mesh\n",
    "\n",
    "num_points = 40\n",
    "dim = 4\n",
    "grid = makegridnd(num_points,dim)\n",
    "\n",
    "print(grid.shape)\n",
    "                         "
   ]
  },
  {
   "cell_type": "code",
   "execution_count": 3,
   "metadata": {},
   "outputs": [
    {
     "name": "stdout",
     "output_type": "stream",
     "text": [
      "[[1.    0.001 0.001 0.001]\n",
      " [0.001 1.    0.001 0.001]\n",
      " [0.001 0.001 1.    0.001]\n",
      " [0.001 0.001 0.001 1.   ]]\n",
      "[[1.0, 0.001, 0.001], [0.001, 1.0, 0.001], [0.001, 0.001, 1.0], [0.001, 0.001, 0.001]]\n"
     ]
    }
   ],
   "source": [
    "# get your pure points\n",
    "di = np.diag_indices(dim)\n",
    "pure_points = 0.001*np.ones((dim,dim))\n",
    "pure_points[di]=1\n",
    "print(pure_points)\n",
    "verts = pure_points[:,:3].tolist()\n",
    "print(verts)"
   ]
  },
  {
   "cell_type": "code",
   "execution_count": 4,
   "metadata": {},
   "outputs": [],
   "source": [
    "def utri2mat(utri,dim):\n",
    "    inds = np.triu_indices(dim,1)\n",
    "    ret = np.zeros((dim, dim))\n",
    "    ret[inds] = utri\n",
    "    ret.T[inds] = utri\n",
    "    return ret"
   ]
  },
  {
   "cell_type": "code",
   "execution_count": 5,
   "metadata": {},
   "outputs": [
    {
     "name": "stdout",
     "output_type": "stream",
     "text": [
      "[[0.  3.1 3.1 3.1]\n",
      " [3.1 0.  3.1 3.1]\n",
      " [3.1 3.1 0.  3.1]\n",
      " [3.1 3.1 3.1 0. ]]\n"
     ]
    }
   ],
   "source": [
    "if dim==3:\n",
    "    M,CHI,info=get_data(name='ow',fhid=4)\n",
    "else:\n",
    "    M = np.ones(dim) \n",
    "    chi = 3.10*np.ones(int(0.5*dim*(dim-1)))\n",
    "    CHI = utri2mat(chi, dim)\n",
    "print(CHI)"
   ]
  },
  {
   "cell_type": "code",
   "execution_count": 6,
   "metadata": {},
   "outputs": [],
   "source": [
    "from solvers import helpers\n",
    "\n",
    "gmix = lambda x: helpers.flory_huggins(x, M, CHI,beta=1e-4)\n",
    "energy = []\n",
    "for i in range(grid.shape[1]):\n",
    "    energy.append(gmix(grid[:,i]))\n",
    "\n",
    "if dim==3:\n",
    "    from solvers.helpers import get_ternary_coords\n",
    "    plot_coords = []\n",
    "    for i in range(grid.shape[1]):\n",
    "        plot_coords.append(get_ternary_coords(grid[:,i]))"
   ]
  },
  {
   "cell_type": "code",
   "execution_count": 7,
   "metadata": {},
   "outputs": [],
   "source": [
    "# Plot a convex triangulation in the ternary space\n",
    "from solvers.helpers import get_ternary_coords\n",
    "from scipy.spatial import ConvexHull\n",
    "\n",
    "points = np.concatenate((grid[:-1,:].T,np.asarray(energy).reshape(-1,1)),axis=1)\n",
    "hull = ConvexHull(points)\n",
    "coords = np.asarray(grid)"
   ]
  },
  {
   "cell_type": "code",
   "execution_count": 8,
   "metadata": {
    "scrolled": true
   },
   "outputs": [],
   "source": [
    "simplices = []\n",
    "for simplex in hull.simplices:\n",
    "    point_class = np.sum(np.isclose(grid[:,simplex],0.001),axis=1)\n",
    "    point_class = np.unique(dim - point_class)\n",
    "    if (point_class==1).any():\n",
    "        pass\n",
    "    else:\n",
    "        simplices.append(simplex)"
   ]
  },
  {
   "cell_type": "code",
   "execution_count": 9,
   "metadata": {},
   "outputs": [],
   "source": [
    "# plot convex envelope on the grid\n",
    "if dim==3:\n",
    "    fig, [ax1,ax2] = plt.subplots(1,2,figsize=(10.8,4.0))\n",
    "    ax1.set_aspect('equal')\n",
    "    poly_coords = np.array([[0.0,0.0],[1.0,0.0],[0.0,1.0]])\n",
    "    ax1.add_patch(plt.Polygon(poly_coords,edgecolor=None, facecolor='brown',fill=True))\n",
    "    ax2.set_aspect('equal')\n",
    "    poly_coords = np.array([[0.0,0.0],[1.0,0.0],[0.5,np.sqrt(3)/2+0.01]])\n",
    "    ax2.add_patch(plt.Polygon(poly_coords,edgecolor=None, facecolor='brown',fill=True))\n",
    "    for triangle in simplices:\n",
    "        tri_coords = [coords[:,x] for x in triangle]\n",
    "        plot_tri_coords = [plot_coords[x] for x in triangle]\n",
    "        ax1.add_patch(plt.Polygon(tri_coords,  facecolor=None, fill=False))\n",
    "        ax2.add_patch(plt.Polygon(plot_tri_coords,  facecolor=None, fill=False))\n",
    "    ax1.set_xlabel(r'$\\varphi_1$')\n",
    "    ax1.set_ylabel(r'$\\varphi_2$')\n",
    "    plt.show()"
   ]
  },
  {
   "cell_type": "code",
   "execution_count": 10,
   "metadata": {},
   "outputs": [],
   "source": [
    "from scipy.spatial.distance import pdist, euclidean, squareform\n",
    "from scipy.sparse import csr_matrix\n",
    "import pandas as pd\n",
    "from scipy.sparse.csgraph import connected_components\n",
    "\n",
    "def label_triangle(triangle):\n",
    "    thresh = 5*euclidean(coords[:,0],coords[:,1])\n",
    "    tri_coords = [coords[:,x] for x in triangle]\n",
    "    dist = squareform(pdist(tri_coords,'euclidean'))\n",
    "    adjacency = dist<thresh\n",
    "    adjacency =  adjacency.astype(int)  \n",
    "    graph = csr_matrix(adjacency)\n",
    "    n_components, labels = connected_components(csgraph=graph, directed=False, return_labels=True)\n",
    "    \n",
    "    return n_components\n",
    "\n",
    "def get_phase_diagram(simplices):\n",
    "    num_comps = [label_triangle(triangle) for triangle in simplices]\n",
    "    \n",
    "    return num_comps\n",
    "    \n",
    "num_comps = get_phase_diagram(simplices)\n"
   ]
  },
  {
   "cell_type": "code",
   "execution_count": 11,
   "metadata": {},
   "outputs": [],
   "source": [
    "if dim==3:\n",
    "    fig, ax = plt.subplots()\n",
    "    ax.set_aspect('equal')\n",
    "    poly_coords = np.array([[0.0,0.0],[1.0,0.0],[0.5,np.sqrt(3)/2+0.01]])\n",
    "    ax.add_patch(plt.Polygon(poly_coords,edgecolor=None, facecolor='brown',fill=True))\n",
    "    words = [r'$\\varphi_{p1}$',r'$\\varphi_{p2}$',r'$\\varphi_{s}$']\n",
    "    xs = [-0.15,1,0.5]\n",
    "    ys = [0,0,np.sqrt(3)/2+0.01]\n",
    "    for x, y, s in zip(xs,ys,words):\n",
    "        plt.text(x,y,s,fontsize=20)\n",
    "    for i, triangle in zip(num_comps,simplices):\n",
    "        tri_coords = [plot_coords[x] for x in triangle]\n",
    "        if i==2:\n",
    "            ax.add_patch(plt.Polygon(tri_coords, edgecolor=None,facecolor='orange',fill=True))\n",
    "        elif i==3:\n",
    "            ax.add_patch(plt.Polygon(tri_coords,edgecolor=None, facecolor='lightblue',fill=True))\n",
    "\n",
    "    #ax.set_title(info['params'],pad=20)\n",
    "    plt.axis('off')\n",
    "    plt.legend(['1-phase','2-phase','3-phase'])\n",
    "    #plt.savefig('../figures/May13Wed/'+info['fname']+'.png',dpi=500,bbox_inches='tight')\n",
    "    plt.show()"
   ]
  },
  {
   "cell_type": "code",
   "execution_count": 12,
   "metadata": {},
   "outputs": [],
   "source": [
    "if dim==3:\n",
    "    fig, ax = plt.subplots()\n",
    "    ax.set_aspect('equal')\n",
    "    coords = np.asarray(plot_coords)\n",
    "    tpc = ax.tripcolor(coords[:,0], coords[:,1], simplices, facecolors=np.asarray(num_comps), edgecolors='k')\n",
    "    cbar = fig.colorbar(tpc, ticks=[1, 2, 3])\n",
    "    cbar.ax.set_yticklabels(['1-phase', '2-phase', '3-phase'])\n",
    "    cbar.set_label('Phase region identification')\n",
    "\n",
    "    words = [r'$\\varphi_{p1}$',r'$\\varphi_{p2}$',r'$\\varphi_{s}$']\n",
    "    xs = [-0.15,1,0.5]\n",
    "    ys = [0,0,np.sqrt(3)/2+0.01]\n",
    "    for x, y, s in zip(xs,ys,words):\n",
    "        plt.text(x,y,s,fontsize=20)\n",
    "\n",
    "    ax.set_title(info['params'],pad=20)\n",
    "    plt.axis('off')\n",
    "    #plt.savefig('../figures/May13Wed/'+info['fname']+'.png',dpi=500,bbox_inches='tight')\n",
    "    plt.show()"
   ]
  },
  {
   "cell_type": "code",
   "execution_count": 13,
   "metadata": {},
   "outputs": [],
   "source": [
    "from scipy.interpolate import LinearNDInterpolator, NearestNDInterpolator\n",
    "plt.close()\n",
    "if dim==3:\n",
    "    fig, ax = plt.subplots()\n",
    "    ax.set_aspect('equal')\n",
    "    poly_coords = np.array([[0.0,0.0],[1.0,0.0],[0.5,np.sqrt(3)/2+0.01]])\n",
    "    ax.add_patch(plt.Polygon(poly_coords,edgecolor=None, facecolor='brown',fill=False))\n",
    "    words = [r'$\\varphi_{p1}$',r'$\\varphi_{p2}$',r'$\\varphi_{s}$']\n",
    "    xs = [-0.15,1,0.5]\n",
    "    ys = [0,0,np.sqrt(3)/2+0.01]\n",
    "    for x, y, s in zip(xs,ys,words):\n",
    "        plt.text(x,y,s,fontsize=20)\n",
    "        \n",
    "    convex_verts,convex_verts_labels = [],[]\n",
    "    for i,simplex in zip(num_comps,simplices):\n",
    "        tri_coords = [plot_coords[x] for x in triangle]\n",
    "        for point in tri_coords:\n",
    "            convex_verts.append(point)\n",
    "            convex_verts_labels.append(i)\n",
    "    convex_verts = np.asarray(convex_verts)\n",
    "    \n",
    "    interp = NearestNDInterpolator(convex_verts, np.asarray(convex_verts_labels))\n",
    "    #interp = LinearNDInterpolator(convex_verts, np.asarray(convex_verts_labels))\n",
    "    \n",
    "    interp_labels = np.asarray([interp(point) for point in plot_coords])\n",
    "    interp_labels = interp_labels.reshape(interp_labels.shape[0])\n",
    "    surf = ax.scatter(np.asarray(plot_coords)[:, 0], np.asarray(plot_coords)[:, 1],\\\n",
    "                        c=interp_labels,cmap='hsv')\n",
    "    fig.colorbar(surf, shrink=0.5, aspect=5)\n",
    "\n",
    "    plt.show()"
   ]
  },
  {
   "cell_type": "code",
   "execution_count": 14,
   "metadata": {},
   "outputs": [],
   "source": [
    "# based on: https://stackoverflow.com/questions/39408794/python-3d-pyramid\n",
    "\n",
    "%matplotlib widget\n",
    "from matplotlib import pyplot as plt\n",
    "from mpl_toolkits.mplot3d.art3d import Poly3DCollection, Line3DCollection\n",
    "import numpy as np\n",
    "\n",
    "\n",
    "def get_faces(v):\n",
    "    # generate list of sides' polygons of our pyramid\n",
    "    verts = [ [v[0],v[1],v[3]], [v[1],v[2],v[3]],\n",
    "     [v[0],v[2],v[3]], [v[0],v[1],v[2]]]\n",
    "    return verts\n",
    "\n",
    "# fig = plt.figure(figsize=(10.8,4.8))\n",
    "# ax = fig.add_subplot(111, projection='3d')\n",
    "# # vertices of a pyramid\n",
    "# v = np.array([[1, 0, 0], [0, 1, 0], [0, 0, 1],  [0, 0, 0]])\n",
    "# ax.scatter3D(v[:, 0], v[:, 1], v[:, 2],color='black')\n",
    "\n",
    "# verts = get_faces(v)\n",
    "# # plot sides\n",
    "# ax.add_collection3d(Poly3DCollection(verts, facecolors='black', linewidths=2, edgecolors='black', alpha=.05))\n",
    "\n",
    "\n",
    "# # rid=np.random.randint(1,len(num_comps))\n",
    "# # i, simplex = num_comps[rid],simplices[rid]\n",
    "# # ax.set_title(\"Simplex: {}, {} Phase region\".format(simplex,i))\n",
    "# for i,simplex in zip(num_comps,simplices):\n",
    "#     v = np.asarray([grid[:,x] for x in simplex])\n",
    "#     if np.all(v[:,3]<0.25):\n",
    "#         verts = get_faces(v[:,:3])\n",
    "#         if i==1:\n",
    "#             ax.scatter3D(v[:, 0], v[:, 1], v[:, 2],color='black',s=25)\n",
    "#             ax.add_collection3d(Poly3DCollection(verts, facecolors='black', edgecolors='black', linewidths=1))\n",
    "#         elif i==2:\n",
    "#             ax.scatter3D(v[:, 0], v[:, 1], v[:, 2],color='black',s=25)\n",
    "#             ax.add_collection3d(Poly3DCollection(verts, facecolors='green', edgecolors='black', linewidths=1))\n",
    "#         elif i==3:\n",
    "#             ax.scatter3D(v[:, 0], v[:, 1], v[:, 2],color='black',s=25)\n",
    "#             ax.add_collection3d(Poly3DCollection(verts, facecolors='blue',edgecolors='black', linewidths=1))\n",
    "#         elif i==4:\n",
    "#             ax.scatter3D(v[:, 0], v[:, 1], v[:, 2],color='black',s=25)\n",
    "#             ax.add_collection3d(Poly3DCollection(verts, facecolors='red',edgecolors='black', linewidths=1))\n",
    "# # ax.set_xlabel('phi_1')\n",
    "# # ax.set_ylabel('phi_2')\n",
    "# # ax.set_zlabel('phi_3')\n",
    "        \n",
    "# plt.show()\n",
    "\n"
   ]
  },
  {
   "cell_type": "code",
   "execution_count": 15,
   "metadata": {},
   "outputs": [],
   "source": [
    "def from4d23d(fourd_coords):\n",
    "    x,y,z,w = fourd_coords\n",
    "    u = y+0.5*(z+w)\n",
    "    v = np.sqrt(3)*(z/2 + w/6) \n",
    "    w = np.sqrt(6)*(w/3)\n",
    "    \n",
    "    return [u,v,w]      "
   ]
  },
  {
   "cell_type": "code",
   "execution_count": 16,
   "metadata": {},
   "outputs": [
    {
     "data": {
      "application/vnd.jupyter.widget-view+json": {
       "model_id": "2827665983844d82ba50beccc49b789c",
       "version_major": 2,
       "version_minor": 0
      },
      "text/plain": [
       "Canvas(toolbar=Toolbar(toolitems=[('Home', 'Reset original view', 'home', 'home'), ('Back', 'Back to previous …"
      ]
     },
     "metadata": {},
     "output_type": "display_data"
    }
   ],
   "source": [
    "if dim==4:\n",
    "    plt.close()\n",
    "    fig, axs = plt.subplots(2,2,subplot_kw={'projection': '3d'}, figsize=(8,8))\n",
    "    fig.subplots_adjust(hspace=0.2,wspace=0.2)\n",
    "    # vertices of a pyramid\n",
    "    v = np.array([[0, 0, 0], [1, 0, 0], [1/2,np.sqrt(3)/2,0],  [1/2,np.sqrt(3)/6,np.sqrt(6)/3]])\n",
    "    axs = axs.reshape(4)\n",
    "    for ax in axs:\n",
    "        ax.scatter3D(v[:, 0], v[:, 1], v[:, 2],color='black')\n",
    "        ax._axis3don = False\n",
    "        ax.view_init(elev=25, azim=75)\n",
    "        verts = get_faces(v)\n",
    "        # plot sides\n",
    "        ax.add_collection3d(Poly3DCollection(verts, facecolors='black', linewidths=0.5, edgecolors='black', alpha=.05))\n",
    "    #ax.scatter3D(coords[:, 0], coords[:, 1], coords[:, 2],color='black')\n",
    "    for i,simplex in zip(num_comps,simplices):\n",
    "        vertices = [grid[:,x] for x in simplex]\n",
    "        v = np.asarray([from4d23d(vertex) for vertex in vertices])\n",
    "        if np.all(np.asarray(vertices)[:,3]<0.5):\n",
    "            verts = get_faces(v)\n",
    "            if i==1:\n",
    "                axs[0].add_collection3d(Poly3DCollection(verts, facecolors='tab:red', edgecolors=None))\n",
    "            if i==2:\n",
    "                axs[1].add_collection3d(Poly3DCollection(verts, facecolors='tab:olive', edgecolors=None))\n",
    "            if i==3:\n",
    "                axs[2].add_collection3d(Poly3DCollection(verts, facecolors='tab:cyan', edgecolors=None))\n",
    "            if i==4:\n",
    "                axs[3].add_collection3d(Poly3DCollection(verts, facecolors='tab:purple', edgecolors=None))\n",
    "    plt.show()"
   ]
  },
  {
   "cell_type": "code",
   "execution_count": 23,
   "metadata": {},
   "outputs": [
    {
     "data": {
      "application/vnd.jupyter.widget-view+json": {
       "model_id": "4c53907e86fc48dfa818cf44c287f2d3",
       "version_major": 2,
       "version_minor": 0
      },
      "text/plain": [
       "Canvas(toolbar=Toolbar(toolitems=[('Home', 'Reset original view', 'home', 'home'), ('Back', 'Back to previous …"
      ]
     },
     "metadata": {},
     "output_type": "display_data"
    }
   ],
   "source": [
    "from scipy.interpolate import LinearNDInterpolator, NearestNDInterpolator\n",
    "from matplotlib import colors\n",
    "\n",
    "plt.close()\n",
    "if dim==4:\n",
    "    coords = np.asarray([from4d23d(point) for point in grid.T])\n",
    "    fig = plt.figure()\n",
    "    ax = fig.add_subplot(111, projection='3d')\n",
    "    # vertices of a pyramid\n",
    "    v = np.array([[0, 0, 0], [1, 0, 0], [1/2,np.sqrt(3)/2,0],  [1/2,np.sqrt(3)/6,np.sqrt(6)/3]])\n",
    "    ax.scatter3D(v[:, 0], v[:, 1], v[:, 2],color='black')\n",
    "\n",
    "    verts = get_faces(v)\n",
    "    # plot sides\n",
    "    ax.add_collection3d(Poly3DCollection(verts, facecolors='black', linewidths=0.5, edgecolors='black', alpha=.05))\n",
    "    #ax.scatter3D(coords[:, 0], coords[:, 1], coords[:, 2],color='black')\n",
    "    convex_verts,convex_verts_labels = [],[]\n",
    "    for i,simplex in zip(num_comps,simplices):\n",
    "        vertices = [grid[:,x] for x in simplex]\n",
    "        v = np.asarray([from4d23d(vertex) for vertex in vertices])\n",
    "        for point in v:\n",
    "            convex_verts.append(point)\n",
    "            convex_verts_labels.append(i)\n",
    "    convex_verts = np.asarray(convex_verts)\n",
    "    \n",
    "    #interp = NearestNDInterpolator(convex_verts, np.asarray(convex_verts_labels))\n",
    "    interp = LinearNDInterpolator(convex_verts, np.asarray(convex_verts_labels))\n",
    "    \n",
    "    interp_labels = np.asarray([interp(point) for point in coords])\n",
    "    interp_labels = interp_labels.reshape(interp_labels.shape[0])\n",
    "    criteria = grid[3,:]<0.25\n",
    "    cmap = colors.ListedColormap(['tab:red','tab:olive','tab:cyan','tab:purple'])\n",
    "    boundaries = [1,2,3,4,5]\n",
    "    norm = colors.BoundaryNorm(boundaries, cmap.N)\n",
    "    surf = ax.scatter3D(coords[criteria, 0], coords[criteria, 1], coords[criteria, 2],\\\n",
    "                        c=interp_labels[criteria],cmap=cmap,norm=norm)\n",
    "    cbar = fig.colorbar(surf, shrink=0.5, aspect=5, ticks=[1,2,3,4])\n",
    "    cbar.ax.set_yticklabels(['1-Phase', '2-Phase', '3-Phase','4-Phase'])\n",
    "    plt.show()"
   ]
  },
  {
   "cell_type": "code",
   "execution_count": 51,
   "metadata": {},
   "outputs": [
    {
     "name": "stdout",
     "output_type": "stream",
     "text": [
      "Classified: 100 simplices, remaining 10741 points\n",
      "Classified: 200 simplices, remaining 10050 points\n",
      "Classified: 300 simplices, remaining 9544 points\n",
      "Classified: 400 simplices, remaining 9332 points\n",
      "Classified: 500 simplices, remaining 9145 points\n",
      "Classified: 600 simplices, remaining 8177 points\n",
      "Classified: 700 simplices, remaining 8027 points\n",
      "Classified: 800 simplices, remaining 7836 points\n",
      "Classified: 900 simplices, remaining 7294 points\n",
      "Classified: 1000 simplices, remaining 7279 points\n",
      "Classified: 1100 simplices, remaining 7176 points\n",
      "Classified: 1200 simplices, remaining 7105 points\n",
      "Classified: 1300 simplices, remaining 6824 points\n",
      "Classified: 1400 simplices, remaining 6769 points\n",
      "Classified: 1500 simplices, remaining 6487 points\n",
      "Classified: 1600 simplices, remaining 6325 points\n",
      "Classified: 1700 simplices, remaining 6028 points\n",
      "Classified: 1800 simplices, remaining 5741 points\n",
      "Classified: 1900 simplices, remaining 5741 points\n",
      "Classified: 2000 simplices, remaining 5659 points\n",
      "Classified: 2100 simplices, remaining 5637 points\n",
      "Classified: 2200 simplices, remaining 5636 points\n",
      "Classified: 2300 simplices, remaining 5200 points\n",
      "Classified: 2400 simplices, remaining 3822 points\n",
      "Classified: 2500 simplices, remaining 3613 points\n",
      "Classified: 2600 simplices, remaining 533 points\n",
      "Classified: 2700 simplices, remaining 336 points\n",
      "Classified: 2800 simplices, remaining 299 points\n",
      "Classified: 2900 simplices, remaining 26 points\n",
      "Classified: 3000 simplices, remaining 26 points\n",
      "Classified: 3100 simplices, remaining 26 points\n",
      "Classified: 3200 simplices, remaining 26 points\n",
      "Classified: 3300 simplices, remaining 24 points\n",
      "Classified: 3400 simplices, remaining 24 points\n",
      "Classified: 3500 simplices, remaining 24 points\n",
      "Classified: 3600 simplices, remaining 24 points\n",
      "Classified: 3700 simplices, remaining 24 points\n",
      "Classified: 3800 simplices, remaining 24 points\n",
      "Classified: 3900 simplices, remaining 24 points\n"
     ]
    }
   ],
   "source": [
    "from shapely.geometry import Point\n",
    "from shapely.geometry.polygon import Polygon\n",
    "from itertools import compress\n",
    "\n",
    "shapely_points = [Point(v) for v in coords]\n",
    "plot_array = np.zeros((1,4))\n",
    "plot_coords = coords\n",
    "count = 1\n",
    "for i,simplex in zip(num_comps,simplices):\n",
    "    vertices = [grid[:,x] for x in simplex]\n",
    "    v = np.asarray([from4d23d(vertex) for vertex in vertices])\n",
    "    polygon = Polygon(v)\n",
    "    is_interior = [polygon.contains(sp) for sp in shapely_points]\n",
    "    is_border = [polygon.touches(sp) for sp in shapely_points]\n",
    "    criteria = np.logical_or(is_interior,is_border)\n",
    "    selected_points = plot_coords[criteria,:]\n",
    "    selected_labels = i*np.ones(selected_points.shape[0])\n",
    "    temp = np.hstack((selected_points,selected_labels.reshape(-1,1)))\n",
    "    plot_array = np.vstack((plot_array,temp))\n",
    "    shapely_points = list(compress(shapely_points, ~criteria))\n",
    "    plot_coords = plot_coords[~criteria,:]\n",
    "    if count%1000==0:\n",
    "        print('Classified: {} simplices, remaining {} points'.format(count,len(shapely_points)))     \n",
    "    count += 1\n",
    "plot_array = plot_array[1:,:]"
   ]
  },
  {
   "cell_type": "code",
   "execution_count": 65,
   "metadata": {},
   "outputs": [
    {
     "data": {
      "text/plain": [
       "array([1., 1., 1., ..., 3., 4., 4.])"
      ]
     },
     "execution_count": 65,
     "metadata": {},
     "output_type": "execute_result"
    }
   ],
   "source": [
    "plot_array[:,3]"
   ]
  },
  {
   "cell_type": "code",
   "execution_count": 66,
   "metadata": {},
   "outputs": [
    {
     "data": {
      "application/vnd.jupyter.widget-view+json": {
       "model_id": "595502d9242d49d6a94b7e409d348cf5",
       "version_major": 2,
       "version_minor": 0
      },
      "text/plain": [
       "Canvas(toolbar=Toolbar(toolitems=[('Home', 'Reset original view', 'home', 'home'), ('Back', 'Back to previous …"
      ]
     },
     "metadata": {},
     "output_type": "display_data"
    }
   ],
   "source": [
    "plt.close()\n",
    "if dim==4:\n",
    "    fig = plt.figure()\n",
    "    ax = fig.add_subplot(111, projection='3d')\n",
    "    v = np.array([[0, 0, 0], [1, 0, 0], [1/2,np.sqrt(3)/2,0],  [1/2,np.sqrt(3)/6,np.sqrt(6)/3]])\n",
    "    ax.scatter3D(v[:, 0], v[:, 1], v[:, 2],color='black')\n",
    "    verts = get_faces(v)\n",
    "    ax.add_collection3d(Poly3DCollection(verts, facecolors='black', linewidths=0.5, edgecolors='black', alpha=.05))\n",
    "\n",
    "    criteria = plot_array[:,3]==4\n",
    "    cmap = colors.ListedColormap(['tab:red','tab:olive','tab:cyan','tab:purple'])\n",
    "    boundaries = [1,2,3,4,5]\n",
    "    norm = colors.BoundaryNorm(boundaries, cmap.N)\n",
    "    surf = ax.scatter3D(plot_array[criteria, 0], plot_array[criteria, 1], plot_array[criteria, 2],\\\n",
    "                        c=plot_array[criteria,3],cmap=cmap,norm=norm)\n",
    "    cbar = fig.colorbar(surf, shrink=0.5, aspect=5, ticks=[1,2,3,4])\n",
    "    cbar.ax.set_yticklabels(['1-Phase', '2-Phase', '3-Phase','4-Phase'])\n",
    "    plt.show()"
   ]
  },
  {
   "cell_type": "code",
   "execution_count": 18,
   "metadata": {},
   "outputs": [
    {
     "data": {
      "application/vnd.jupyter.widget-view+json": {
       "model_id": "7dc095fc6a054402878108a2d781e185",
       "version_major": 2,
       "version_minor": 0
      },
      "text/plain": [
       "Canvas(toolbar=Toolbar(toolitems=[('Home', 'Reset original view', 'home', 'home'), ('Back', 'Back to previous …"
      ]
     },
     "metadata": {},
     "output_type": "display_data"
    }
   ],
   "source": [
    "from scipy.interpolate import LinearNDInterpolator, NearestNDInterpolator\n",
    "plt.close()\n",
    "if dim==4:\n",
    "    coords = np.asarray([from4d23d(point) for point in grid.T])\n",
    "    fig = plt.figure()\n",
    "    ax = fig.add_subplot(111, projection='3d')\n",
    "    # vertices of a pyramid\n",
    "    v = np.array([[0, 0, 0], [1, 0, 0], [1/2,np.sqrt(3)/2,0],  [1/2,np.sqrt(3)/6,np.sqrt(6)/3]])\n",
    "    ax.scatter3D(v[:, 0], v[:, 1], v[:, 2],color='black')\n",
    "\n",
    "    verts = get_faces(v)\n",
    "    # plot sides\n",
    "    ax.add_collection3d(Poly3DCollection(verts, facecolors='black', linewidths=0.5, edgecolors='black', alpha=.05))\n",
    "    #ax.scatter3D(coords[:, 0], coords[:, 1], coords[:, 2],color='black')\n",
    "    convex_verts,convex_verts_labels = [],[]\n",
    "    convex_verts_label_counts = np.zeros((grid.shape[1],2))\n",
    "    for i,simplex in zip(num_comps,simplices):\n",
    "        for point in simplex:\n",
    "            convex_verts.append(from4d23d(grid[:,point]))\n",
    "            convex_verts_label_counts[point,0]+=i\n",
    "            convex_verts_label_counts[point,1]+=1\n",
    "            \n",
    "            convex_verts_labels.append(i)\n",
    "    convex_verts = np.asarray(convex_verts)\n",
    "    selected_verts = ~np.all(convex_verts_label_counts==0,axis=1)\n",
    "    final_verts_labels =convex_verts_label_counts[selected_verts]\n",
    "    selected_verts_coords = grid[:,selected_verts]\n",
    "    approx_vertex_labels = np.ceil(final_verts_labels[:,0]/final_verts_labels[:,1])\n",
    "    #interp = NearestNDInterpolator(convex_verts, np.asarray(convex_verts_labels))\n",
    "    interp = LinearNDInterpolator(convex_verts, np.asarray(convex_verts_labels))\n",
    "    \n",
    "    interp_labels = np.asarray([interp(point) for point in coords])\n",
    "    interp_labels = interp_labels.reshape(interp_labels.shape[0])\n",
    "    #criteria = np.logical_and(grid[3,:]<0.025,interp_labels==1)\n",
    "    criteria = grid[3,:]<0.25\n",
    "    selected_coords = coords[criteria, :]\n",
    "    selected_labels = interp_labels[criteria]\n",
    "    for i,scord in zip(selected_labels,selected_coords):\n",
    "        if i==1:\n",
    "            ax.scatter3D(scord[0], scord[1], scord[2], alpha=0.5,c='tab:red')\n",
    "        if i==2:\n",
    "            ax.scatter3D(scord[0], scord[1], scord[2], alpha=0.5,c='tab:olive')\n",
    "        if i==3:\n",
    "            ax.scatter3D(scord[0], scord[1], scord[2], alpha=0.5,c='tab:cyan')\n",
    "        if i==4:\n",
    "            ax.scatter3D(scord[0], scord[1], scord[2], alpha=0.5,c='tab:purple')\n",
    "    plt.show()"
   ]
  },
  {
   "cell_type": "markdown",
   "metadata": {},
   "source": [
    "## Using Radial Visualization"
   ]
  },
  {
   "cell_type": "code",
   "execution_count": 19,
   "metadata": {},
   "outputs": [],
   "source": [
    "def get_radviz_data(data):\n",
    "    \"\"\" \n",
    "    Given data in a n-dimensional Euclidean space, \n",
    "    computes a Radial Visualization\n",
    "    \"\"\"\n",
    "    dim, N = data.shape\n",
    "    sj = np.linspace(0,360,dim+1)\n",
    "    theta = np.pi/180*sj[:-1]\n",
    "    xj = np.cos(theta)\n",
    "    yj = np.sin(theta);\n",
    "    R = np.array([xj,yj])\n",
    "    u = np.zeros((N,2))\n",
    "    for i in range(N):\n",
    "        wij = data[:,i]/np.sum(data[:,i])\n",
    "        u[i,:] = [np.sum(wij*xj), np.sum(wij*yj)]\n",
    "        \n",
    "    return R, u\n",
    "\n",
    "R,U = get_radviz_data(grid)"
   ]
  },
  {
   "cell_type": "code",
   "execution_count": 20,
   "metadata": {},
   "outputs": [],
   "source": [
    "def ccw_sort(p):\n",
    "    p = np.array(p)\n",
    "    mean = np.mean(p,axis=0)\n",
    "    d = p-mean\n",
    "    s = np.arctan2(d[:,0], d[:,1])\n",
    "    return p[np.argsort(s),:]"
   ]
  },
  {
   "cell_type": "code",
   "execution_count": 21,
   "metadata": {},
   "outputs": [
    {
     "data": {
      "application/vnd.jupyter.widget-view+json": {
       "model_id": "5c7014b3359d42df83ab39b414bf2818",
       "version_major": 2,
       "version_minor": 0
      },
      "text/plain": [
       "Canvas(toolbar=Toolbar(toolitems=[('Home', 'Reset original view', 'home', 'home'), ('Back', 'Back to previous …"
      ]
     },
     "metadata": {},
     "output_type": "display_data"
    }
   ],
   "source": [
    "fig, ax = plt.subplots()\n",
    "ax.scatter(U[:,0],U[:,1])\n",
    "from scipy.spatial import Delaunay\n",
    "delaunay = Delaunay(U)\n",
    "for i in range(dim):\n",
    "    ax.text(R[0,i],R[1,i],str(i))\n",
    "for triangle in delaunay.simplices:\n",
    "    tri_coords = [U[x,:] for x in triangle]\n",
    "    p = ccw_sort(tri_coords)\n",
    "    ax.add_patch(plt.Polygon(tri_coords,  facecolor=None, fill=False))\n",
    "plt.show()"
   ]
  },
  {
   "cell_type": "code",
   "execution_count": 22,
   "metadata": {},
   "outputs": [
    {
     "data": {
      "application/vnd.jupyter.widget-view+json": {
       "model_id": "6653cbe992b64feebf3e12f82d229923",
       "version_major": 2,
       "version_minor": 0
      },
      "text/plain": [
       "Canvas(toolbar=Toolbar(toolitems=[('Home', 'Reset original view', 'home', 'home'), ('Back', 'Back to previous …"
      ]
     },
     "metadata": {},
     "output_type": "display_data"
    }
   ],
   "source": [
    "# plot radviz for triangulation\n",
    "from matplotlib.patches import Polygon\n",
    "\n",
    "fig, ax = plt.subplots()\n",
    "#patch = Polygon(,closed=True,edgecolor=None, facecolor='brown',fill=True)\n",
    "p = ccw_sort(R.T)\n",
    "patch = Polygon(p, True,edgecolor=None, facecolor='brown')\n",
    "ax.add_patch(patch)\n",
    "x,y = zip(*p)\n",
    "ax.scatter(x,y, color=\"k\", alpha=0.6, zorder=3)\n",
    "for i, triangle in zip(num_comps,simplices):\n",
    "    poly_coords = [U[x,:] for x in triangle]\n",
    "    p = ccw_sort(poly_coords)\n",
    "    if i==2:\n",
    "        ax.add_patch(plt.Polygon(p, edgecolor=None,facecolor='orange', fill=True))\n",
    "    elif i==3:\n",
    "        ax.add_patch(plt.Polygon(p,edgecolor=None, facecolor='lightblue',fill=True))\n",
    "plt.show()"
   ]
  },
  {
   "cell_type": "code",
   "execution_count": null,
   "metadata": {},
   "outputs": [],
   "source": []
  }
 ],
 "metadata": {
  "kernelspec": {
   "display_name": "Python 3",
   "language": "python",
   "name": "python3"
  },
  "language_info": {
   "codemirror_mode": {
    "name": "ipython",
    "version": 3
   },
   "file_extension": ".py",
   "mimetype": "text/x-python",
   "name": "python",
   "nbconvert_exporter": "python",
   "pygments_lexer": "ipython3",
   "version": "3.7.3"
  }
 },
 "nbformat": 4,
 "nbformat_minor": 2
}

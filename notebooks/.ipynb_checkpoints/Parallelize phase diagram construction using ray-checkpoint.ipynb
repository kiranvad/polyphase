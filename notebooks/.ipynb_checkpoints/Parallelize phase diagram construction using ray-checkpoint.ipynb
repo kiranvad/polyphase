{
 "cells": [
  {
   "cell_type": "code",
   "execution_count": 1,
   "metadata": {},
   "outputs": [
    {
     "name": "stderr",
     "output_type": "stream",
     "text": [
      "2020-05-23 16:17:24,969\tINFO resource_spec.py:212 -- Starting Ray with 35.16 GiB memory available for workers and up to 17.6 GiB for objects. You can adjust these settings with ray.init(memory=<bytes>, object_store_memory=<bytes>).\n",
      "2020-05-23 16:17:25,504\tINFO services.py:1170 -- View the Ray dashboard at \u001b[1m\u001b[32mlocalhost:8266\u001b[39m\u001b[22m\n"
     ]
    },
    {
     "data": {
      "text/plain": [
       "{'node_ip_address': '10.116.28.26',\n",
       " 'raylet_ip_address': '10.116.28.26',\n",
       " 'redis_address': '10.116.28.26:28881',\n",
       " 'object_store_address': '/tmp/ray/session_2020-05-23_16-17-24_966239_27942/sockets/plasma_store',\n",
       " 'raylet_socket_name': '/tmp/ray/session_2020-05-23_16-17-24_966239_27942/sockets/raylet',\n",
       " 'webui_url': 'localhost:8266',\n",
       " 'session_dir': '/tmp/ray/session_2020-05-23_16-17-24_966239_27942'}"
      ]
     },
     "execution_count": 1,
     "metadata": {},
     "output_type": "execute_result"
    }
   ],
   "source": [
    "%load_ext autoreload\n",
    "%autoreload 2\n",
    "\n",
    "import ray\n",
    "ray.init(ignore_reinit_error=True)"
   ]
  },
  {
   "cell_type": "code",
   "execution_count": 2,
   "metadata": {},
   "outputs": [
    {
     "name": "stderr",
     "output_type": "stream",
     "text": [
      "\n",
      "Bad key \"text.kerning_factor\" on line 4 in\n",
      "/projects/academic/olgawodo/kiranvad/anaconda3/lib/python3.7/site-packages/matplotlib/mpl-data/stylelib/_classic_test_patch.mplstyle.\n",
      "You probably need to get an updated matplotlibrc file from\n",
      "https://github.com/matplotlib/matplotlib/blob/v3.1.3/matplotlibrc.template\n",
      "or from the matplotlib source distribution\n",
      "/projects/academic/olgawodo/kiranvad/anaconda3/lib/python3.7/site-packages/statsmodels/tools/_testing.py:19: FutureWarning: pandas.util.testing is deprecated. Use the functions in the public API at pandas.testing instead.\n",
      "  import pandas.util.testing as tm\n"
     ]
    }
   ],
   "source": [
    "%config InlineBackend.figure_format = 'svg'\n",
    "import mpltern\n",
    "from matplotlib import rc\n",
    "rc('text', usetex=True)\n",
    "import seaborn as sns\n",
    "import matplotlib.pyplot as plt\n",
    "\n",
    "import pdb\n",
    "import numpy as np\n",
    "\n",
    "import sys\n",
    "if '../' not in sys.path:\n",
    "    sys.path.append('../')\n",
    "\n",
    "from solvers.utils import makegrid3d, get_data\n",
    "\n",
    "import warnings\n",
    "warnings.filterwarnings(\"ignore\")"
   ]
  },
  {
   "cell_type": "code",
   "execution_count": 37,
   "metadata": {},
   "outputs": [],
   "source": [
    "from scipy.spatial import ConvexHull\n",
    "import numpy as np\n",
    "from math import pi\n",
    "\n",
    "def get_ternary_coords(point):\n",
    "    a,b,c = point\n",
    "    x = 0.5-a*np.cos(pi/3)+b/2;\n",
    "    y = 0.866-a*np.sin(pi/3)-b*(1/np.tan(pi/6)/2);\n",
    "    \n",
    "    return [x,y]\n",
    "\n",
    "def flory_huggins(x, M,CHI,beta=1e-3):\n",
    "    T1 = 0\n",
    "    for i,xi in enumerate(x):\n",
    "        T1 += (xi*np.log(xi))/M[i] + beta/xi\n",
    "    T2 = 0.5*np.matmul((np.matmul(x,CHI)),np.transpose(x)) \n",
    "    \n",
    "    return T1+T2  \n",
    "\n",
    "def makegrid3d(num=50):\n",
    "    X = np.linspace(0.001,0.999,num=num)\n",
    "    Y,Z = X,X\n",
    "    grid = []\n",
    "    for x in X:\n",
    "        for y in Y:\n",
    "            for z in Z:\n",
    "                if np.isclose(x+y+z,1.0,atol=1e-3,rtol=1e-3):\n",
    "                    grid.append([x,y,z])\n",
    "           \n",
    "    return grid\n",
    "\n",
    "@ray.remote\n",
    "def setup_data(M,CHI,meshsize=40):\n",
    "    grid = np.asarray(makegrid3d(num=meshsize))\n",
    "    gmix = lambda x: flory_huggins(x, M, CHI,beta=1e-4)\n",
    "    energy, coords = [],[]\n",
    "    for point in grid:\n",
    "        energy.append(gmix(point))\n",
    "        coords.append(get_ternary_coords(point))\n",
    "\n",
    "    points = np.concatenate((coords,np.asarray(energy).reshape(-1,1)),axis=1)\n",
    "    hull = ConvexHull(points)\n",
    "    coords = np.asarray(coords)\n",
    "\n",
    "    return grid, energy, hull,coords\n",
    "\n",
    "@ray.remote\n",
    "def refine_and_label_simplices(hull,grid,coords):\n",
    "    simplices, num_comp_list = [],[]\n",
    "    for simplex in hull.simplices:\n",
    "        point_class = np.sum(np.isclose(grid[simplex],0.001),axis=1)\n",
    "        point_class = np.unique(3 - point_class)\n",
    "        if (point_class==1).any():\n",
    "            pass\n",
    "        else:\n",
    "            simplices.append(simplex)\n",
    "            num_comp_list.append(label_simplex(simplex,coords))\n",
    "    \n",
    "    return simplices, num_comp_list\n",
    "\n",
    "from scipy.spatial.distance import pdist, euclidean, squareform\n",
    "from scipy.sparse import csr_matrix\n",
    "from scipy.sparse.csgraph import connected_components\n",
    "\n",
    "def label_simplex(simplex,thresh):\n",
    "    tri_coords = coords[simplex,:]\n",
    "    dist = squareform(pdist(tri_coords,'euclidean'))\n",
    "    adjacency = dist<thresh\n",
    "    adjacency =  adjacency.astype(int)  \n",
    "    graph = csr_matrix(adjacency)\n",
    "    n_components, labels = connected_components(csgraph=graph, directed=False, return_labels=True)\n",
    "\n",
    "    return n_components\n",
    "\n",
    "def plot_phase_diagram(simplices,num_comps,coords,info):\n",
    "    fig, ax = plt.subplots()\n",
    "    ax.set_aspect('equal')\n",
    "    poly_coords = np.array([[0.0,0.0],[1.0,0.0],[0.5,np.sqrt(3)/2+0.01]])\n",
    "    ax.add_patch(plt.Polygon(poly_coords,edgecolor=None, facecolor='brown',fill=True))\n",
    "    words = [r'$\\varphi_{p1}$',r'$\\varphi_{p2}$',r'$\\varphi_{s}$']\n",
    "    xs = [-0.15,1,0.5]\n",
    "    ys = [0,0,np.sqrt(3)/2+0.01]\n",
    "    for x, y, s in zip(xs,ys,words):\n",
    "        plt.text(x,y,s,fontsize=20)\n",
    "    for i, triangle in zip(num_comps,simplices):\n",
    "        tri_coords = coords[triangle,:]\n",
    "        if i==2:\n",
    "            ax.add_patch(plt.Polygon(tri_coords, edgecolor=None,facecolor='orange',fill=True))\n",
    "        elif i==3:\n",
    "            ax.add_patch(plt.Polygon(tri_coords,edgecolor=None, facecolor='lightblue',fill=True))\n",
    "\n",
    "    ax.set_title(info['params'],pad=20)\n",
    "    plt.axis('off')\n",
    "    plt.legend(['1-phase','2-phase','3-phase'])\n",
    "    #plt.savefig('../figures/May13Wed/'+info['fname']+'.png',dpi=500,bbox_inches='tight')\n",
    "    plt.show()"
   ]
  },
  {
   "cell_type": "code",
   "execution_count": 39,
   "metadata": {},
   "outputs": [
    {
     "ename": "RayTaskError(ValueError)",
     "evalue": "\u001b[36mray::__main__.refine_and_label_simplices()\u001b[39m (pid=28029, ip=10.116.28.26)\n  File \"python/ray/_raylet.pyx\", line 463, in ray._raylet.execute_task\n  File \"<ipython-input-37-8d0d9a0c7c07>\", line 57, in refine_and_label_simplices\n  File \"<ipython-input-37-8d0d9a0c7c07>\", line 69, in label_simplex\nValueError: operands could not be broadcast together with shapes (3,3) (210,2)",
     "output_type": "error",
     "traceback": [
      "\u001b[0;31m---------------------------------------------------------------------------\u001b[0m",
      "\u001b[0;31mRayTaskError(ValueError)\u001b[0m                  Traceback (most recent call last)",
      "\u001b[0;32m<ipython-input-39-85e16c742a81>\u001b[0m in \u001b[0;36m<module>\u001b[0;34m\u001b[0m\n\u001b[1;32m      4\u001b[0m \u001b[0mgrid\u001b[0m\u001b[0;34m,\u001b[0m \u001b[0menergy\u001b[0m\u001b[0;34m,\u001b[0m \u001b[0mhull\u001b[0m\u001b[0;34m,\u001b[0m\u001b[0mcoords\u001b[0m \u001b[0;34m=\u001b[0m \u001b[0mray\u001b[0m\u001b[0;34m.\u001b[0m\u001b[0mget\u001b[0m\u001b[0;34m(\u001b[0m\u001b[0msetup_data\u001b[0m\u001b[0;34m.\u001b[0m\u001b[0mremote\u001b[0m\u001b[0;34m(\u001b[0m\u001b[0mM\u001b[0m\u001b[0;34m,\u001b[0m\u001b[0mCHI\u001b[0m\u001b[0;34m,\u001b[0m\u001b[0mmeshsize\u001b[0m\u001b[0;34m=\u001b[0m\u001b[0;36m20\u001b[0m\u001b[0;34m)\u001b[0m\u001b[0;34m)\u001b[0m\u001b[0;34m\u001b[0m\u001b[0;34m\u001b[0m\u001b[0m\n\u001b[1;32m      5\u001b[0m \u001b[0mthresh\u001b[0m \u001b[0;34m=\u001b[0m \u001b[0;36m5\u001b[0m\u001b[0;34m*\u001b[0m\u001b[0meuclidean\u001b[0m\u001b[0;34m(\u001b[0m\u001b[0mcoords\u001b[0m\u001b[0;34m[\u001b[0m\u001b[0;36m0\u001b[0m\u001b[0;34m,\u001b[0m\u001b[0;34m:\u001b[0m\u001b[0;34m]\u001b[0m\u001b[0;34m,\u001b[0m\u001b[0mcoords\u001b[0m\u001b[0;34m[\u001b[0m\u001b[0;36m1\u001b[0m\u001b[0;34m,\u001b[0m\u001b[0;34m:\u001b[0m\u001b[0;34m]\u001b[0m\u001b[0;34m)\u001b[0m\u001b[0;34m\u001b[0m\u001b[0;34m\u001b[0m\u001b[0m\n\u001b[0;32m----> 6\u001b[0;31m \u001b[0msimplices\u001b[0m\u001b[0;34m,\u001b[0m\u001b[0mnum_comps\u001b[0m  \u001b[0;34m=\u001b[0m \u001b[0mray\u001b[0m\u001b[0;34m.\u001b[0m\u001b[0mget\u001b[0m\u001b[0;34m(\u001b[0m\u001b[0mrefine_and_label_simplices\u001b[0m\u001b[0;34m.\u001b[0m\u001b[0mremote\u001b[0m\u001b[0;34m(\u001b[0m\u001b[0mhull\u001b[0m\u001b[0;34m,\u001b[0m\u001b[0mgrid\u001b[0m\u001b[0;34m,\u001b[0m\u001b[0mcoords\u001b[0m\u001b[0;34m)\u001b[0m\u001b[0;34m)\u001b[0m\u001b[0;34m\u001b[0m\u001b[0;34m\u001b[0m\u001b[0m\n\u001b[0m\u001b[1;32m      7\u001b[0m \u001b[0mplot_phase_diagram\u001b[0m\u001b[0;34m(\u001b[0m\u001b[0msimplices\u001b[0m\u001b[0;34m,\u001b[0m\u001b[0mnum_comps\u001b[0m\u001b[0;34m,\u001b[0m\u001b[0mcoords\u001b[0m\u001b[0;34m,\u001b[0m\u001b[0minfo\u001b[0m\u001b[0;34m)\u001b[0m\u001b[0;34m\u001b[0m\u001b[0;34m\u001b[0m\u001b[0m\n\u001b[1;32m      8\u001b[0m \u001b[0mprint\u001b[0m\u001b[0;34m(\u001b[0m\u001b[0;34m'Total elapsed time is: {}'\u001b[0m\u001b[0;34m.\u001b[0m\u001b[0mformat\u001b[0m\u001b[0;34m(\u001b[0m\u001b[0mtime\u001b[0m\u001b[0;34m.\u001b[0m\u001b[0mtime\u001b[0m\u001b[0;34m(\u001b[0m\u001b[0;34m)\u001b[0m\u001b[0;34m-\u001b[0m\u001b[0msince\u001b[0m\u001b[0;34m)\u001b[0m\u001b[0;34m)\u001b[0m\u001b[0;34m\u001b[0m\u001b[0;34m\u001b[0m\u001b[0m\n",
      "\u001b[0;32m/projects/academic/olgawodo/kiranvad/anaconda3/lib/python3.7/site-packages/ray/worker.py\u001b[0m in \u001b[0;36mget\u001b[0;34m(object_ids, timeout)\u001b[0m\n\u001b[1;32m   1513\u001b[0m                     \u001b[0mworker\u001b[0m\u001b[0;34m.\u001b[0m\u001b[0mcore_worker\u001b[0m\u001b[0;34m.\u001b[0m\u001b[0mdump_object_store_memory_usage\u001b[0m\u001b[0;34m(\u001b[0m\u001b[0;34m)\u001b[0m\u001b[0;34m\u001b[0m\u001b[0;34m\u001b[0m\u001b[0m\n\u001b[1;32m   1514\u001b[0m                 \u001b[0;32mif\u001b[0m \u001b[0misinstance\u001b[0m\u001b[0;34m(\u001b[0m\u001b[0mvalue\u001b[0m\u001b[0;34m,\u001b[0m \u001b[0mRayTaskError\u001b[0m\u001b[0;34m)\u001b[0m\u001b[0;34m:\u001b[0m\u001b[0;34m\u001b[0m\u001b[0;34m\u001b[0m\u001b[0m\n\u001b[0;32m-> 1515\u001b[0;31m                     \u001b[0;32mraise\u001b[0m \u001b[0mvalue\u001b[0m\u001b[0;34m.\u001b[0m\u001b[0mas_instanceof_cause\u001b[0m\u001b[0;34m(\u001b[0m\u001b[0;34m)\u001b[0m\u001b[0;34m\u001b[0m\u001b[0;34m\u001b[0m\u001b[0m\n\u001b[0m\u001b[1;32m   1516\u001b[0m                 \u001b[0;32melse\u001b[0m\u001b[0;34m:\u001b[0m\u001b[0;34m\u001b[0m\u001b[0;34m\u001b[0m\u001b[0m\n\u001b[1;32m   1517\u001b[0m                     \u001b[0;32mraise\u001b[0m \u001b[0mvalue\u001b[0m\u001b[0;34m\u001b[0m\u001b[0;34m\u001b[0m\u001b[0m\n",
      "\u001b[0;31mRayTaskError(ValueError)\u001b[0m: \u001b[36mray::__main__.refine_and_label_simplices()\u001b[39m (pid=28029, ip=10.116.28.26)\n  File \"python/ray/_raylet.pyx\", line 463, in ray._raylet.execute_task\n  File \"<ipython-input-37-8d0d9a0c7c07>\", line 57, in refine_and_label_simplices\n  File \"<ipython-input-37-8d0d9a0c7c07>\", line 69, in label_simplex\nValueError: operands could not be broadcast together with shapes (3,3) (210,2)"
     ]
    }
   ],
   "source": [
    "import time\n",
    "since = time.time()\n",
    "M,CHI,info=get_data(name='FHPaper',fhid=4)\n",
    "grid, energy, hull,coords = ray.get(setup_data.remote(M,CHI,meshsize=20))\n",
    "thresh = 5*euclidean(coords[0,:],coords[1,:])\n",
    "simplices,num_comps  = ray.get(refine_and_label_simplices.remote(hull,grid,coords))\n",
    "plot_phase_diagram(simplices,num_comps,coords,info)\n",
    "print('Total elapsed time is: {}'.format(time.time()-since))"
   ]
  },
  {
   "cell_type": "code",
   "execution_count": null,
   "metadata": {},
   "outputs": [],
   "source": []
  }
 ],
 "metadata": {
  "kernelspec": {
   "display_name": "Python 3",
   "language": "python",
   "name": "python3"
  },
  "language_info": {
   "codemirror_mode": {
    "name": "ipython",
    "version": 3
   },
   "file_extension": ".py",
   "mimetype": "text/x-python",
   "name": "python",
   "nbconvert_exporter": "python",
   "pygments_lexer": "ipython3",
   "version": "3.7.3"
  }
 },
 "nbformat": 4,
 "nbformat_minor": 2
}

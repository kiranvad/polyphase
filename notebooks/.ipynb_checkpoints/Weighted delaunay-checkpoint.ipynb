{
 "cells": [
  {
   "cell_type": "code",
   "execution_count": 1,
   "metadata": {},
   "outputs": [],
   "source": [
    "%load_ext autoreload\n",
    "%autoreload 2"
   ]
  },
  {
   "cell_type": "code",
   "execution_count": 2,
   "metadata": {},
   "outputs": [
    {
     "name": "stdout",
     "output_type": "stream",
     "text": [
      "Number of cores available: 40\n"
     ]
    }
   ],
   "source": [
    "import numpy as np\n",
    "import pandas as pd\n",
    "import pdb\n",
    "\n",
    "import sys\n",
    "if '../' not in sys.path:\n",
    "    sys.path.insert(0,'../')\n",
    "    \n",
    "from parallel.parphase import WeightedDelaunay\n"
   ]
  },
  {
   "cell_type": "code",
   "execution_count": 3,
   "metadata": {},
   "outputs": [
    {
     "data": {
      "text/plain": [
       "((10, 2), (10,))"
      ]
     },
     "execution_count": 3,
     "metadata": {},
     "output_type": "execute_result"
    }
   ],
   "source": [
    "num_points = 10\n",
    "points = np.random.rand(num_points, 2)\n",
    "weights = 2*np.ones(num_points)\n",
    "points.shape, weights.shape"
   ]
  },
  {
   "cell_type": "code",
   "execution_count": 4,
   "metadata": {},
   "outputs": [
    {
     "data": {
      "text/plain": [
       "<Figure size 1280x400 with 2 Axes>"
      ]
     },
     "metadata": {},
     "output_type": "display_data"
    }
   ],
   "source": [
    "# Test: weighted Delaunay with zero weights is same as Delaunay \n",
    "from scipy.spatial import Delaunay\n",
    "import matplotlib.pyplot as plt\n",
    "\n",
    "def test_weighted_delaunay(points, weights):\n",
    "    normal_delaunay = Delaunay(points)\n",
    "    wt_delaunay = WeightedDelaunay(points, weights)\n",
    "    fig, axs = plt.subplots(1,2, figsize=(2*4*1.6,4))\n",
    "    axs[0].triplot(points[:,0], points[:,1], normal_delaunay.simplices, 'b-', lw=1.0)\n",
    "    axs[0].scatter(points[:,0], points[:,1],s = 50,c = 'b')\n",
    "    axs[0].set_title('Delaunay triangulation')\n",
    "    axs[1].triplot(wt_delaunay.points[:,0], wt_delaunay.points[:,1], wt_delaunay.simplices, 'b-', lw=1.0)\n",
    "    axs[1].scatter(wt_delaunay.vertices[:,0], wt_delaunay.vertices[:,1],s = 50,c = 'b')\n",
    "    axs[1].set_title('Weighted Delaunay')\n",
    "    plt.show()\n",
    "    \n",
    "test_weighted_delaunay(points, weights)    "
   ]
  },
  {
   "cell_type": "markdown",
   "metadata": {},
   "source": [
    "## Check the phases in 3-component system\n",
    "compute weighted delaunay of a 3-component system with the energy landscape defined by $\\varphi_1, \\varphi_2$ and energy. We can visualize its corresponding weighted delaunay in 2D "
   ]
  },
  {
   "cell_type": "code",
   "execution_count": 5,
   "metadata": {},
   "outputs": [
    {
     "name": "stderr",
     "output_type": "stream",
     "text": [
      "2020-07-15 09:07:14,353\tINFO resource_spec.py:212 -- Starting Ray with 118.7 GiB memory available for workers and up to 54.88 GiB for objects. You can adjust these settings with ray.init(memory=<bytes>, object_store_memory=<bytes>).\n",
      "2020-07-15 09:07:18,584\tINFO services.py:1170 -- View the Ray dashboard at \u001b[1m\u001b[32mlocalhost:8265\u001b[39m\u001b[22m\n"
     ]
    },
    {
     "name": "stdout",
     "output_type": "stream",
     "text": [
      "3-dimensional grid generated at 0.10s\n",
      "Energy computed at 4.52s\n",
      "Convexhull is computed at 4.52s\n",
      "Using 1.81E-01 as a threshold for Laplacian of a simplex\n",
      "Simplices are labelled at 5.53s\n",
      "Computation took 5.53s\n"
     ]
    }
   ],
   "source": [
    "# first compute phase diagram using the convex hell approach so that we can access data related to grid and energy\n",
    "from parallel.parphase import compute\n",
    "\n",
    "dimensions = 3\n",
    "# M = np.array([64,1,1])\n",
    "# chi = [1.0,0.3,0.2]\n",
    "M = np.array([5,5,1])\n",
    "chi = [1.0,0.5,0.5]\n",
    "configuration = {'M': M, 'chi':chi}\n",
    "dx = 40\n",
    "out = compute(3, configuration, dx, flag_refine_simplices=True, beta=1e-4)\n",
    "grid = out['grid']\n",
    "num_comps = out['num_comps']\n",
    "simplices = out['simplices']\n",
    "output = out['output']"
   ]
  },
  {
   "cell_type": "code",
   "execution_count": 14,
   "metadata": {},
   "outputs": [],
   "source": [
    "from scipy.spatial import ConvexHull\n",
    "points = grid[:-1,:].T\n",
    "energy = out['energy']\n",
    "weights = energy\n",
    "normal_delaunay = Delaunay(points)\n",
    "wt_delaunay = WeightedDelaunay(points, weights)\n",
    "\n",
    "paraboloid = wt_delaunay.lifted_points\n",
    "paraboloid_hull = ConvexHull(paraboloid[:-1,:])"
   ]
  },
  {
   "cell_type": "code",
   "execution_count": 17,
   "metadata": {},
   "outputs": [
    {
     "data": {
      "application/vnd.jupyter.widget-view+json": {
       "model_id": "3f69a56c1bcd4a6bb9b40b6ce750d588",
       "version_major": 2,
       "version_minor": 0
      },
      "text/plain": [
       "Canvas(toolbar=Toolbar(toolitems=[('Home', 'Reset original view', 'home', 'home'), ('Back', 'Back to previous …"
      ]
     },
     "metadata": {},
     "output_type": "display_data"
    }
   ],
   "source": [
    "%matplotlib widget\n",
    "fig = plt.figure()\n",
    "ax = fig.add_subplot(111, projection='3d')\n",
    "x = paraboloid[:-1,0]\n",
    "y = paraboloid[:-1,1]\n",
    "z = energy\n",
    "t =  paraboloid[:-1,2]\n",
    "# ax.scatter(x,y, paraboloid[:-1,2], color='tab:green')\n",
    "ax.plot_trisurf(x, y, t,\\\n",
    "               triangles = wt_delaunay.simplices, color='none', edgecolor='tab:green')\n",
    "plt.show()\n"
   ]
  },
  {
   "cell_type": "code",
   "execution_count": 18,
   "metadata": {},
   "outputs": [
    {
     "data": {
      "application/vnd.jupyter.widget-view+json": {
       "model_id": "a13328552810419794b24ccc9549aca4",
       "version_major": 2,
       "version_minor": 0
      },
      "text/plain": [
       "Canvas(toolbar=Toolbar(toolitems=[('Home', 'Reset original view', 'home', 'home'), ('Back', 'Back to previous …"
      ]
     },
     "metadata": {},
     "output_type": "display_data"
    }
   ],
   "source": [
    "# plot energy landscape with out and without paraboloid lifting\n",
    "%matplotlib widget\n",
    "fig = plt.figure(figsize=(2*3*1.6, 3))\n",
    "x = paraboloid[:-1,0]\n",
    "y = paraboloid[:-1,1]\n",
    "z = energy\n",
    "ax = fig.add_subplot(121, projection='3d')\n",
    "\n",
    "# ax.scatter(x, y, color='tab:red')\n",
    "ax.plot_trisurf(x, y, z,\\\n",
    "               triangles = normal_delaunay.simplices, color='tab:blue', edgecolor='none')\n",
    "ax.set_title('Energy landscape from Flory Huggins')\n",
    "\n",
    "ax = fig.add_subplot(122, projection='3d')\n",
    "# ax.scatter(x, y, color='tab:red')\n",
    "ax.plot_trisurf(x, y, paraboloid[:-1,2],\\\n",
    "               triangles = normal_delaunay.simplices, color='tab:green', edgecolor='none')\n",
    "ax.set_title('Paraboloid lifting')\n",
    "plt.show()"
   ]
  },
  {
   "cell_type": "code",
   "execution_count": 9,
   "metadata": {},
   "outputs": [
    {
     "data": {
      "application/vnd.jupyter.widget-view+json": {
       "model_id": "58fce2dc08b54af8b85d30e6d5915e48",
       "version_major": 2,
       "version_minor": 0
      },
      "text/plain": [
       "Canvas(toolbar=Toolbar(toolitems=[('Home', 'Reset original view', 'home', 'home'), ('Back', 'Back to previous …"
      ]
     },
     "metadata": {},
     "output_type": "display_data"
    }
   ],
   "source": [
    "# plot weighted delaunay in ternary coords\n",
    "from solvers.helpers import get_ternary_coords\n",
    "tri_coords = np.array([get_ternary_coords(pt) for pt in grid.T])\n",
    "\n",
    "fig = plt.figure(figsize=(2*3*1.6, 3))\n",
    "ax = fig.add_subplot(121)\n",
    "ax.triplot(tri_coords[:,0], tri_coords[:,1], simplices, 'b-', lw=1.0)\n",
    "ax.set_title('Convex Hull method')\n",
    "\n",
    "ax = fig.add_subplot(122)\n",
    "ax.triplot(tri_coords[:,0], tri_coords[:,1], wt_delaunay.simplices, 'b-', lw=1.0)\n",
    "ax.set_title('Weighted Delaunay')\n",
    "plt.show()"
   ]
  },
  {
   "cell_type": "code",
   "execution_count": null,
   "metadata": {},
   "outputs": [],
   "source": []
  }
 ],
 "metadata": {
  "kernelspec": {
   "display_name": "Python 3",
   "language": "python",
   "name": "python3"
  },
  "language_info": {
   "codemirror_mode": {
    "name": "ipython",
    "version": 3
   },
   "file_extension": ".py",
   "mimetype": "text/x-python",
   "name": "python",
   "nbconvert_exporter": "python",
   "pygments_lexer": "ipython3",
   "version": "3.7.3"
  }
 },
 "nbformat": 4,
 "nbformat_minor": 2
}

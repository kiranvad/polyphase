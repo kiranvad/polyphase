{
 "cells": [
  {
   "cell_type": "markdown",
   "metadata": {},
   "source": [
    "This notebook computes phase diagram for a four component system with parameters taken from [Nilsson, Svante, et al.Macromolecules 40.23 (2007): 8291-8301](). \n",
    "\n",
    "While the solvent/co-solvent parameters are extracted from the document `expts/data/fourcompexp/solvents.pdf`.\n",
    "\n",
    "Following formula would be used to compute $\\chi$ parameters:\n",
    "$$  \\chi_{ij} = 0.34 + \\frac{V_3}{RT}(\\delta_i - \\delta_j)^2$$. Approporiate conversion of units is necessary.\n",
    " "
   ]
  },
  {
   "cell_type": "code",
   "execution_count": 26,
   "metadata": {},
   "outputs": [
    {
     "name": "stdout",
     "output_type": "stream",
     "text": [
      "The autoreload extension is already loaded. To reload it, use:\n",
      "  %reload_ext autoreload\n"
     ]
    }
   ],
   "source": [
    "%load_ext autoreload\n",
    "%autoreload 2"
   ]
  },
  {
   "cell_type": "code",
   "execution_count": 27,
   "metadata": {},
   "outputs": [],
   "source": [
    "import numpy as np\n",
    "import pandas as pd\n",
    "import pdb\n",
    "\n",
    "import sys\n",
    "if '../' not in sys.path:\n",
    "    sys.path.insert(0,'../')"
   ]
  },
  {
   "cell_type": "code",
   "execution_count": 28,
   "metadata": {},
   "outputs": [],
   "source": [
    "from numpy.linalg import norm\n",
    "from scipy.constants import gas_constant\n",
    "\n",
    "def compute_chi(delta_i,delta_j,V):\n",
    "    \"\"\"\n",
    "    total solubility parameters delta_i, delta_j are computed from hydrogen, polar, dispersive components\n",
    "    \n",
    "    iSol, jSol in MPa^{1/2} and V in cm3/mol\n",
    "    \n",
    "    returns a scalar chi value\n",
    "    \n",
    "    \"\"\"\n",
    "    constant = 4.184*(2.045**2)/(8.314)\n",
    "    \n",
    "    chi_ij = 0.34 + (constant)*(V/(gas_constant*300)*(delta_i - delta_j)**2)\n",
    "        \n",
    "    return chi_ij"
   ]
  },
  {
   "cell_type": "code",
   "execution_count": 29,
   "metadata": {
    "scrolled": true
   },
   "outputs": [
    {
     "data": {
      "text/html": [
       "<div>\n",
       "<style scoped>\n",
       "    .dataframe tbody tr th:only-of-type {\n",
       "        vertical-align: middle;\n",
       "    }\n",
       "\n",
       "    .dataframe tbody tr th {\n",
       "        vertical-align: top;\n",
       "    }\n",
       "\n",
       "    .dataframe thead th {\n",
       "        text-align: right;\n",
       "    }\n",
       "</style>\n",
       "<table border=\"1\" class=\"dataframe\">\n",
       "  <thead>\n",
       "    <tr style=\"text-align: right;\">\n",
       "      <th></th>\n",
       "      <th>d</th>\n",
       "      <th>p</th>\n",
       "      <th>hb</th>\n",
       "      <th>T</th>\n",
       "      <th>VM</th>\n",
       "      <th>delta</th>\n",
       "    </tr>\n",
       "  </thead>\n",
       "  <tbody>\n",
       "    <tr>\n",
       "      <th>Chlorobenzene</th>\n",
       "      <td>19.0</td>\n",
       "      <td>4.3</td>\n",
       "      <td>2.0</td>\n",
       "      <td>19.58</td>\n",
       "      <td>81.48</td>\n",
       "      <td>19.582901</td>\n",
       "    </tr>\n",
       "    <tr>\n",
       "      <th>o-Dichlorobenzene</th>\n",
       "      <td>19.2</td>\n",
       "      <td>6.5</td>\n",
       "      <td>3.3</td>\n",
       "      <td>20.47</td>\n",
       "      <td>92.86</td>\n",
       "      <td>20.537283</td>\n",
       "    </tr>\n",
       "    <tr>\n",
       "      <th>Chloroform</th>\n",
       "      <td>17.8</td>\n",
       "      <td>3.1</td>\n",
       "      <td>5.7</td>\n",
       "      <td>18.95</td>\n",
       "      <td>63.05</td>\n",
       "      <td>18.945712</td>\n",
       "    </tr>\n",
       "    <tr>\n",
       "      <th>o-Xylene</th>\n",
       "      <td>18.0</td>\n",
       "      <td>1.4</td>\n",
       "      <td>2.9</td>\n",
       "      <td>18.1</td>\n",
       "      <td>94.0</td>\n",
       "      <td>18.285787</td>\n",
       "    </tr>\n",
       "    <tr>\n",
       "      <th>Toluene</th>\n",
       "      <td>18.0</td>\n",
       "      <td>1.4</td>\n",
       "      <td>2.0</td>\n",
       "      <td>18.29</td>\n",
       "      <td>81.42</td>\n",
       "      <td>18.164801</td>\n",
       "    </tr>\n",
       "  </tbody>\n",
       "</table>\n",
       "</div>"
      ],
      "text/plain": [
       "                      d    p   hb      T     VM      delta\n",
       "Chlorobenzene      19.0  4.3  2.0  19.58  81.48  19.582901\n",
       "o-Dichlorobenzene  19.2  6.5  3.3  20.47  92.86  20.537283\n",
       "Chloroform         17.8  3.1  5.7  18.95  63.05  18.945712\n",
       "o-Xylene           18.0  1.4  2.9   18.1   94.0  18.285787\n",
       "Toluene            18.0  1.4  2.0  18.29  81.42  18.164801"
      ]
     },
     "execution_count": 29,
     "metadata": {},
     "output_type": "execute_result"
    }
   ],
   "source": [
    "data_array = np.array([['Solvent', 'd', 'p', 'hb', 'T', 'VM'],\n",
    "['Chlorobenzene', 19.0, 4.3, 2.0 ,19.58 ,81.48],\n",
    "['o-Dichlorobenzene', 19.2, 6.5 ,3.3 ,20.47 ,92.86],\n",
    "['Chloroform', 17.8, 3.1 ,5.7, 18.95, 63.05],\n",
    "['o-Xylene', 18.0, 1.4, 2.9, 18.10, 94.00],\n",
    "['Toluene', 18.0 ,1.4 ,2.0, 18.29, 81.42]])\n",
    "\n",
    "df = pd.DataFrame(data=data_array[1:,1:],index=data_array[1:,0],columns=data_array[0,1:])\n",
    "df['delta'] = df.apply(lambda x: norm([x['d'],x['p'],x['hb']]), axis=1)\n",
    "df.head()"
   ]
  },
  {
   "cell_type": "code",
   "execution_count": 61,
   "metadata": {},
   "outputs": [],
   "source": [
    "delta_polymer = 19.14 #(MPa^1/2)\n",
    "delta_sm = 20.34  #(MPa^1/2)\n",
    "delta_solvent11 = norm([15.2,5.1,14.7]) \n",
    "delta_PC71BM = norm([20.16,5.37,4.49])\n",
    "delta_P3HT = norm([18.56, 2.88, 3.19])"
   ]
  },
  {
   "cell_type": "code",
   "execution_count": 66,
   "metadata": {},
   "outputs": [],
   "source": [
    "\n",
    "M = [1,100,5,5] #(polymer, small molecule, solvent, co-solvent)\n",
    "\n",
    "from itertools import combinations\n",
    "def get_chi_vector(deltas):\n",
    "    \"\"\"\n",
    "    Given a list of deltas, computes binary interactions of chis\n",
    "    \"\"\"\n",
    "    combs = combinations(deltas,2)\n",
    "    inds = list((i,j) for ((i,_),(j,_)) in combinations(enumerate(deltas), 2))\n",
    "    chi = [compute_chi(i[0],i[1],100) for i in combs]\n",
    "    \n",
    "    return chi, inds"
   ]
  },
  {
   "cell_type": "code",
   "execution_count": 74,
   "metadata": {},
   "outputs": [],
   "source": [
    "from solvers.phase import PhaseModelling\n",
    "%config InlineBackend.figure_format = 'svg'\n",
    "%matplotlib widget\n",
    "from matplotlib import rc\n",
    "rc('text', usetex=True)\n",
    "import seaborn as sns\n",
    "import matplotlib.pyplot as plt\n",
    "\n",
    "def run_experiment(chi):\n",
    "    configuration = {'M':M, 'chi':chi}\n",
    "    pm = PhaseModelling(4,configuration, meshsize=100, refine_simplices = False)\n",
    "    num_comps = pm.run()\n",
    "    plt.close()\n",
    "    fig, axs = plt.subplots(2,2,subplot_kw={'projection':'3d'})\n",
    "    axs = axs.reshape(4)\n",
    "    slices = [0.025,0.25,0.5,1.0]\n",
    "    for i,ax in enumerate(axs):\n",
    "        ax, cbar = pm.plot(ax=ax, sliceat=slices[i],cbar=False)\n",
    "        #cbar.remove()\n",
    "    return fig, pm"
   ]
  },
  {
   "cell_type": "code",
   "execution_count": 75,
   "metadata": {
    "scrolled": true
   },
   "outputs": [
    {
     "name": "stdout",
     "output_type": "stream",
     "text": [
      "4-dimensional grid geenrated at 5.75s\n",
      "Convexhull is computed at 34.52s\n",
      "Simplices are labelled at 167.55s\n",
      "Labels are lifted at 1654.38s\n",
      "Total 15994/287113 coplanar simplices\n"
     ]
    },
    {
     "data": {
      "application/vnd.jupyter.widget-view+json": {
       "model_id": "3554f4fce2f04f63a4d1c59a07679338",
       "version_major": 2,
       "version_minor": 0
      },
      "text/plain": [
       "Canvas(toolbar=Toolbar(toolitems=[('Home', 'Reset original view', 'home', 'home'), ('Back', 'Back to previous …"
      ]
     },
     "metadata": {},
     "output_type": "display_data"
    }
   ],
   "source": [
    "for row in range(1,len(df)):\n",
    "    cosolvent = df.index[row]\n",
    "    solvent = '11'\n",
    "    chi, inds = get_chi_vector([delta_P3HT, delta_PC71BM,delta_solvent11,df.loc[cosolvent,'delta']])\n",
    "    fig, pm = run_experiment(chi)\n",
    "    fname = '../figures/June10Thurs/{}_{}.png'.format(solvent,cosolvent)\n",
    "    name_solvs = r'$\\varphi_3$: {}, $\\varphi_4$:{}'.format(solvent,cosolvent)\n",
    "    name_chis = r'$\\chi: $'+ ','.join('{:.2f}'.format(k) for k in chi)\n",
    "    title = '{}\\n{}'.format(name_solvs,name_chis)\n",
    "    fig.suptitle(title)\n",
    "    plt.show()\n",
    "    #plt.savefig(fname,dpi=500)\n",
    "    break"
   ]
  },
  {
   "cell_type": "code",
   "execution_count": 50,
   "metadata": {},
   "outputs": [
    {
     "data": {
      "application/vnd.jupyter.widget-view+json": {
       "model_id": "0989923b908e4e62b923394b324b6d5c",
       "version_major": 2,
       "version_minor": 0
      },
      "text/plain": [
       "Canvas(toolbar=Toolbar(toolitems=[('Home', 'Reset original view', 'home', 'home'), ('Back', 'Back to previous …"
      ]
     },
     "metadata": {},
     "output_type": "display_data"
    }
   ],
   "source": [
    "# try gluing simplies\n",
    "from solvers.visuals import plot_4d_phase_simplex_addition\n",
    "plt.close()\n",
    "plot_4d_phase_simplex_addition(pm,sliceat=0.5)"
   ]
  },
  {
   "cell_type": "code",
   "execution_count": 73,
   "metadata": {},
   "outputs": [
    {
     "name": "stdout",
     "output_type": "stream",
     "text": [
      "3-dimensional grid geenrated at 0.73s\n",
      "Convexhull is computed at 7.90s\n",
      "Simplices are labelled at 26.77s\n"
     ]
    },
    {
     "data": {
      "application/vnd.jupyter.widget-view+json": {
       "model_id": "affa8f5e72dd40e3aafca50071b3b6b2",
       "version_major": 2,
       "version_minor": 0
      },
      "text/plain": [
       "Canvas(toolbar=Toolbar(toolitems=[('Home', 'Reset original view', 'home', 'home'), ('Back', 'Back to previous …"
      ]
     },
     "metadata": {},
     "output_type": "display_data"
    }
   ],
   "source": [
    "# plot the phase diagram for only polymer, small molecule and solvent\n",
    "configuration = {'M':[1,100,5], 'chi':get_chi_vector([delta_P3HT, delta_PC71BM,delta_solvent11])[0]}\n",
    "#configuration = {'M':[5,100,1], 'chi':[0.35,0.96,0.78]}\n",
    "pm3 = PhaseModelling(3,configuration,meshsize=300, refine_simplices=True)\n",
    "num_comps = pm3.run()\n",
    "plt.close()\n",
    "fig = plt.figure()\n",
    "ax = fig.add_subplot(111)\n",
    "ax, cbar = pm3.plot(ax=ax)\n",
    "plt.show()"
   ]
  },
  {
   "cell_type": "code",
   "execution_count": 62,
   "metadata": {},
   "outputs": [
    {
     "data": {
      "text/plain": [
       "[0.782292680096468, 0.955406905672781, 0.354263014319142]"
      ]
     },
     "execution_count": 62,
     "metadata": {},
     "output_type": "execute_result"
    }
   ],
   "source": [
    "get_chi_vector([delta_P3HT, delta_PC71BM,delta_solvent11])[0]"
   ]
  },
  {
   "cell_type": "code",
   "execution_count": null,
   "metadata": {},
   "outputs": [],
   "source": []
  }
 ],
 "metadata": {
  "kernelspec": {
   "display_name": "Python 3",
   "language": "python",
   "name": "python3"
  },
  "language_info": {
   "codemirror_mode": {
    "name": "ipython",
    "version": 3
   },
   "file_extension": ".py",
   "mimetype": "text/x-python",
   "name": "python",
   "nbconvert_exporter": "python",
   "pygments_lexer": "ipython3",
   "version": "3.7.3"
  }
 },
 "nbformat": 4,
 "nbformat_minor": 2
}

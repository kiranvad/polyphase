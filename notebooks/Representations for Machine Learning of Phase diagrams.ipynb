{
 "cells": [
  {
   "cell_type": "code",
   "execution_count": 1,
   "metadata": {},
   "outputs": [],
   "source": [
    "%load_ext autoreload\n",
    "%autoreload 2"
   ]
  },
  {
   "cell_type": "code",
   "execution_count": 2,
   "metadata": {},
   "outputs": [],
   "source": [
    "import numpy as np\n",
    "import pandas as pd\n",
    "import pdb\n",
    "\n",
    "from matplotlib import rc\n",
    "rc('text', usetex=True)\n",
    "import matplotlib.pyplot as plt\n",
    "from pprint import pprint\n",
    "\n",
    "import polyphase as phase"
   ]
  },
  {
   "cell_type": "code",
   "execution_count": 3,
   "metadata": {},
   "outputs": [
    {
     "name": "stdout",
     "output_type": "stream",
     "text": [
      "'M:64,1,1\\n$\\\\chi$: 1.00,0.30,0.20'\n",
      "{'beta': 0.0001,\n",
      " 'flag_lift_label': True,\n",
      " 'flag_lift_purecomp_energy': False,\n",
      " 'flag_make_energy_paraboloid': True,\n",
      " 'flag_remove_collinear': False,\n",
      " 'thresh': 1,\n",
      " 'use_weighted_delaunay': False}\n"
     ]
    },
    {
     "ename": "RayConnectionError",
     "evalue": "Ray has not been started yet. You can start Ray with 'ray.init()'.",
     "output_type": "error",
     "traceback": [
      "\u001b[0;31m---------------------------------------------------------------------------\u001b[0m",
      "\u001b[0;31mRayConnectionError\u001b[0m                        Traceback (most recent call last)",
      "\u001b[0;32m<ipython-input-3-8d0f15213557>\u001b[0m in \u001b[0;36m<module>\u001b[0;34m\u001b[0m\n\u001b[1;32m     21\u001b[0m          'thresh':1}\n\u001b[1;32m     22\u001b[0m \u001b[0mpprint\u001b[0m\u001b[0;34m(\u001b[0m\u001b[0mkwargs\u001b[0m\u001b[0;34m)\u001b[0m\u001b[0;34m\u001b[0m\u001b[0;34m\u001b[0m\u001b[0m\n\u001b[0;32m---> 23\u001b[0;31m \u001b[0mout\u001b[0m \u001b[0;34m=\u001b[0m \u001b[0mphase\u001b[0m\u001b[0;34m.\u001b[0m\u001b[0mcompute\u001b[0m\u001b[0;34m(\u001b[0m\u001b[0;36m3\u001b[0m\u001b[0;34m,\u001b[0m \u001b[0mconfiguration\u001b[0m\u001b[0;34m,\u001b[0m \u001b[0mdx\u001b[0m\u001b[0;34m,\u001b[0m  \u001b[0;34m**\u001b[0m\u001b[0mkwargs\u001b[0m\u001b[0;34m)\u001b[0m\u001b[0;34m\u001b[0m\u001b[0;34m\u001b[0m\u001b[0m\n\u001b[0m\u001b[1;32m     24\u001b[0m \u001b[0mgrid\u001b[0m \u001b[0;34m=\u001b[0m \u001b[0mout\u001b[0m\u001b[0;34m[\u001b[0m\u001b[0;34m'grid'\u001b[0m\u001b[0;34m]\u001b[0m\u001b[0;34m\u001b[0m\u001b[0;34m\u001b[0m\u001b[0m\n\u001b[1;32m     25\u001b[0m \u001b[0mnum_comps\u001b[0m \u001b[0;34m=\u001b[0m \u001b[0mout\u001b[0m\u001b[0;34m[\u001b[0m\u001b[0;34m'num_comps'\u001b[0m\u001b[0;34m]\u001b[0m\u001b[0;34m\u001b[0m\u001b[0;34m\u001b[0m\u001b[0m\n",
      "\u001b[0;32m/projects/academic/olgawodo/kiranvad/Projects/Spring2020/PhaseModelling/polyphase/parphase.py\u001b[0m in \u001b[0;36mcompute\u001b[0;34m(dimensions, configuration, meshsize, flag_refine_simplices, flag_lift_label, lift_grid_size, use_weighted_delaunay, **kwargs)\u001b[0m\n\u001b[1;32m    281\u001b[0m     \u001b[0mgrid\u001b[0m \u001b[0;34m=\u001b[0m \u001b[0mmakegridnd\u001b[0m\u001b[0;34m(\u001b[0m\u001b[0mmeshsize\u001b[0m\u001b[0;34m,\u001b[0m \u001b[0mdimensions\u001b[0m\u001b[0;34m)\u001b[0m\u001b[0;34m\u001b[0m\u001b[0;34m\u001b[0m\u001b[0m\n\u001b[1;32m    282\u001b[0m     \u001b[0moutdict\u001b[0m\u001b[0;34m[\u001b[0m\u001b[0;34m'grid'\u001b[0m\u001b[0;34m]\u001b[0m \u001b[0;34m=\u001b[0m \u001b[0mgrid\u001b[0m\u001b[0;34m\u001b[0m\u001b[0;34m\u001b[0m\u001b[0m\n\u001b[0;32m--> 283\u001b[0;31m     \u001b[0mgrid_ray\u001b[0m \u001b[0;34m=\u001b[0m \u001b[0mray\u001b[0m\u001b[0;34m.\u001b[0m\u001b[0mput\u001b[0m\u001b[0;34m(\u001b[0m\u001b[0mgrid\u001b[0m\u001b[0;34m)\u001b[0m\u001b[0;34m\u001b[0m\u001b[0;34m\u001b[0m\u001b[0m\n\u001b[0m\u001b[1;32m    284\u001b[0m     \u001b[0mlap\u001b[0m \u001b[0;34m=\u001b[0m \u001b[0mtime\u001b[0m\u001b[0;34m.\u001b[0m\u001b[0mtime\u001b[0m\u001b[0;34m(\u001b[0m\u001b[0;34m)\u001b[0m\u001b[0;34m\u001b[0m\u001b[0;34m\u001b[0m\u001b[0m\n\u001b[1;32m    285\u001b[0m     \u001b[0mprint\u001b[0m\u001b[0;34m(\u001b[0m\u001b[0;34m'{}-dimensional grid generated at {:.2f}s'\u001b[0m\u001b[0;34m.\u001b[0m\u001b[0mformat\u001b[0m\u001b[0;34m(\u001b[0m\u001b[0mdimensions\u001b[0m\u001b[0;34m,\u001b[0m\u001b[0mlap\u001b[0m\u001b[0;34m-\u001b[0m\u001b[0msince\u001b[0m\u001b[0;34m)\u001b[0m\u001b[0;34m)\u001b[0m\u001b[0;34m\u001b[0m\u001b[0;34m\u001b[0m\u001b[0m\n",
      "\u001b[0;32m/projects/academic/olgawodo/kiranvad/anaconda3/lib/python3.7/site-packages/ray/worker.py\u001b[0m in \u001b[0;36mput\u001b[0;34m(value, weakref)\u001b[0m\n\u001b[1;32m   1501\u001b[0m     \"\"\"\n\u001b[1;32m   1502\u001b[0m     \u001b[0mworker\u001b[0m \u001b[0;34m=\u001b[0m \u001b[0mglobal_worker\u001b[0m\u001b[0;34m\u001b[0m\u001b[0;34m\u001b[0m\u001b[0m\n\u001b[0;32m-> 1503\u001b[0;31m     \u001b[0mworker\u001b[0m\u001b[0;34m.\u001b[0m\u001b[0mcheck_connected\u001b[0m\u001b[0;34m(\u001b[0m\u001b[0;34m)\u001b[0m\u001b[0;34m\u001b[0m\u001b[0;34m\u001b[0m\u001b[0m\n\u001b[0m\u001b[1;32m   1504\u001b[0m     \u001b[0;32mwith\u001b[0m \u001b[0mprofiling\u001b[0m\u001b[0;34m.\u001b[0m\u001b[0mprofile\u001b[0m\u001b[0;34m(\u001b[0m\u001b[0;34m\"ray.put\"\u001b[0m\u001b[0;34m)\u001b[0m\u001b[0;34m:\u001b[0m\u001b[0;34m\u001b[0m\u001b[0;34m\u001b[0m\u001b[0m\n\u001b[1;32m   1505\u001b[0m         \u001b[0;32mtry\u001b[0m\u001b[0;34m:\u001b[0m\u001b[0;34m\u001b[0m\u001b[0;34m\u001b[0m\u001b[0m\n",
      "\u001b[0;32m/projects/academic/olgawodo/kiranvad/anaconda3/lib/python3.7/site-packages/ray/worker.py\u001b[0m in \u001b[0;36mcheck_connected\u001b[0;34m(self)\u001b[0m\n\u001b[1;32m    206\u001b[0m         \"\"\"\n\u001b[1;32m    207\u001b[0m         \u001b[0;32mif\u001b[0m \u001b[0;32mnot\u001b[0m \u001b[0mself\u001b[0m\u001b[0;34m.\u001b[0m\u001b[0mconnected\u001b[0m\u001b[0;34m:\u001b[0m\u001b[0;34m\u001b[0m\u001b[0;34m\u001b[0m\u001b[0m\n\u001b[0;32m--> 208\u001b[0;31m             raise RayConnectionError(\"Ray has not been started yet. You can \"\n\u001b[0m\u001b[1;32m    209\u001b[0m                                      \"start Ray with 'ray.init()'.\")\n\u001b[1;32m    210\u001b[0m \u001b[0;34m\u001b[0m\u001b[0m\n",
      "\u001b[0;31mRayConnectionError\u001b[0m: Ray has not been started yet. You can start Ray with 'ray.init()'."
     ]
    }
   ],
   "source": [
    "dimensions = 3\n",
    "\n",
    "config_list = [{'M':np.array([64,1,1]), 'chi': [1.0,0.3,0.2] },\n",
    "               {'M':np.array([5,5,1]), 'chi': [1.0,0.5,0.5]}, \n",
    "              {'M':np.array([20,20,1]), 'chi': [1.0,0.5,0.5]}, \n",
    "               {'M':np.array([946,12,1]), 'chi': [0.43,0.45,0.60]}, # penn state example\n",
    "               {'M':np.array([20,7,1]), 'chi': [1.0,0.4,0.9]}, # Balaji Phafic bug\n",
    "               {'M':np.array([1,1,1]), 'chi': [2.31,2.31,2.31]} # Softmatter paper\n",
    "              ]\n",
    "   \n",
    "configuration = config_list[0]\n",
    "dop_str = 'M:' + ','.join('{}'.format(m) for m in configuration['M'])\n",
    "chi_str = r'$\\chi$: ' + ','.join('{:.2f}'.format(c) for c in configuration['chi'])\n",
    "config_str = dop_str+'\\n'+chi_str\n",
    "\n",
    "dx = 100\n",
    "pprint(config_str)\n",
    "kwargs = {'flag_lift_label': True, 'use_weighted_delaunay': False,\\\n",
    "          'flag_remove_collinear' : False, 'beta':1e-4, \\\n",
    "          'flag_make_energy_paraboloid': True, 'flag_lift_purecomp_energy': False, \\\n",
    "         'thresh':1}\n",
    "pprint(kwargs)\n",
    "out = phase.compute(3, configuration, dx,  **kwargs)\n",
    "grid = out['grid']\n",
    "num_comps = out['num_comps']\n",
    "simplices = out['simplices']\n",
    "output = out['output']"
   ]
  },
  {
   "cell_type": "code",
   "execution_count": null,
   "metadata": {},
   "outputs": [],
   "source": [
    "ax, cbar = phase.plot_mpltern(grid, simplices, num_comps)\n",
    "plt.show()\n",
    "# fname = '../figures/06-23-2020-Verify/'+'params_{}'.format(i) + '.png'\n",
    "# plt.savefig(fname,dpi=500, bbox_inches='tight')\n",
    "# plt.show()"
   ]
  },
  {
   "cell_type": "code",
   "execution_count": 4,
   "metadata": {},
   "outputs": [
    {
     "name": "stdout",
     "output_type": "stream",
     "text": [
      "Total of 456 phase diagrams\n"
     ]
    }
   ],
   "source": [
    "import glob\n",
    "images_dir = '../figures/hteplots/*.png'\n",
    "\n",
    "images_list = sorted([file for file in glob.glob(images_dir)])\n",
    "\n",
    "print('Total of {} phase diagrams'.format(len(images_list)))\n"
   ]
  },
  {
   "cell_type": "code",
   "execution_count": 5,
   "metadata": {},
   "outputs": [],
   "source": [
    "import torch\n",
    "from PIL import Image\n",
    "import torchvision.transforms as transforms\n",
    "\n",
    "def img2tensor(image_file):\n",
    "    pil_image = Image.open(image_file)\n",
    "    p = transforms.Compose([transforms.Resize((64,64)), transforms.ToTensor()])\n",
    "    rgb_image_tensor = p(pil_image)[:3,:,:]\n",
    "    \n",
    "    return rgb_image_tensor\n",
    "\n",
    "def imshow_tensor(rgb_image_tensor):\n",
    "    plt.imshow(rgb_image_tensor.permute(1, 2, 0))\n",
    "    plt.axis('off')\n",
    "    plt.show()"
   ]
  },
  {
   "cell_type": "code",
   "execution_count": 6,
   "metadata": {},
   "outputs": [
    {
     "name": "stdout",
     "output_type": "stream",
     "text": [
      "0 DPP(PhTT)2 MDMO-PPV\n"
     ]
    },
    {
     "data": {
      "image/png": "[encoded data removed]",
      "text/plain": [
       "<Figure size 432x288 with 1 Axes>"
      ]
     },
     "metadata": {
      "needs_background": "light"
     },
     "output_type": "display_data"
    }
   ],
   "source": [
    "# Convert to a pytorch tensor\n",
    "# Based on : https://www.cs.virginia.edu/~vicente/recognition/notebooks/image_processing_lab.html\n",
    "\n",
    "import re\n",
    "tags = re.compile('../figures/hteplots/(.*)_(.*)_(.*).png')\n",
    "\n",
    "image_file = images_list[0]\n",
    "polymer, sm, solvent = tags.findall(image_file)[0]\n",
    "print(polymer, sm, solvent)\n",
    "rgb_image_tensor = img2tensor(image_file)\n",
    "imshow_tensor(rgb_image_tensor)"
   ]
  },
  {
   "cell_type": "code",
   "execution_count": 7,
   "metadata": {},
   "outputs": [],
   "source": [
    "from numpy.linalg import norm\n",
    "\n",
    "def distance_image(candidate, query):\n",
    "    img1 = img2tensor(candidate[0])\n",
    "    img2 = img2tensor(query[0])\n",
    "    diff = img1 - img2\n",
    "    dist = norm(diff)\n",
    "    \n",
    "    return dist"
   ]
  },
  {
   "cell_type": "code",
   "execution_count": 15,
   "metadata": {},
   "outputs": [],
   "source": [
    "from scipy.spatial.distance import pdist, squareform, euclidean\n",
    "import ray\n",
    "import time\n",
    "from collections import Counter\n",
    "\n",
    "@ray.remote\n",
    "def get_distance_row(data, metric, rowid, triuids):\n",
    "    \n",
    "    rowid_flags = triuids[0]\n",
    "    rows = triuids[0][rowid_flags==rowid]\n",
    "    cols = triuids[1][rowid_flags==rowid]\n",
    "    dist_row = []\n",
    "    for r,c in zip(rows, cols):\n",
    "        dist_row.append(metric(data[r,:], data[c,:]))\n",
    "                        \n",
    "    return dist_row\n",
    "\n",
    "def get_distance_matrix(X, metric):\n",
    "    ray.init(ignore_reinit_error=True)\n",
    "    print('Following nodes are connected: ')\n",
    "    print(ray.services.get_node_ip_address())\n",
    "    \n",
    "    start = time.time()\n",
    "    n_samples, n_features = X.shape\n",
    "    nC2 = 0.5*(n_samples*(n_samples-1))\n",
    "    iu = np.triu_indices(n_samples,1)\n",
    "    iu_ray = ray.put(iu)\n",
    "    row_ids = np.unique(iu[0])\n",
    "    \n",
    "    dist_ray = [get_distance_row.remote(X, metric, rowid, iu_ray) for rowid in row_ids]\n",
    "    dist = np.hstack(ray.get(dist_ray))\n",
    "    \n",
    "    assert nC2==len(dist), \"Not all the reduced distances are returned\"\n",
    "    \n",
    "    D = squareform(dist)\n",
    "    \n",
    "    assert n_samples==np.shape(D)[0] , \"Shape of distance matrix is not {}x{}\".format(n_samples)\n",
    "    \n",
    "    del dist_ray, iu_ray \n",
    "    \n",
    "    end = time.time()\n",
    "    print('Computation took : {:.2f} sec'.format(end-start))\n",
    "    \n",
    "    ray.shutdown()\n",
    "    \n",
    "    return D  "
   ]
  },
  {
   "cell_type": "code",
   "execution_count": 16,
   "metadata": {},
   "outputs": [
    {
     "name": "stderr",
     "output_type": "stream",
     "text": [
      "2020-08-12 15:50:06,767\tINFO resource_spec.py:212 -- Starting Ray with 26.66 GiB memory available for workers and up to 13.35 GiB for objects. You can adjust these settings with ray.init(memory=<bytes>, object_store_memory=<bytes>).\n",
      "2020-08-12 15:50:07,034\tWARNING services.py:923 -- Redis failed to start, retrying now.\n",
      "2020-08-12 15:50:07,246\tINFO services.py:1165 -- View the Ray dashboard at \u001b[1m\u001b[32mlocalhost:8265\u001b[39m\u001b[22m\n"
     ]
    },
    {
     "name": "stdout",
     "output_type": "stream",
     "text": [
      "Following nodes are connected: \n",
      "10.111.8.2\n",
      "Computation took : 45.44 sec\n",
      "(50, 50)\n"
     ]
    }
   ],
   "source": [
    "X = np.asarray(images_list[:50]).reshape(-1,1)\n",
    "M = get_distance_matrix(X, distance_image) \n",
    "print(M.shape)"
   ]
  },
  {
   "cell_type": "code",
   "execution_count": null,
   "metadata": {},
   "outputs": [],
   "source": [
    "from scipy.spatial.distance import pdist, squareform\n",
    "\n",
    "X = np.asarray(images_list).reshape(-1,1)\n",
    "D = pdist(X, distance_image)\n",
    "M = squareform(D)\n",
    "print(M.shape)"
   ]
  },
  {
   "cell_type": "code",
   "execution_count": 17,
   "metadata": {},
   "outputs": [
    {
     "name": "stdout",
     "output_type": "stream",
     "text": [
      "(456, 3)\n"
     ]
    }
   ],
   "source": [
    "import re\n",
    "tagger = re.compile('../figures/hteplots/(.*)_(.*)_(.*).png')\n",
    "\n",
    "tags_list = []\n",
    "for img in images_list:\n",
    "    tag = tagger.findall(img)\n",
    "    tags_list.append(tag[0])\n",
    "    \n",
    "tags_array = np.asarray(tags_list)\n",
    "print(tags_array.shape)"
   ]
  },
  {
   "cell_type": "code",
   "execution_count": 18,
   "metadata": {},
   "outputs": [],
   "source": [
    "from sklearn.manifold import TSNE\n",
    "X_emb = TSNE(n_components=2, metric='precomputed').fit_transform(M)"
   ]
  },
  {
   "cell_type": "code",
   "execution_count": 22,
   "metadata": {},
   "outputs": [],
   "source": [
    "import seaborn as sns\n",
    "\n",
    "sns.scatterplot(x=X_emb[:,0],y= X_emb[:,1], hue = tags_array[:50,0], palette=\"Set2\")\n",
    "plt.savefig('../figures/notebooks/tsne_hte_solvent.png', dpi=400)\n",
    "sns.scatterplot(x=X_emb[:,0],y= X_emb[:,1], hue = tags_array[:50,1], palette=\"Set2\")\n",
    "plt.savefig('../figures/notebooks/tsne_hte_smallmolecule.png', dpi=400)\n",
    "sns.scatterplot(x=X_emb[:,0],y= X_emb[:,1], hue = tags_array[:50,2], palette=\"Set2\")\n",
    "plt.savefig('../figures/notebooks/tsne_hte_polymer.png', dpi=400)\n",
    "plt.close('all')"
   ]
  },
  {
   "cell_type": "code",
   "execution_count": null,
   "metadata": {},
   "outputs": [],
   "source": []
  }
 ],
 "metadata": {
  "kernelspec": {
   "display_name": "Python 3",
   "language": "python",
   "name": "python3"
  },
  "language_info": {
   "codemirror_mode": {
    "name": "ipython",
    "version": 3
   },
   "file_extension": ".py",
   "mimetype": "text/x-python",
   "name": "python",
   "nbconvert_exporter": "python",
   "pygments_lexer": "ipython3",
   "version": "3.7.7"
  }
 },
 "nbformat": 4,
 "nbformat_minor": 2
}

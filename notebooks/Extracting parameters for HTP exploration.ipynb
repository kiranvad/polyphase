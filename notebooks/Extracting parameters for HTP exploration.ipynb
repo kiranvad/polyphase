{
 "cells": [
  {
   "cell_type": "code",
   "execution_count": 1,
   "metadata": {},
   "outputs": [],
   "source": [
    "%load_ext autoreload\n",
    "%autoreload 2"
   ]
  },
  {
   "cell_type": "code",
   "execution_count": 2,
   "metadata": {},
   "outputs": [],
   "source": [
    "import pickle\n",
    "import glob\n",
    "import pdb\n",
    "import re\n",
    "import matplotlib.pyplot as plt\n",
    "import pandas as pd\n",
    "import numpy as np\n",
    "from matplotlib import rc\n",
    "rc('text', usetex=False)\n",
    "\n",
    "from polyphase import get_chi_vector, timer\n",
    "import pickle"
   ]
  },
  {
   "cell_type": "markdown",
   "metadata": {},
   "source": [
    "# Final version of HTE data\n",
    "This version contains `molecular weight` and `density` values for each polymer, small molecule and solvent."
   ]
  },
  {
   "cell_type": "code",
   "execution_count": 3,
   "metadata": {},
   "outputs": [],
   "source": [
    "SM = [['PC61BM',19.89,5.68,3.64,915.91,1],\n",
    "      ['PC71BM',20.16,5.37,4.49,1030.99,1],\n",
    "      ['DPP(TBFu)2',19.33,4.78,6.26,757,1],\n",
    "      ['DPP(PhTT)2',19.64,3.54,6.12,757,1],\n",
    "      ['Y6',18.98,3.72,3.44,1452,1.3659],\n",
    "      ['IDTBR',19.6,4.6,2.9,1326.03,1],\n",
    "      ['IDIC',18.7,7.2,4.5,1011,1]\n",
    "     ]\n",
    "\n",
    "polymers = [['MDMO-PPV',19.06,5.62,5.28,12e4,1],\n",
    "            ['MEH-PPV',19.06,5.38,5.44,7e4,1],\n",
    "            ['P3HT',18.56,2.88,3.19,1e4,1.15],\n",
    "            ['PFO',18.55,2.8,4.51,1.01e5,1.14],\n",
    "            ['PM6',18.37,4.36,4.19,1.06e5,1.2817],\n",
    "            ['PTB7-Th',18.56,2.3,3.21,5e4,1]\n",
    "           ]\n",
    "\n",
    "SM_df = pd.DataFrame.from_records(SM, columns=['name','dD','dP','dH','MW', 'rho'])\n",
    "polymer_df = pd.DataFrame.from_records(polymers, columns=['name','dD','dP','dH','MW', 'rho'])\n",
    "solvents_hspip = pd.read_excel('../data/HSP_Calculations.xlsx',sheet_name='solvents')"
   ]
  },
  {
   "cell_type": "code",
   "execution_count": 5,
   "metadata": {},
   "outputs": [],
   "source": [
    "solvents_gomez_tab =[\n",
    "    ['DIO_EXPT',17.6,4.8,4.6,198.9],\n",
    "    ['CF_EXPT',17.8,3.1,5.7,80.5],\n",
    "    ['CB_EXPT',19,4.3,2,102.1],\n",
    "    ['DCB_EXPT',19.2,6.3,3.3,113],\n",
    "    ['TCB_EXPT',20.2,4.2,3.2,125.5],\n",
    "    ['CN_EXPT',19.9,4.9,2.5,136.3],\n",
    "    ['Tol_EXPT',18,1.4,2,106.6],\n",
    "    ['PDMS_EXPT',16,0.1,4.7,93.3],\n",
    "    ['NMP_EXPT',18,12.3,7.2,96.2],\n",
    "    ['Ace_EXPT',15.5,10.4,7,73.8]\n",
    "]\n",
    "solvents_gomez = pd.DataFrame.from_records(solvents_gomez_tab, columns=['Solvents','dD','dP','dH','MVol'])\n",
    "solvents = pd.concat([solvents_hspip,solvents_gomez]).reset_index(drop=True)"
   ]
  },
  {
   "cell_type": "code",
   "execution_count": 8,
   "metadata": {},
   "outputs": [
    {
     "name": "stdout",
     "output_type": "stream",
     "text": [
      "                                     Solvents    dD    dP    dH   MVol\n",
      "0                                     Acetone  15.5  10.4   7.0   73.8\n",
      "1                                Acetonitrile  15.3  18.0   6.1   52.9\n",
      "2                              n-Amyl Acetate  15.8   3.3   6.1  148.0\n",
      "3                              n-Amyl Alcohol  15.9   5.9  13.9  108.6\n",
      "4                                     Benzene  18.4   0.0   2.0   52.9\n",
      "5                              Benzyl Alcohol  18.4   6.3  13.7  103.8\n",
      "6                             Benzyl Benzoate  20.0   5.1   5.2  190.3\n",
      "7                                   1-Butanol  16.0   5.7  15.8   92.0\n",
      "8                                   2-Butanol  15.8   5.7  14.5   92.0\n",
      "9                             n-Butyl Acetate  15.8   3.7   6.3  132.6\n",
      "10                            t-Butyl Acetate  15.0   3.7   6.0  134.8\n",
      "11                            t-Butyl Alcohol  15.2   5.1  14.7   96.0\n",
      "12                             Butyl Benzoate  18.3   5.6   5.5  178.1\n",
      "13                     Butyl Diglycol Acetate  16.0   4.1   8.2  208.2\n",
      "14                       Butyl Glycol Acetate  15.3   7.5   6.8  171.2\n",
      "15                         n-Butyl Propionate  15.7   5.5   5.9  149.3\n",
      "16                     Caprolactone (Epsilon)  19.7  15.0   7.4  110.8\n",
      "17                                 Chloroform  17.8   3.1   5.7   80.5\n",
      "18                                   m-Cresol  18.5   6.5  13.7  105.0\n",
      "19                                Cyclohexane  16.8   0.0   0.2  108.9\n",
      "20                               Cyclohexanol  17.4   4.1  13.5  105.7\n",
      "21                              Cyclohexanone  17.8   8.4   5.1  104.2\n",
      "22                         Di-isoButyl Ketone  16.0   3.7   4.1  177.4\n",
      "23                          Diacetone Alcohol  15.8   8.2  10.8  124.3\n",
      "24                              Diethyl Ether  14.5   2.9   4.6  104.7\n",
      "25          Diethylene Glycol Monobutyl Ether  16.0   7.0  10.6  170.4\n",
      "26                       Dimethyl Cyclohexane  16.1   0.0   1.1  140.0\n",
      "27                  Dimethyl Sulfoxide (DMSO)  18.4  16.4  10.2   71.3\n",
      "28                                1,4-Dioxane  17.5   1.8   9.0   85.7\n",
      "29                              1,3-Dioxolane  18.1   6.6   9.3   69.9\n",
      "30                         Dipropylene Glycol  16.5  10.6  17.7  131.8\n",
      "31            Dipropylene Glycol Methyl Ether  15.5   5.7  11.2  156.1\n",
      "32      Dipropylene Glycol Mono n-Butyl Ether  15.7   6.5  10.0  211.2\n",
      "33                                    Ethanol  15.8   8.8  19.4   58.6\n",
      "34                              Ethyl Acetate  15.8   5.3   7.2   98.6\n",
      "35                              Ethyl Benzene  17.8   0.6   1.4  122.8\n",
      "36                              Ethyl Lactate  16.0   7.6  12.5  115.0\n",
      "37                         Ethylene Carbonate  18.0  21.7   5.1   66.0\n",
      "38                            Ethylene Glycol  17.0  11.0  26.0   55.9\n",
      "39            Ethylene Glycol Monobutyl Ether  16.0   5.1  12.3  132.0\n",
      "40           Ethylene Glycol Monomethyl Ether  16.0   8.2  15.0   79.3\n",
      "41                  gamma-Butyrolactone (GBL)  18.0  16.6   7.4   76.5\n",
      "42                         Glycerol Carbonate  17.9  25.5  17.4   83.2\n",
      "43                                    Heptane  15.3   0.0   0.0  147.0\n",
      "44                                     Hexane  14.9   0.0   0.0  131.4\n",
      "45                                Iso-Butanol  15.1   5.7  15.9   92.9\n",
      "46                      Iso-Butyl Isobutyrate  15.1   2.8   5.8  169.8\n",
      "47                         Iso-Pentyl Acetate  15.3   3.1   7.0  150.2\n",
      "48                         iso-Pentyl Alcohol  15.8   5.2  13.3  109.3\n",
      "49                         Iso-Propyl Acetate  14.9   4.5   8.2  117.1\n",
      "50                           Iso-Propyl Ether  15.1   3.2   3.2  141.8\n",
      "51                                 Isophorone  17.0   8.0   5.0  150.3\n",
      "52                                 d-Limonene  17.2   1.8   4.3  162.9\n",
      "53                                   Methanol  14.7  12.3  22.3   40.6\n",
      "54                             Methyl Acetate  15.5   7.2   7.6   79.8\n",
      "55                            Methyl Carbitol  16.2   7.8  12.6  118.2\n",
      "56                          Methyl Cellosolve  16.0   8.2  15.0   79.3\n",
      "57                         Methyl Cyclohexane  16.0   0.0   1.0  128.2\n",
      "58                  Methyl Ethyl Ketone (MEK)  16.0   9.0   5.1   90.2\n",
      "59                     Methyl iso-Amyl Ketone  16.0   5.7   4.1  141.3\n",
      "60                  Methyl iso-Butyl Carbinol  15.4   3.3  12.3  127.2\n",
      "61             Methyl Iso-Butyl Ketone (MIBK)  15.3   6.1   4.1  125.8\n",
      "62                              Methyl Oleate  16.2   3.8   4.5  340.7\n",
      "63                       Methyl Propyl Ketone  16.0   7.6   4.7  107.3\n",
      "64               N-Methyl-2-Pyrrolidone (NMP)  18.0  12.3   7.2   96.6\n",
      "65                         Methylene Chloride  17.0   7.3   7.1   64.4\n",
      "66                     N,N-Dimethyl Acetamide  16.8  11.5  10.2   93.0\n",
      "67               N,N-Dimethyl Formamide (DMF)  17.4  13.7  11.3   77.4\n",
      "68                             1-Nitropropane  16.6  12.3   5.5   89.5\n",
      "69                          2-Phenoxy Ethanol  17.8   5.7  14.3  124.7\n",
      "70                                 2-Propanol  15.8   6.1  16.4   76.9\n",
      "71                                 1-Propanol  16.0   6.8  17.4   75.1\n",
      "72                           n-Propyl Acetate  15.3   4.3   7.6  115.8\n",
      "73                        n-Propyl Propanoate  15.5   5.6   5.7  132.5\n",
      "74                        Propylene Carbonate  20.0  18.0   4.1   85.2\n",
      "75           Propylene Glycol Monobutyl Ether  15.3   4.5   9.2  132.0\n",
      "76   Propylene Glycol Monoethyl Ether Acetate  15.6   6.3   7.7  155.1\n",
      "77          Propylene Glycol Monomethyl Ether  15.6   6.3  11.6   98.2\n",
      "78  Propylene Glycol Monomethyl Ether Acetate  15.6   5.6   9.8  137.1\n",
      "79              Propylene Glycol Phenyl Ether  17.4   5.3  11.5  143.2\n",
      "80                          sec-Butyl Acetate  15.0   3.7   7.6  134.0\n",
      "81         Sulfolane (Tetramethylene Sulfone)  18.0  18.0   9.9   95.3\n",
      "82                      Tetrahydrofuran (THF)  16.8   5.7   8.0   81.9\n",
      "83                 Tetrahydrofurfuryl Alcohol  17.8   8.2  12.9   97.4\n",
      "84                                    Toluene  18.0   1.4   2.0  106.6\n",
      "85                                     Xylene  17.6   1.0   3.1  123.9\n",
      "86                                   DIO_EXPT  17.6   4.8   4.6  198.9\n",
      "87                                    CF_EXPT  17.8   3.1   5.7   80.5\n",
      "88                                    CB_EXPT  19.0   4.3   2.0  102.1\n",
      "89                                   DCB_EXPT  19.2   6.3   3.3  113.0\n",
      "90                                   TCB_EXPT  20.2   4.2   3.2  125.5\n",
      "91                                    CN_EXPT  19.9   4.9   2.5  136.3\n",
      "92                                   Tol_EXPT  18.0   1.4   2.0  106.6\n",
      "93                                  PDMS_EXPT  16.0   0.1   4.7   93.3\n",
      "94                                   NMP_EXPT  18.0  12.3   7.2   96.2\n",
      "95                                   Ace_EXPT  15.5  10.4   7.0   73.8\n"
     ]
    }
   ],
   "source": [
    "with pd.option_context('display.max_rows', None, 'display.max_columns', None): \n",
    "    print(solvents)"
   ]
  },
  {
   "cell_type": "code",
   "execution_count": null,
   "metadata": {},
   "outputs": [],
   "source": [
    "from itertools import product\n",
    "\n",
    "def get_system(indx):\n",
    "    delta_solvent = solvents.loc[indx[0],['dD','dP','dH']].tolist()\n",
    "    M_solv = 1\n",
    "    MVol = solvents.loc[indx[0],'MVol']\n",
    "\n",
    "    delta_sm = SM_df.loc[indx[1],['dD','dP','dH']].tolist()\n",
    "    M_sm = (SM_df.loc[indx[1],'MW']/SM_df.loc[indx[1],'rho'])*(1/MVol)\n",
    "    \n",
    "    delta_polymer = polymer_df.loc[indx[2],['dD','dP','dH']].tolist()\n",
    "    M_polymer = (polymer_df.loc[indx[2],'MW']/polymer_df.loc[indx[2],'rho'])*(1/MVol)\n",
    "    \n",
    "    M = [M_polymer, M_sm, M_solv]\n",
    "    chi = get_chi_vector([delta_polymer,delta_sm,delta_solvent], MVol, 2)[0]\n",
    "    out = [\n",
    "        solvents.loc[indx[0],'Solvents'],SM_df.loc[indx[1],'name'],polymer_df.loc[indx[2],'name'],\n",
    "        chi[0], chi[1], chi[2], M,\n",
    "        delta_solvent, delta_sm, delta_polymer, MVol\n",
    "    ]   \n",
    "    return out\n",
    "\n",
    "axes = [np.arange(0,len(solvents)),np.arange(0,len(SM_df)),np.arange(0,len(polymer_df))]\n",
    "hte_df = pd.DataFrame(get_system(i) for i in product(*axes))\n",
    "hte_df.columns =['solvent', 'SM','polymer','chi12','chi13','chi23','dop','delta_solv','delta_SM','delta_polymer','MVol'] \n",
    "hte_df.head()\n",
    "print('Total of {} systems'.format(len(hte_df)))"
   ]
  },
  {
   "cell_type": "code",
   "execution_count": null,
   "metadata": {},
   "outputs": [],
   "source": [
    "solvents.to_pickle('../data/solvents.pkl')\n",
    "polymer_df.to_pickle('../data/polymers.pkl')\n",
    "SM_df.to_pickle('../data/SM.pkl')"
   ]
  },
  {
   "cell_type": "code",
   "execution_count": null,
   "metadata": {},
   "outputs": [],
   "source": [
    "hte_df.to_csv('../data/htev4.csv')\n",
    "hte_df.to_pickle('../data/htev4.pkl')"
   ]
  },
  {
   "cell_type": "code",
   "execution_count": null,
   "metadata": {},
   "outputs": [],
   "source": [
    "PM6_Y6 = hte_df.loc[(hte_df['SM'] == 'Y6') & (hte_df['polymer'] == 'PM6')]\n",
    "dops = np.vstack(PM6_Y6['dop'].to_numpy())\n",
    "chis = np.vstack(PM6_Y6.loc[:,['chi12','chi13','chi23']].to_numpy())"
   ]
  },
  {
   "cell_type": "code",
   "execution_count": null,
   "metadata": {
    "scrolled": true
   },
   "outputs": [],
   "source": [
    "PM6_Y6[(PM6_Y6['solvent']=='Chloroform')]\n"
   ]
  },
  {
   "cell_type": "code",
   "execution_count": null,
   "metadata": {},
   "outputs": [],
   "source": [
    "# Visualize the solubulity space\n",
    "fig, ax = plt.subplots(figsize=(5,5), subplot_kw={'projection':'3d'})\n",
    "\n",
    "\n",
    "ax.scatter(sm[0], sm[1], sm[2], \n",
    "           marker='s',s=100,color='k',label='small molecule')\n",
    "ax.scatter(polymer[0], polymer[1], polymer[2],\n",
    "           marker='*',s=100,color='k',label='polymer') \n",
    "\n",
    "ax.set_xlabel(r'$\\delta_{D}$')\n",
    "ax.set_ylabel(r'$\\delta_{P}$')\n",
    "ax.set_zlabel(r'$\\delta_{H}$')\n",
    "\n",
    "fig.legend(ncol=2)\n",
    "touchup3d(ax)\n",
    "    \n",
    "if SAVE_FIGS:\n",
    "    plt.savefig('../figures/final/result2_PM6_Y6_DesignSpace.png', \n",
    "                dpi=400, bbox_inches='tight')\n",
    "else:\n",
    "    plt.show()"
   ]
  },
  {
   "cell_type": "code",
   "execution_count": null,
   "metadata": {},
   "outputs": [],
   "source": [
    "fig,ax = plt.subplots(figsize=(4*1.6,4))\n",
    "ax.hist(dops[:,:2].flatten(),density=False, bins=50)\n",
    "ax.set_xlabel('Degree of Polymerization')\n",
    "ax.set_ylabel('#Occurances')\n",
    "fig.suptitle('Histogram of all DOPs')\n",
    "plt.savefig('../figures/notebooks/4.png', dpi=400, bbox_inches='tight')\n",
    "plt.show()"
   ]
  },
  {
   "cell_type": "code",
   "execution_count": null,
   "metadata": {},
   "outputs": [],
   "source": [
    "fig, ax = plt.subplots(figsize=(4*1.6, 4), subplot_kw={'projection':'3d'})\n",
    "ax.scatter(chis[:,0], chis[:,1], chis[:,2])\n",
    "ax.set_xlabel(r'$\\chi_{12}$')\n",
    "ax.set_ylabel(r'$\\chi_{13}$')\n",
    "ax.set_zlabel(r'$\\chi_{23}$')\n",
    "fig.suptitle('Chi values for all solvents PM6 + Y6')\n",
    "plt.tight_layout()\n",
    "plt.savefig('../figures/notebooks/1.png', dpi=400, bbox_inches='tight')\n",
    "plt.show()\n",
    "\n",
    "fig, ax = plt.subplots(figsize=(4*1.6, 4))\n",
    "ax.scatter(dops[:,0], dops[:,1])\n",
    "ax.set_xlabel('Polymer')\n",
    "ax.set_ylabel('Small molecule')\n",
    "fig.suptitle('Degree of Polymerization values for all solvents PM6 + Y6')\n",
    "plt.savefig('../figures/notebooks/2.png', dpi=400, bbox_inches='tight')\n",
    "plt.show()\n",
    "\n",
    "fig, ax = plt.subplots(figsize=(4*1.6, 4), subplot_kw={'projection':'3d'})\n",
    "ax.scatter(solvents['dD'], solvents['dP'], solvents['dH'])\n",
    "ax.set_xlabel(r'$\\delta D$')\n",
    "ax.set_ylabel(r'$\\delta P$')\n",
    "ax.set_zlabel(r'$\\delta H$')\n",
    "fig.suptitle('Solubility values for all solvents')\n",
    "plt.tight_layout()\n",
    "plt.savefig('../figures/notebooks/3.png', dpi=400, bbox_inches='tight')\n",
    "plt.show()"
   ]
  },
  {
   "cell_type": "markdown",
   "metadata": {},
   "source": [
    "## Make a dataframe of HTE systems "
   ]
  },
  {
   "cell_type": "code",
   "execution_count": null,
   "metadata": {},
   "outputs": [],
   "source": [
    "solubs = pd.read_pickle('../expts/data/htpdata/solubility.pkl')\n"
   ]
  },
  {
   "cell_type": "code",
   "execution_count": null,
   "metadata": {},
   "outputs": [],
   "source": [
    "solub_sm = solubs['small molecules'].iloc[:,1:5]\n",
    "solub_polymer = solubs['polymers'].iloc[:,1:5]\n",
    "solub_solvent= solubs['solvents'].rename(columns={\"hydrogen\": \"dispersive\", \"dispersive\": \"hydrogen\"})\n",
    "solub_sm.loc[5]=['Y6',18.37,4.36,4.19]\n",
    "solub_polymer.loc[4] = ['PM6',19.98,3.72,3.44]"
   ]
  },
  {
   "cell_type": "code",
   "execution_count": null,
   "metadata": {},
   "outputs": [],
   "source": [
    "solub_polymer.loc[0].tolist()"
   ]
  },
  {
   "cell_type": "code",
   "execution_count": null,
   "metadata": {},
   "outputs": [],
   "source": [
    "from itertools import product\n",
    "\n",
    "def get_system(indx):\n",
    "    delta_solvent = solub_solvent.loc[indx[0]].tolist()\n",
    "    delta_sm = solub_sm.loc[indx[1]].tolist()[1:]\n",
    "    delta_polymer = solub_polymer.loc[indx[2]].tolist()[1:]\n",
    "    chi = get_chi_vector([delta_polymer,delta_sm,delta_solvent], 100, 2)[0]\n",
    "    out = [\n",
    "        indx[0],solub_sm['name'].loc[indx[1]],solub_polymer['name'].loc[indx[2]],\n",
    "        chi[0], chi[1], chi[2],\n",
    "        delta_solvent, delta_sm, delta_polymer\n",
    "    ]   \n",
    "    \n",
    "    return out\n",
    "\n",
    "axes = [np.arange(0,len(solub_solvent)),np.arange(0,len(solub_sm)),np.arange(0,len(solub_polymer))]\n",
    "allsys_df = pd.DataFrame(get_system(i) for i in product(*axes))\n",
    "allsys_df.columns =['solvent', 'SM','polymer','chi12','chi13','chi23','delta_solv','delta_SM','delta_polymer'] \n",
    "allsys_df.head()"
   ]
  },
  {
   "cell_type": "markdown",
   "metadata": {},
   "source": [
    "## Analysing phase diagrams using tSNE"
   ]
  },
  {
   "cell_type": "code",
   "execution_count": null,
   "metadata": {},
   "outputs": [],
   "source": [
    "with open('../expts/data/htpdata/solubility.pkl', 'rb') as handle:\n",
    "    data = pickle.load(handle)\n",
    "X_emb = np.load('../figures/notebooks/hte_tsne_Xembed.npy')"
   ]
  },
  {
   "cell_type": "code",
   "execution_count": null,
   "metadata": {},
   "outputs": [],
   "source": [
    "images_dir = '../figures/hteplots/*.png'\n",
    "images_list = sorted([file for file in glob.glob(images_dir)])\n",
    "print('Total of {} phase diagrams'.format(len(images_list)))\n",
    "\n",
    "tagger = re.compile('../figures/hteplots/(.*)_(.*)_(.*).png')\n",
    "\n",
    "tags_list = []\n",
    "for img in images_list:\n",
    "    tag = tagger.findall(img)\n",
    "    tags_list.append(tag[0])\n",
    "    \n",
    "df_tags = pd.DataFrame(tags_list, columns=['solvent','small molecule','polymer'])"
   ]
  },
  {
   "cell_type": "code",
   "execution_count": null,
   "metadata": {},
   "outputs": [],
   "source": [
    "fig, axs = plt.subplots(1,3, figsize=(4*3*1.6, 4), dpi=300)\n",
    "sns.distplot(data['solvents'].hydrogen, ax=axs[0])\n",
    "sns.distplot(data['solvents'].polar, ax=axs[1])\n",
    "sns.distplot(data['solvents'].dispersive, ax=axs[2])\n",
    "plt.show()"
   ]
  },
  {
   "cell_type": "code",
   "execution_count": null,
   "metadata": {},
   "outputs": [],
   "source": [
    "df_tags['solv_h'] = df_tags['solvent'].apply(lambda x: data['solvents'].hydrogen[int(x)])\n",
    "df_tags['solv_p'] = df_tags['solvent'].apply(lambda x: data['solvents'].polar[int(x)])\n",
    "df_tags['solv_d'] = df_tags['solvent'].apply(lambda x: data['solvents'].dispersive[int(x)])\n",
    "df_tags['tsne_x'] = X_emb[:,0]\n",
    "df_tags['tsne_y'] = X_emb[:,1]\n",
    "df_tags.head()"
   ]
  },
  {
   "cell_type": "markdown",
   "metadata": {},
   "source": [
    "It appears that solvents with `polar` component >20 are placed closer than to solvents with ~(0-5). Most of the solvents have `hydrophobic` component near ~(16-18) and are generally spread across and does not show any interesting trends.\n",
    "`dispersive` component also shows similar behavior : everything below 20 is seperated more or less"
   ]
  },
  {
   "cell_type": "code",
   "execution_count": null,
   "metadata": {},
   "outputs": [],
   "source": [
    "import pdb\n",
    "\n",
    "def add_chi_columns(row):\n",
    "    solvent, polymer, sm = int(row['solvent']),row['polymer'], row['small molecule']\n",
    "    delta_solvent = data['solvents'].loc[solvent].tolist()\n",
    "    delta_sm = data['small molecules'].loc[data['small molecules']['name']==sm].values[0][2:5].tolist()\n",
    "    delta_polymer = data['polymers'].loc[data['polymers']['name']==polymer].values[0][2:5].tolist()\n",
    "    chi = get_chi_vector([delta_polymer,delta_sm,delta_solvent], 100, 2)[0]\n",
    "    \n",
    "    return pd.Series(chi, index=['chi 12','chi 13', 'chi 23'])\n",
    "\n",
    "add_chi_columns(df_tags.loc[0])"
   ]
  },
  {
   "cell_type": "code",
   "execution_count": null,
   "metadata": {},
   "outputs": [],
   "source": [
    "df_chis = df_tags.apply(add_chi_columns, axis=1)\n",
    "df_tags = pd.concat([df_tags, df_chis], axis=1)"
   ]
  },
  {
   "cell_type": "code",
   "execution_count": null,
   "metadata": {},
   "outputs": [],
   "source": [
    "df_tags.head()"
   ]
  },
  {
   "cell_type": "code",
   "execution_count": null,
   "metadata": {},
   "outputs": [],
   "source": [
    "df_tags['solv_t'] = df_tags.apply(lambda x: np.linalg.norm(x.iloc[3:6]), axis=1)"
   ]
  },
  {
   "cell_type": "code",
   "execution_count": null,
   "metadata": {},
   "outputs": [],
   "source": [
    "# look at how the tsne plot embeds the solubility parameters of solvent\n",
    "fig, ax = plt.subplots(figsize=(5*1.6, 5),dpi=300)\n",
    "ax = sns.scatterplot(x='tsne_x', y= 'tsne_y', size='solv_h', hue='solv_t',\n",
    "                     sizes=(20, 200), data=df_tags, ax=ax, palette=\"RdBu\"\n",
    ")\n",
    "sns.despine()\n",
    "ax.legend(loc='center left', bbox_to_anchor=(1, 0.5), ncol=2)\n",
    "plt.show()"
   ]
  },
  {
   "cell_type": "code",
   "execution_count": null,
   "metadata": {},
   "outputs": [],
   "source": [
    "fig = plt.figure(figsize=(5*1.6, 5), dpi=300)\n",
    "ax = fig.add_subplot(111, projection='3d')\n",
    "ax.scatter(df_tags['chi 12'], df_tags['chi 13'], df_tags['chi 23'])\n",
    "\n",
    "ax.set_xlabel(r'$\\chi_{12}$')\n",
    "ax.set_ylabel(r'$\\chi_{13}$')\n",
    "ax.set_zlabel(r'$\\chi_{23}$')\n",
    "plt.show()"
   ]
  },
  {
   "cell_type": "markdown",
   "metadata": {},
   "source": [
    "## Plot triangualated surfaces\n",
    "\n",
    "We see a three phase regions in the phase diagram which means there's a big triangle connecting the three corners. But we still want to look at the expensive way of plotting energy surface as a triangulation in a interactive fashion and verify that !!!!"
   ]
  },
  {
   "cell_type": "code",
   "execution_count": null,
   "metadata": {},
   "outputs": [],
   "source": [
    "# pick a system with three phase region from the 1720 phase diagrams. Its actually the very first one\n",
    "from polyphase import compute\n",
    "\n",
    "chi = df_tags.iloc[0,-3:].to_list()\n",
    "kwargs = {'flag_lift_label': True, \n",
    "          'use_weighted_delaunay': False,\n",
    "          'flag_remove_collinear' : False, \n",
    "          'beta':1e-4, \n",
    "          'flag_make_energy_paraboloid': True, \n",
    "          'flag_lift_purecomp_energy': False}\n",
    "configuration = {'M':[100,5,1], 'chi':chi}\n",
    "dx=200\n",
    "outdict = compute(3, configuration,dx, **kwargs)"
   ]
  },
  {
   "cell_type": "code",
   "execution_count": null,
   "metadata": {},
   "outputs": [],
   "source": [
    "from polyphase import plot_triangulated_surface\n",
    "\n",
    "fname = '_'.join(i for i in df_tags.iloc[0,:3])\n",
    "x, y, z = outdict['grid'][0,:], outdict['grid'][1,:], outdict['energy']\n",
    "fig = plot_triangulated_surface(x,y, x,y,z)\n",
    "fig.update_layout(title=fname, scene=dict(\n",
    "    xaxis_title=\"Phi_1\",\n",
    "    yaxis_title=\"Phi_2\",\n",
    "    zaxis_title = \"Energy\"),\n",
    "    coloraxis_colorbar=dict(title='Energy'),\n",
    "    font=dict(\n",
    "        family=\"Courier New, monospace\",\n",
    "        size=18,\n",
    "        color=\"RebeccaPurple\")\n",
    ")\n",
    "fig.write_html('../figures/3dplots/{}.html'.format(fname))"
   ]
  },
  {
   "cell_type": "code",
   "execution_count": null,
   "metadata": {},
   "outputs": [],
   "source": [
    "import plotly.figure_factory as ff\n",
    "\n",
    "fname = '_'.join(i for i in df_tags.iloc[0,:3])\n",
    "x, y, z = outdict['grid'][0,:], outdict['grid'][1,:], outdict['energy']\n",
    "\n",
    "fig = ff.create_trisurf(x=x, y=y, z=z,\n",
    "                     simplices=outdict['simplices'])\n",
    "\n",
    "fig.add_trace(go.Scatter3d(x=x, y=y, z=z,mode='markers'))\n",
    "\n",
    "fig.update_layout(title=fname,scene=dict(\n",
    "    xaxis_title=\"Phi_1\",\n",
    "    yaxis_title=\"Phi_2\",\n",
    "    zaxis_title = \"Energy\"),\n",
    "    coloraxis_colorbar=dict(title='Energy'),\n",
    "    font=dict(\n",
    "        family=\"Courier New, monospace\",\n",
    "        size=18,\n",
    "        )\n",
    ")\n",
    "\n",
    "fig.write_html('../figures/3dplots/{}_convexhull.html'.format(fname))"
   ]
  },
  {
   "cell_type": "code",
   "execution_count": null,
   "metadata": {},
   "outputs": [],
   "source": []
  }
 ],
 "metadata": {
  "kernelspec": {
   "display_name": "polyphase",
   "language": "python",
   "name": "python3"
  },
  "language_info": {
   "codemirror_mode": {
    "name": "ipython",
    "version": 3
   },
   "file_extension": ".py",
   "mimetype": "text/x-python",
   "name": "python",
   "nbconvert_exporter": "python",
   "pygments_lexer": "ipython3",
   "version": "3.7.4"
  }
 },
 "nbformat": 4,
 "nbformat_minor": 2
}

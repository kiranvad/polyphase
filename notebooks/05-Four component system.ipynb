{
 "cells": [
  {
   "cell_type": "code",
   "execution_count": null,
   "metadata": {},
   "outputs": [],
   "source": [
    "%load_ext autoreload\n",
    "%autoreload 2"
   ]
  },
  {
   "cell_type": "code",
   "execution_count": null,
   "metadata": {},
   "outputs": [],
   "source": [
    "import numpy as np\n",
    "import polyphase\n",
    "import matplotlib.pyplot as plt\n",
    "%matplotlib inline\n",
    "\n",
    "from mpl_toolkits.mplot3d.art3d import Poly3DCollection\n",
    "from matplotlib.cm import ScalarMappable\n",
    "from matplotlib import colors"
   ]
  },
  {
   "cell_type": "code",
   "execution_count": null,
   "metadata": {},
   "outputs": [],
   "source": [
    "M = np.ones(4) \n",
    "chi = 3.10*np.ones(int(0.5*4*(4-1)))\n",
    "# M = [5,5,1,1] \n",
    "# chi = [1,0.5,0.5,0.5,0.5,1]\n",
    "\n",
    "f = lambda x : polyphase.flory_huggins(x, M, chi)\n",
    "engine = polyphase.PHASE(f,50,4)\n",
    "engine.compute()"
   ]
  },
  {
   "cell_type": "code",
   "execution_count": null,
   "metadata": {
    "scrolled": false
   },
   "outputs": [],
   "source": [
    "qtplot = polyphase.QuaternaryPlot(engine)\n",
    "t = 1.0\n",
    "[fig, axs, cbar] = qtplot.plot_simplices(sliceat=t)\n",
    "fig.suptitle('Sliced at z={:.2f}'.format(t))\n",
    "plt.show()\n"
   ]
  },
  {
   "cell_type": "code",
   "execution_count": null,
   "metadata": {},
   "outputs": [],
   "source": [
    "qtplot = polyphase.QuaternaryPlot(engine)\n",
    "t = 1.0\n",
    "[fig, axs, cbar] = qtplot.plot_points(sliceat=t)\n",
    "fig.suptitle('Sliced at z={:.2f}'.format(t))\n",
    "plt.show()"
   ]
  },
  {
   "cell_type": "code",
   "execution_count": null,
   "metadata": {},
   "outputs": [],
   "source": [
    "\"\"\"3D Contour plot notes\n",
    "\n",
    "from https://stackoverflow.com/a/32480062\n",
    "\n",
    "\"\"\"\n"
   ]
  },
  {
   "cell_type": "markdown",
   "metadata": {},
   "source": [
    "## From solvent solubulities"
   ]
  },
  {
   "cell_type": "code",
   "execution_count": null,
   "metadata": {},
   "outputs": [],
   "source": [
    "import pandas as pd\n",
    "\n",
    "solvents = pd.read_pickle('../data/solvents.pkl')\n",
    "polymers = pd.read_pickle('../data/polymers.pkl')\n",
    "SMs = pd.read_pickle('../data/SM.pkl')"
   ]
  },
  {
   "cell_type": "code",
   "execution_count": null,
   "metadata": {},
   "outputs": [],
   "source": [
    "polymer = polymers[polymers['name']=='PM6']\n",
    "sm = SMs[SMs['name']=='Y6']\n",
    "sol1 = solvents[solvents['Solvents']=='Butyl Benzoate']\n",
    "sol2 = solvents[solvents['Solvents']=='Acetone']"
   ]
  },
  {
   "cell_type": "code",
   "execution_count": null,
   "metadata": {},
   "outputs": [],
   "source": [
    "def get_system(polymer, sm, sol1, sol2):\n",
    "    delta_sol1 = sol1[['dD','dP','dH']].values[0]\n",
    "    M_sol1 = 1\n",
    "    M_ref = sol1['MVol'].values[0]\n",
    "    \n",
    "    delta_sol2 = sol2[['dD','dP','dH']].values[0]\n",
    "    M_sol2 = sol2['MVol'].values[0]/M_ref\n",
    "    \n",
    "    delta_sm = sm[['dD','dP','dH']].values[0]\n",
    "    M_sm = (sm['MW'].values[0]/sm['rho'].values[0])*(1/M_ref)\n",
    "    \n",
    "    delta_polymer = polymer[['dD','dP','dH']].values[0]\n",
    "    M_polymer = (polymer['MW'].values[0]/polymer['rho'].values[0])*(1/M_ref)\n",
    "    \n",
    "    M = [M_polymer, M_sm, M_sol1, M_sol2]\n",
    "    chi,inds = polyphase.get_chi_vector([delta_polymer,delta_sm,delta_sol1, delta_sol2], M_ref, approach=2)\n",
    "    \n",
    "    return M, chi, inds\n",
    "\n",
    "M, chi, inds = get_system(polymer, sm, sol1, sol2)"
   ]
  },
  {
   "cell_type": "code",
   "execution_count": null,
   "metadata": {},
   "outputs": [],
   "source": [
    "f = lambda x : polyphase.flory_huggins(x, M, chi)\n",
    "engine = polyphase.PHASE(f,50,4)\n",
    "engine.compute()\n",
    "engine.plotter()"
   ]
  },
  {
   "cell_type": "code",
   "execution_count": null,
   "metadata": {
    "scrolled": false
   },
   "outputs": [],
   "source": [
    "from IPython import display\n",
    "import time\n",
    "\n",
    "qtplot = polyphase.QuaternaryPlot(engine)\n",
    "for t in np.linspace(0.05,1,num=10):\n",
    "    qtplot.plot_simplices(sliceat=t)\n",
    "    display.display(plt.gcf())\n",
    "    display.clear_output(wait=True)"
   ]
  },
  {
   "cell_type": "code",
   "execution_count": null,
   "metadata": {},
   "outputs": [],
   "source": [
    "# plot the vertices of simplices\n",
    "fig, axs = plt.subplots(2,2,subplot_kw={'projection': '3d'}, figsize=(8,8))\n",
    "axs = axs.flatten()\n",
    "for ax in axs:\n",
    "    qtplot.add_outline(ax)\n",
    "for i, simplex in zip(qtplot.engine.num_comps,qtplot.engine.simplices):\n",
    "    simplex_vertices = [qtplot.engine.grid[:,x] for x in simplex]\n",
    "    v = np.asarray([qtplot.from4d23d(vertex) for vertex in simplex_vertices])\n",
    "    axs[int(i-1)].scatter(v[:,0],v[:,1],v[:,2],color=qtplot.phase_colors[int(i-1)])\n",
    "    \n",
    "plt.show()"
   ]
  },
  {
   "cell_type": "code",
   "execution_count": null,
   "metadata": {},
   "outputs": [],
   "source": []
  }
 ],
 "metadata": {
  "kernelspec": {
   "display_name": "polyphase",
   "language": "python",
   "name": "python3"
  },
  "language_info": {
   "codemirror_mode": {
    "name": "ipython",
    "version": 3
   },
   "file_extension": ".py",
   "mimetype": "text/x-python",
   "name": "python",
   "nbconvert_exporter": "python",
   "pygments_lexer": "ipython3",
   "version": "3.7.4"
  }
 },
 "nbformat": 4,
 "nbformat_minor": 2
}
